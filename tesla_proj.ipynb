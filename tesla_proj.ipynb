{
  "cells": [
    {
      "cell_type": "markdown",
      "metadata": {
        "id": "view-in-github",
        "colab_type": "text"
      },
      "source": [
        "<a href=\"https://colab.research.google.com/github/paul821/tesla_volatility_project/blob/main/tesla_proj.ipynb\" target=\"_parent\"><img src=\"https://colab.research.google.com/assets/colab-badge.svg\" alt=\"Open In Colab\"/></a>"
      ]
    },
    {
      "cell_type": "markdown",
      "metadata": {
        "id": "K4L6Teh4qzTF"
      },
      "source": [
        "**Project Overview: Investigating the Impact of Musk Factor and Relation with Meta on Tesla Stock Volatility**\n",
        "\n",
        "Objective:\n",
        "The objective of this comprehensive project is to investigate the impact of two key factors on Tesla stock volatility:\n",
        "1. The Musk factor: Analyze the difference in volatility patterns before and after the event of Elon Musk becoming the largest shareholder of Twitter.\n",
        "2. The relation with Meta: Examine the cointegration and volatility dynamics between Tesla and Meta stock.\n",
        "\n",
        "Methodology:\n",
        "1. **Data Preparation and LSTM Model Creation:**\n",
        "\n",
        "- Prepare data for LSTM modeling for both pre-Musk and post-Musk periods.\n",
        "- Define a function create_lstm_model to create an LSTM model with customizable hyperparameters.\n",
        "2. **Hyperparameter Optimization using Grid Search:**\n",
        "\n",
        "- Perform Grid Search with Cross-Validation to find the best hyperparameters for the LSTM model.\n",
        "- Grid search includes different numbers of LSTM units and learning rates.\n",
        "3. **LSTM Model Training and Prediction:**\n",
        "\n",
        "- Train the best LSTM model with optimized hyperparameters for both pre-Musk and post-Musk periods.\n",
        "- Make predictions using the trained LSTM models.\n",
        "4. **Performance Evaluation:**\n",
        "\n",
        "- Calculate the Root Mean Squared Error (RMSE) for both pre-Musk and post-Musk predictions.\n",
        "- Calculate accuracy as a percentage based on RMSE and observed range.\n",
        "5. **Cointegration and Volatility Analysis:**\n",
        "\n",
        "- Check for cointegration between Tesla and Meta using statistical tests.\n",
        "- Estimate bootstrapped volatility for cointegrated assets.\n",
        "- Analyze the impact of cointegration residuals on Tesla's volatility using GARCH models.\n",
        "- Forecast volatility using ARIMA models and evaluate the forecast against actual volatility.\n",
        "\n",
        "Resume Summary:\n",
        "\n",
        "- Developed LSTM models for pre-Musk and post-Musk periods to predict Tesla's stock returns.\n",
        "- Utilized Grid Search to optimize hyperparameters, achieving improved model accuracy.\n",
        "- Conducted statistical tests for cointegration and volatility analysis with Meta stock.\n",
        "- Forecasted Tesla's volatility using ARIMA models and evaluated forecast accuracy."
      ]
    },
    {
      "cell_type": "markdown",
      "metadata": {
        "id": "QzpsN26mEOAi"
      },
      "source": [
        "#setup"
      ]
    },
    {
      "cell_type": "code",
      "execution_count": null,
      "metadata": {
        "id": "4gSxbYLH11wa"
      },
      "outputs": [],
      "source": [
        "import pandas as pd\n",
        "import numpy as np\n",
        "import datetime\n",
        "import matplotlib.pyplot as plt"
      ]
    },
    {
      "cell_type": "code",
      "execution_count": null,
      "metadata": {
        "colab": {
          "base_uri": "https://localhost:8080/"
        },
        "id": "vtOl7ghZ4G99",
        "outputId": "1eb6da12-9a5c-4022-eed1-4bf63ef65f97"
      },
      "outputs": [
        {
          "output_type": "stream",
          "name": "stdout",
          "text": [
            "Requirement already satisfied: yfinance in /usr/local/lib/python3.10/dist-packages (0.2.25)\n",
            "Requirement already satisfied: pandas>=1.3.0 in /usr/local/lib/python3.10/dist-packages (from yfinance) (1.5.3)\n",
            "Requirement already satisfied: numpy>=1.16.5 in /usr/local/lib/python3.10/dist-packages (from yfinance) (1.22.4)\n",
            "Requirement already satisfied: requests>=2.26 in /usr/local/lib/python3.10/dist-packages (from yfinance) (2.27.1)\n",
            "Requirement already satisfied: multitasking>=0.0.7 in /usr/local/lib/python3.10/dist-packages (from yfinance) (0.0.11)\n",
            "Requirement already satisfied: lxml>=4.9.1 in /usr/local/lib/python3.10/dist-packages (from yfinance) (4.9.3)\n",
            "Requirement already satisfied: appdirs>=1.4.4 in /usr/local/lib/python3.10/dist-packages (from yfinance) (1.4.4)\n",
            "Requirement already satisfied: pytz>=2022.5 in /usr/local/lib/python3.10/dist-packages (from yfinance) (2022.7.1)\n",
            "Requirement already satisfied: frozendict>=2.3.4 in /usr/local/lib/python3.10/dist-packages (from yfinance) (2.3.8)\n",
            "Requirement already satisfied: beautifulsoup4>=4.11.1 in /usr/local/lib/python3.10/dist-packages (from yfinance) (4.11.2)\n",
            "Requirement already satisfied: html5lib>=1.1 in /usr/local/lib/python3.10/dist-packages (from yfinance) (1.1)\n",
            "Requirement already satisfied: soupsieve>1.2 in /usr/local/lib/python3.10/dist-packages (from beautifulsoup4>=4.11.1->yfinance) (2.4.1)\n",
            "Requirement already satisfied: six>=1.9 in /usr/local/lib/python3.10/dist-packages (from html5lib>=1.1->yfinance) (1.16.0)\n",
            "Requirement already satisfied: webencodings in /usr/local/lib/python3.10/dist-packages (from html5lib>=1.1->yfinance) (0.5.1)\n",
            "Requirement already satisfied: python-dateutil>=2.8.1 in /usr/local/lib/python3.10/dist-packages (from pandas>=1.3.0->yfinance) (2.8.2)\n",
            "Requirement already satisfied: urllib3<1.27,>=1.21.1 in /usr/local/lib/python3.10/dist-packages (from requests>=2.26->yfinance) (1.26.16)\n",
            "Requirement already satisfied: certifi>=2017.4.17 in /usr/local/lib/python3.10/dist-packages (from requests>=2.26->yfinance) (2023.7.22)\n",
            "Requirement already satisfied: charset-normalizer~=2.0.0 in /usr/local/lib/python3.10/dist-packages (from requests>=2.26->yfinance) (2.0.12)\n",
            "Requirement already satisfied: idna<4,>=2.5 in /usr/local/lib/python3.10/dist-packages (from requests>=2.26->yfinance) (3.4)\n",
            "Collecting fix-yahoo-finance\n",
            "  Downloading fix-yahoo-finance-0.1.37.tar.gz (6.3 kB)\n",
            "  Preparing metadata (setup.py) ... \u001b[?25l\u001b[?25hdone\n",
            "Requirement already satisfied: yfinance in /usr/local/lib/python3.10/dist-packages (from fix-yahoo-finance) (0.2.25)\n",
            "Requirement already satisfied: pandas>=1.3.0 in /usr/local/lib/python3.10/dist-packages (from yfinance->fix-yahoo-finance) (1.5.3)\n",
            "Requirement already satisfied: numpy>=1.16.5 in /usr/local/lib/python3.10/dist-packages (from yfinance->fix-yahoo-finance) (1.22.4)\n",
            "Requirement already satisfied: requests>=2.26 in /usr/local/lib/python3.10/dist-packages (from yfinance->fix-yahoo-finance) (2.27.1)\n",
            "Requirement already satisfied: multitasking>=0.0.7 in /usr/local/lib/python3.10/dist-packages (from yfinance->fix-yahoo-finance) (0.0.11)\n",
            "Requirement already satisfied: lxml>=4.9.1 in /usr/local/lib/python3.10/dist-packages (from yfinance->fix-yahoo-finance) (4.9.3)\n",
            "Requirement already satisfied: appdirs>=1.4.4 in /usr/local/lib/python3.10/dist-packages (from yfinance->fix-yahoo-finance) (1.4.4)\n",
            "Requirement already satisfied: pytz>=2022.5 in /usr/local/lib/python3.10/dist-packages (from yfinance->fix-yahoo-finance) (2022.7.1)\n",
            "Requirement already satisfied: frozendict>=2.3.4 in /usr/local/lib/python3.10/dist-packages (from yfinance->fix-yahoo-finance) (2.3.8)\n",
            "Requirement already satisfied: beautifulsoup4>=4.11.1 in /usr/local/lib/python3.10/dist-packages (from yfinance->fix-yahoo-finance) (4.11.2)\n",
            "Requirement already satisfied: html5lib>=1.1 in /usr/local/lib/python3.10/dist-packages (from yfinance->fix-yahoo-finance) (1.1)\n",
            "Requirement already satisfied: soupsieve>1.2 in /usr/local/lib/python3.10/dist-packages (from beautifulsoup4>=4.11.1->yfinance->fix-yahoo-finance) (2.4.1)\n",
            "Requirement already satisfied: six>=1.9 in /usr/local/lib/python3.10/dist-packages (from html5lib>=1.1->yfinance->fix-yahoo-finance) (1.16.0)\n",
            "Requirement already satisfied: webencodings in /usr/local/lib/python3.10/dist-packages (from html5lib>=1.1->yfinance->fix-yahoo-finance) (0.5.1)\n",
            "Requirement already satisfied: python-dateutil>=2.8.1 in /usr/local/lib/python3.10/dist-packages (from pandas>=1.3.0->yfinance->fix-yahoo-finance) (2.8.2)\n",
            "Requirement already satisfied: urllib3<1.27,>=1.21.1 in /usr/local/lib/python3.10/dist-packages (from requests>=2.26->yfinance->fix-yahoo-finance) (1.26.16)\n",
            "Requirement already satisfied: certifi>=2017.4.17 in /usr/local/lib/python3.10/dist-packages (from requests>=2.26->yfinance->fix-yahoo-finance) (2023.7.22)\n",
            "Requirement already satisfied: charset-normalizer~=2.0.0 in /usr/local/lib/python3.10/dist-packages (from requests>=2.26->yfinance->fix-yahoo-finance) (2.0.12)\n",
            "Requirement already satisfied: idna<4,>=2.5 in /usr/local/lib/python3.10/dist-packages (from requests>=2.26->yfinance->fix-yahoo-finance) (3.4)\n",
            "Building wheels for collected packages: fix-yahoo-finance\n",
            "  Building wheel for fix-yahoo-finance (setup.py) ... \u001b[?25l\u001b[?25hdone\n",
            "  Created wheel for fix-yahoo-finance: filename=fix_yahoo_finance-0.1.37-py3-none-any.whl size=7073 sha256=17a9cb8036daa82f389541396d23b4088160c73160f02aa62184e15321ce3453\n",
            "  Stored in directory: /root/.cache/pip/wheels/1e/5e/ca/d9dbe97f5c895289286a5f99311e9e9633c9898f35d42802ca\n",
            "Successfully built fix-yahoo-finance\n",
            "Installing collected packages: fix-yahoo-finance\n",
            "Successfully installed fix-yahoo-finance-0.1.37\n"
          ]
        }
      ],
      "source": [
        "!pip install yfinance\n",
        "!pip install fix-yahoo-finance"
      ]
    },
    {
      "cell_type": "markdown",
      "metadata": {
        "id": "Wz_wxLzEuLE8"
      },
      "source": [
        "4/4/22: musk becomes largest shareholder of twitter"
      ]
    },
    {
      "cell_type": "code",
      "execution_count": null,
      "metadata": {
        "colab": {
          "base_uri": "https://localhost:8080/"
        },
        "id": "m-NZTAlc4Nht",
        "outputId": "bcee3f0e-4709-4a46-c430-5dbf39b8a736"
      },
      "outputs": [
        {
          "output_type": "stream",
          "name": "stdout",
          "text": [
            "[*********************100%***********************]  1 of 1 completed\n",
            "[*********************100%***********************]  1 of 1 completed\n",
            "[*********************100%***********************]  1 of 1 completed\n"
          ]
        }
      ],
      "source": [
        "from pandas_datareader.data import DataReader\n",
        "import yfinance as yf\n",
        "from pandas_datareader import data as pdr\n",
        "yf.pdr_override()\n",
        "\n",
        "def get_returns(a):\n",
        "  tick = pdr.DataReader(a,  start=datetime.datetime(2018, 2, 1),\n",
        "                          end=datetime.datetime(2023, 7, 8))\n",
        "  returns = 100 * tick['Adj Close'].pct_change().dropna()\n",
        "  return returns\n",
        "\n",
        "tsla_returns = get_returns('TSLA')\n",
        "\n",
        "tick = pdr.DataReader('TSLA',  start=datetime.datetime(2022, 4, 4),\n",
        "                          end=datetime.datetime(2023, 7, 8))\n",
        "tsla_twt_returns = 100 * tick['Adj Close'].pct_change().dropna()\n",
        "\n",
        "tick2 = pdr.DataReader('TSLA',  start=datetime.datetime(2018, 2, 1),\n",
        "                          end=datetime.datetime(2022, 4, 4))\n",
        "tsla_pretwt_returns = 100 * tick2['Adj Close'].pct_change().dropna()"
      ]
    },
    {
      "cell_type": "code",
      "execution_count": null,
      "metadata": {
        "colab": {
          "base_uri": "https://localhost:8080/"
        },
        "id": "z0Jbwe4PDz_u",
        "outputId": "f2025e7d-add9-4c84-b5c9-cf1e77685408"
      },
      "outputs": [
        {
          "output_type": "stream",
          "name": "stdout",
          "text": [
            "[*********************100%***********************]  1 of 1 completed\n",
            "[*********************100%***********************]  1 of 1 completed\n",
            "[*********************100%***********************]  1 of 1 completed\n",
            "[*********************100%***********************]  1 of 1 completed\n",
            "[*********************100%***********************]  1 of 1 completed\n",
            "[*********************100%***********************]  1 of 1 completed\n",
            "[*********************100%***********************]  1 of 1 completed\n",
            "[*********************100%***********************]  1 of 1 completed\n",
            "[*********************100%***********************]  1 of 1 completed\n",
            "[*********************100%***********************]  1 of 1 completed\n"
          ]
        }
      ],
      "source": [
        "bigtech = ['AMZN', 'AAPL', 'META', 'NFLX', 'GOOG'] #people also watch\n",
        "similar = ['RIVN', 'NIO', 'LCID', 'F', 'MULN'] #similar to tesla\n",
        "\n",
        "bigtech_outputs = []\n",
        "similar_outputs = []\n",
        "\n",
        "for stock in bigtech:\n",
        "    output = get_returns(stock)  # Replace with the function call to xkcd for the stock\n",
        "    bigtech_outputs.append(output)\n",
        "\n",
        "for stock in similar:\n",
        "    output = get_returns(stock)  # Replace with the function call to xkcd for the stock\n",
        "    similar_outputs.append(output)\n",
        "\n",
        "amzn_returns = bigtech_outputs[0]\n",
        "aapl_returns = bigtech_outputs[1]\n",
        "meta_returns = bigtech_outputs[2]\n",
        "nflx_returns = bigtech_outputs[3]\n",
        "goog_returns = bigtech_outputs[4]\n",
        "\n",
        "rivn_returns = similar_outputs[0]\n",
        "nio_returns = similar_outputs[1]\n",
        "lcid_returns = similar_outputs[2]\n",
        "f_returns = similar_outputs[3]\n",
        "muln_returns = similar_outputs[4]"
      ]
    },
    {
      "cell_type": "markdown",
      "metadata": {
        "id": "J-T0I8bf_pVY"
      },
      "source": [
        "* https://www.wallstreetprep.com/knowledge/volatility/\n",
        "* https://www.investopedia.com/ask/answers/041415/what-are-some-common-measures-risk-used-risk-management.asp\n",
        "* https://www.kaggle.com/code/jiashenliu/introduction-to-financial-concepts-and-data\n",
        "* https://www.mccormick.northwestern.edu/industrial/documents/syllabi/373.pdf\n",
        "* https://www.kaggle.com/code/tommy1028/lightgbm-starter-with-feature-engineering-idea\n",
        "* https://www.macroaxis.com/volatility/AAPL/Apple-Inc#:~:text=Apple%20Market%20Sensitivity%20And%20Downside%20Risk&text=Apple%20Inc%20exhibits%20relatively%20low,estimations%20about%20Apple%20upside%20potential.\n",
        "\n"
      ]
    },
    {
      "cell_type": "markdown",
      "metadata": {
        "id": "G0Gec_OH_8-A"
      },
      "source": [
        "1. is tesla's volatility higher than that of top tech companies? same industry?\n",
        "2. did volatility increase since elon's acquisition of twitter?\n",
        "3. predicting tesla's stock"
      ]
    },
    {
      "cell_type": "markdown",
      "metadata": {
        "id": "YTofiV68b4Tk"
      },
      "source": [
        "NEW: see if tesla and meta's cointegration exists & its effect on volatility of tesla, and comparisons between pre and post twitter on tesla volatility"
      ]
    },
    {
      "cell_type": "markdown",
      "metadata": {
        "id": "COL6sbYuEQkI"
      },
      "source": [
        "#eda"
      ]
    },
    {
      "cell_type": "code",
      "execution_count": null,
      "metadata": {
        "colab": {
          "base_uri": "https://localhost:8080/"
        },
        "id": "N94qrlv-udg6",
        "outputId": "5a2eb46e-b470-4c5f-de8a-668453bb52d1"
      },
      "outputs": [
        {
          "output_type": "execute_result",
          "data": {
            "text/plain": [
              "[<matplotlib.lines.Line2D at 0x79ccf19e6b00>]"
            ]
          },
          "metadata": {},
          "execution_count": 5
        },
        {
          "output_type": "display_data",
          "data": {
            "text/plain": [
              "<Figure size 640x480 with 1 Axes>"
            ],
            "image/png": "[encoded data removed]"
          },
          "metadata": {}
        }
      ],
      "source": [
        "plt.plot(tsla_returns)\n",
        "plt.plot(tsla_twt_returns)"
      ]
    },
    {
      "cell_type": "markdown",
      "metadata": {
        "id": "p-XfmNN-vh7X"
      },
      "source": [
        "clear volatility clustering"
      ]
    },
    {
      "cell_type": "code",
      "execution_count": null,
      "metadata": {
        "colab": {
          "base_uri": "https://localhost:8080/"
        },
        "id": "9FXoOPSxvc-_",
        "outputId": "406234bc-c1fa-44f7-8305-0de2ae20bbe0"
      },
      "outputs": [
        {
          "output_type": "execute_result",
          "data": {
            "text/plain": [
              "[<matplotlib.lines.Line2D at 0x79ccef8dbdf0>]"
            ]
          },
          "metadata": {},
          "execution_count": 6
        },
        {
          "output_type": "display_data",
          "data": {
            "text/plain": [
              "<Figure size 640x480 with 1 Axes>"
            ],
            "image/png": "[encoded data removed]"
          },
          "metadata": {}
        }
      ],
      "source": [
        "plt.plot(tsla_returns**2)"
      ]
    },
    {
      "cell_type": "code",
      "execution_count": null,
      "metadata": {
        "colab": {
          "base_uri": "https://localhost:8080/"
        },
        "id": "kdfWWgO7_oow",
        "outputId": "efafec9b-7a69-4af3-88cf-b2c21b7c5697"
      },
      "outputs": [
        {
          "output_type": "execute_result",
          "data": {
            "text/plain": [
              "             Tesla all periods  Tesla pre twitter  Tesla post twitter\n",
              "Daily vol             4.119703           4.151571            4.000327\n",
              "Monthly vol          18.878852          19.024886           18.331803\n",
              "Yearly vol           65.398262          65.904139           63.503229"
            ],
            "text/html": [
              "\n",
              "\n",
              "  <div id=\"df-0c3012c6-a318-4fe3-af3c-721ba0b6f0d8\">\n",
              "    <div class=\"colab-df-container\">\n",
              "      <div>\n",
              "<style scoped>\n",
              "    .dataframe tbody tr th:only-of-type {\n",
              "        vertical-align: middle;\n",
              "    }\n",
              "\n",
              "    .dataframe tbody tr th {\n",
              "        vertical-align: top;\n",
              "    }\n",
              "\n",
              "    .dataframe thead th {\n",
              "        text-align: right;\n",
              "    }\n",
              "</style>\n",
              "<table border=\"1\" class=\"dataframe\">\n",
              "  <thead>\n",
              "    <tr style=\"text-align: right;\">\n",
              "      <th></th>\n",
              "      <th>Tesla all periods</th>\n",
              "      <th>Tesla pre twitter</th>\n",
              "      <th>Tesla post twitter</th>\n",
              "    </tr>\n",
              "  </thead>\n",
              "  <tbody>\n",
              "    <tr>\n",
              "      <th>Daily vol</th>\n",
              "      <td>4.119703</td>\n",
              "      <td>4.151571</td>\n",
              "      <td>4.000327</td>\n",
              "    </tr>\n",
              "    <tr>\n",
              "      <th>Monthly vol</th>\n",
              "      <td>18.878852</td>\n",
              "      <td>19.024886</td>\n",
              "      <td>18.331803</td>\n",
              "    </tr>\n",
              "    <tr>\n",
              "      <th>Yearly vol</th>\n",
              "      <td>65.398262</td>\n",
              "      <td>65.904139</td>\n",
              "      <td>63.503229</td>\n",
              "    </tr>\n",
              "  </tbody>\n",
              "</table>\n",
              "</div>\n",
              "      <button class=\"colab-df-convert\" onclick=\"convertToInteractive('df-0c3012c6-a318-4fe3-af3c-721ba0b6f0d8')\"\n",
              "              title=\"Convert this dataframe to an interactive table.\"\n",
              "              style=\"display:none;\">\n",
              "\n",
              "  <svg xmlns=\"http://www.w3.org/2000/svg\" height=\"24px\"viewBox=\"0 0 24 24\"\n",
              "       width=\"24px\">\n",
              "    <path d=\"M0 0h24v24H0V0z\" fill=\"none\"/>\n",
              "    <path d=\"M18.56 5.44l.94 2.06.94-2.06 2.06-.94-2.06-.94-.94-2.06-.94 2.06-2.06.94zm-11 1L8.5 8.5l.94-2.06 2.06-.94-2.06-.94L8.5 2.5l-.94 2.06-2.06.94zm10 10l.94 2.06.94-2.06 2.06-.94-2.06-.94-.94-2.06-.94 2.06-2.06.94z\"/><path d=\"M17.41 7.96l-1.37-1.37c-.4-.4-.92-.59-1.43-.59-.52 0-1.04.2-1.43.59L10.3 9.45l-7.72 7.72c-.78.78-.78 2.05 0 2.83L4 21.41c.39.39.9.59 1.41.59.51 0 1.02-.2 1.41-.59l7.78-7.78 2.81-2.81c.8-.78.8-2.07 0-2.86zM5.41 20L4 18.59l7.72-7.72 1.47 1.35L5.41 20z\"/>\n",
              "  </svg>\n",
              "      </button>\n",
              "\n",
              "\n",
              "\n",
              "    <div id=\"df-0e90aef2-9f92-4566-9031-7e901c6910a4\">\n",
              "      <button class=\"colab-df-quickchart\" onclick=\"quickchart('df-0e90aef2-9f92-4566-9031-7e901c6910a4')\"\n",
              "              title=\"Suggest charts.\"\n",
              "              style=\"display:none;\">\n",
              "\n",
              "<svg xmlns=\"http://www.w3.org/2000/svg\" height=\"24px\"viewBox=\"0 0 24 24\"\n",
              "     width=\"24px\">\n",
              "    <g>\n",
              "        <path d=\"M19 3H5c-1.1 0-2 .9-2 2v14c0 1.1.9 2 2 2h14c1.1 0 2-.9 2-2V5c0-1.1-.9-2-2-2zM9 17H7v-7h2v7zm4 0h-2V7h2v10zm4 0h-2v-4h2v4z\"/>\n",
              "    </g>\n",
              "</svg>\n",
              "      </button>\n",
              "    </div>\n",
              "\n",
              "<style>\n",
              "  .colab-df-quickchart {\n",
              "    background-color: #E8F0FE;\n",
              "    border: none;\n",
              "    border-radius: 50%;\n",
              "    cursor: pointer;\n",
              "    display: none;\n",
              "    fill: #1967D2;\n",
              "    height: 32px;\n",
              "    padding: 0 0 0 0;\n",
              "    width: 32px;\n",
              "  }\n",
              "\n",
              "  .colab-df-quickchart:hover {\n",
              "    background-color: #E2EBFA;\n",
              "    box-shadow: 0px 1px 2px rgba(60, 64, 67, 0.3), 0px 1px 3px 1px rgba(60, 64, 67, 0.15);\n",
              "    fill: #174EA6;\n",
              "  }\n",
              "\n",
              "  [theme=dark] .colab-df-quickchart {\n",
              "    background-color: #3B4455;\n",
              "    fill: #D2E3FC;\n",
              "  }\n",
              "\n",
              "  [theme=dark] .colab-df-quickchart:hover {\n",
              "    background-color: #434B5C;\n",
              "    box-shadow: 0px 1px 3px 1px rgba(0, 0, 0, 0.15);\n",
              "    filter: drop-shadow(0px 1px 2px rgba(0, 0, 0, 0.3));\n",
              "    fill: #FFFFFF;\n",
              "  }\n",
              "</style>\n",
              "\n",
              "    <script>\n",
              "      async function quickchart(key) {\n",
              "        const containerElement = document.querySelector('#' + key);\n",
              "        const charts = await google.colab.kernel.invokeFunction(\n",
              "            'suggestCharts', [key], {});\n",
              "      }\n",
              "    </script>\n",
              "\n",
              "      <script>\n",
              "\n",
              "function displayQuickchartButton(domScope) {\n",
              "  let quickchartButtonEl =\n",
              "    domScope.querySelector('#df-0e90aef2-9f92-4566-9031-7e901c6910a4 button.colab-df-quickchart');\n",
              "  quickchartButtonEl.style.display =\n",
              "    google.colab.kernel.accessAllowed ? 'block' : 'none';\n",
              "}\n",
              "\n",
              "        displayQuickchartButton(document);\n",
              "      </script>\n",
              "      <style>\n",
              "    .colab-df-container {\n",
              "      display:flex;\n",
              "      flex-wrap:wrap;\n",
              "      gap: 12px;\n",
              "    }\n",
              "\n",
              "    .colab-df-convert {\n",
              "      background-color: #E8F0FE;\n",
              "      border: none;\n",
              "      border-radius: 50%;\n",
              "      cursor: pointer;\n",
              "      display: none;\n",
              "      fill: #1967D2;\n",
              "      height: 32px;\n",
              "      padding: 0 0 0 0;\n",
              "      width: 32px;\n",
              "    }\n",
              "\n",
              "    .colab-df-convert:hover {\n",
              "      background-color: #E2EBFA;\n",
              "      box-shadow: 0px 1px 2px rgba(60, 64, 67, 0.3), 0px 1px 3px 1px rgba(60, 64, 67, 0.15);\n",
              "      fill: #174EA6;\n",
              "    }\n",
              "\n",
              "    [theme=dark] .colab-df-convert {\n",
              "      background-color: #3B4455;\n",
              "      fill: #D2E3FC;\n",
              "    }\n",
              "\n",
              "    [theme=dark] .colab-df-convert:hover {\n",
              "      background-color: #434B5C;\n",
              "      box-shadow: 0px 1px 3px 1px rgba(0, 0, 0, 0.15);\n",
              "      filter: drop-shadow(0px 1px 2px rgba(0, 0, 0, 0.3));\n",
              "      fill: #FFFFFF;\n",
              "    }\n",
              "  </style>\n",
              "\n",
              "      <script>\n",
              "        const buttonEl =\n",
              "          document.querySelector('#df-0c3012c6-a318-4fe3-af3c-721ba0b6f0d8 button.colab-df-convert');\n",
              "        buttonEl.style.display =\n",
              "          google.colab.kernel.accessAllowed ? 'block' : 'none';\n",
              "\n",
              "        async function convertToInteractive(key) {\n",
              "          const element = document.querySelector('#df-0c3012c6-a318-4fe3-af3c-721ba0b6f0d8');\n",
              "          const dataTable =\n",
              "            await google.colab.kernel.invokeFunction('convertToInteractive',\n",
              "                                                     [key], {});\n",
              "          if (!dataTable) return;\n",
              "\n",
              "          const docLinkHtml = 'Like what you see? Visit the ' +\n",
              "            '<a target=\"_blank\" href=https://colab.research.google.com/notebooks/data_table.ipynb>data table notebook</a>'\n",
              "            + ' to learn more about interactive tables.';\n",
              "          element.innerHTML = '';\n",
              "          dataTable['output_type'] = 'display_data';\n",
              "          await google.colab.output.renderOutput(dataTable, element);\n",
              "          const docLink = document.createElement('div');\n",
              "          docLink.innerHTML = docLinkHtml;\n",
              "          element.appendChild(docLink);\n",
              "        }\n",
              "      </script>\n",
              "    </div>\n",
              "  </div>\n"
            ]
          },
          "metadata": {},
          "execution_count": 7
        }
      ],
      "source": [
        "day_vol = tsla_returns.std()\n",
        "mon_vol = np.sqrt(21) * day_vol\n",
        "yr_vol = np.sqrt(252) * day_vol\n",
        "\n",
        "day_vol_twt = tsla_twt_returns.std()\n",
        "mon_vol_twt = np.sqrt(21) * day_vol_twt\n",
        "yr_vol_twt = np.sqrt(252) * day_vol_twt\n",
        "\n",
        "day_vol_pre = tsla_pretwt_returns.std()\n",
        "mon_vol_pre = np.sqrt(21) * day_vol_pre\n",
        "yr_vol_pre = np.sqrt(252) * day_vol_pre\n",
        "\n",
        "df=pd.DataFrame({\"Tesla all periods\":[day_vol, mon_vol, yr_vol],\n",
        "                 \"Tesla pre twitter\":[day_vol_pre, mon_vol_pre, yr_vol_pre],\n",
        "                 \"Tesla post twitter\":[day_vol_twt, mon_vol_twt, yr_vol_twt]})\n",
        "df.index = ['Daily vol', \"Monthly vol\", \"Yearly vol\"]\n",
        "df"
      ]
    },
    {
      "cell_type": "markdown",
      "metadata": {
        "id": "vzqDZVij0poH"
      },
      "source": [
        "post twitter volatility actually decreased what."
      ]
    },
    {
      "cell_type": "markdown",
      "metadata": {
        "id": "QA9cYk6CIS10"
      },
      "source": [
        "1. doge coin shit\n",
        "2. acquire twitter\n",
        "3. joe rogan"
      ]
    },
    {
      "cell_type": "markdown",
      "metadata": {
        "id": "nx7xKKJeESUQ"
      },
      "source": [
        "#part 1: lstm"
      ]
    },
    {
      "cell_type": "markdown",
      "metadata": {
        "id": "5Jfi2aUJHu-V"
      },
      "source": [
        "LSTM Modeling for Musk Factor Impact:\n",
        "\n",
        "- Prepare the data for LSTM modeling using a sliding window approach.\n",
        "- Define an LSTM model to predict short-term volatility based on past returns.\n",
        "- Train the LSTM model on the pre-Musk and post-Musk datasets separately.\n",
        "- Evaluate the performance of LSTM models using root mean squared error (RMSE).\n",
        "- Calculate residuals for both periods by subtracting the actual volatility from the LSTM-predicted volatility."
      ]
    },
    {
      "cell_type": "markdown",
      "metadata": {
        "id": "P9c05QZ-b4Ty"
      },
      "source": [
        "\n",
        "1. LSTM neural networks were employed to predict normalized returns of Tesla's stock for pre-Musk and post-Musk periods.\n",
        "Data was prepared and hyperparameters were optimized using Grid Search with Cross-Validation.\n",
        "\n",
        "2. Best LSTM models were trained for both pre-Musk and post-Musk periods.\n",
        "Predictions were made using the trained models.\n",
        "3. Model accuracy was evaluated using Root Mean Squared Error (RMSE) for each period.\n",
        "Accuracy scores were converted to percentage accuracy.\n",
        "4. LSTM predictions were compared with actual values for both pre-Musk and post-Musk periods.\n",
        "Plots were generated to visualize the comparison.\n",
        "5. Shapiro-Wilk and Anderson-Darling tests were conducted to assess the normality of LSTM predictions for each period.\n",
        "Mann-Whitney U test was used to check for significant differences in LSTM volatility predictions between pre-Musk and post-Musk periods.\n",
        "6. Cohen's d was calculated to determine the effect size between the mean predictions of pre-Musk and post-Musk periods.\n",
        "\n",
        "Reached 90% accuracy for prediction using LSTM. difference between two periods' volatilities existent but not large."
      ]
    },
    {
      "cell_type": "code",
      "execution_count": null,
      "metadata": {
        "colab": {
          "base_uri": "https://localhost:8080/"
        },
        "id": "f0vu4YDBk1O5",
        "outputId": "4935dd32-8e64-4e17-d3a3-35b0b96a6c43"
      },
      "outputs": [
        {
          "output_type": "stream",
          "name": "stdout",
          "text": [
            "Requirement already satisfied: keras in /usr/local/lib/python3.10/dist-packages (2.12.0)\n",
            "Requirement already satisfied: tensorflow in /usr/local/lib/python3.10/dist-packages (2.12.0)\n",
            "Requirement already satisfied: absl-py>=1.0.0 in /usr/local/lib/python3.10/dist-packages (from tensorflow) (1.4.0)\n",
            "Requirement already satisfied: astunparse>=1.6.0 in /usr/local/lib/python3.10/dist-packages (from tensorflow) (1.6.3)\n",
            "Requirement already satisfied: flatbuffers>=2.0 in /usr/local/lib/python3.10/dist-packages (from tensorflow) (23.5.26)\n",
            "Requirement already satisfied: gast<=0.4.0,>=0.2.1 in /usr/local/lib/python3.10/dist-packages (from tensorflow) (0.4.0)\n",
            "Requirement already satisfied: google-pasta>=0.1.1 in /usr/local/lib/python3.10/dist-packages (from tensorflow) (0.2.0)\n",
            "Requirement already satisfied: grpcio<2.0,>=1.24.3 in /usr/local/lib/python3.10/dist-packages (from tensorflow) (1.56.2)\n",
            "Requirement already satisfied: h5py>=2.9.0 in /usr/local/lib/python3.10/dist-packages (from tensorflow) (3.8.0)\n",
            "Requirement already satisfied: jax>=0.3.15 in /usr/local/lib/python3.10/dist-packages (from tensorflow) (0.4.13)\n",
            "Requirement already satisfied: keras<2.13,>=2.12.0 in /usr/local/lib/python3.10/dist-packages (from tensorflow) (2.12.0)\n",
            "Requirement already satisfied: libclang>=13.0.0 in /usr/local/lib/python3.10/dist-packages (from tensorflow) (16.0.6)\n",
            "Requirement already satisfied: numpy<1.24,>=1.22 in /usr/local/lib/python3.10/dist-packages (from tensorflow) (1.22.4)\n",
            "Requirement already satisfied: opt-einsum>=2.3.2 in /usr/local/lib/python3.10/dist-packages (from tensorflow) (3.3.0)\n",
            "Requirement already satisfied: packaging in /usr/local/lib/python3.10/dist-packages (from tensorflow) (23.1)\n",
            "Requirement already satisfied: protobuf!=4.21.0,!=4.21.1,!=4.21.2,!=4.21.3,!=4.21.4,!=4.21.5,<5.0.0dev,>=3.20.3 in /usr/local/lib/python3.10/dist-packages (from tensorflow) (3.20.3)\n",
            "Requirement already satisfied: setuptools in /usr/local/lib/python3.10/dist-packages (from tensorflow) (67.7.2)\n",
            "Requirement already satisfied: six>=1.12.0 in /usr/local/lib/python3.10/dist-packages (from tensorflow) (1.16.0)\n",
            "Requirement already satisfied: tensorboard<2.13,>=2.12 in /usr/local/lib/python3.10/dist-packages (from tensorflow) (2.12.3)\n",
            "Requirement already satisfied: tensorflow-estimator<2.13,>=2.12.0 in /usr/local/lib/python3.10/dist-packages (from tensorflow) (2.12.0)\n",
            "Requirement already satisfied: termcolor>=1.1.0 in /usr/local/lib/python3.10/dist-packages (from tensorflow) (2.3.0)\n",
            "Requirement already satisfied: typing-extensions>=3.6.6 in /usr/local/lib/python3.10/dist-packages (from tensorflow) (4.7.1)\n",
            "Requirement already satisfied: wrapt<1.15,>=1.11.0 in /usr/local/lib/python3.10/dist-packages (from tensorflow) (1.14.1)\n",
            "Requirement already satisfied: tensorflow-io-gcs-filesystem>=0.23.1 in /usr/local/lib/python3.10/dist-packages (from tensorflow) (0.32.0)\n",
            "Requirement already satisfied: wheel<1.0,>=0.23.0 in /usr/local/lib/python3.10/dist-packages (from astunparse>=1.6.0->tensorflow) (0.41.0)\n",
            "Requirement already satisfied: ml-dtypes>=0.1.0 in /usr/local/lib/python3.10/dist-packages (from jax>=0.3.15->tensorflow) (0.2.0)\n",
            "Requirement already satisfied: scipy>=1.7 in /usr/local/lib/python3.10/dist-packages (from jax>=0.3.15->tensorflow) (1.10.1)\n",
            "Requirement already satisfied: google-auth<3,>=1.6.3 in /usr/local/lib/python3.10/dist-packages (from tensorboard<2.13,>=2.12->tensorflow) (2.17.3)\n",
            "Requirement already satisfied: google-auth-oauthlib<1.1,>=0.5 in /usr/local/lib/python3.10/dist-packages (from tensorboard<2.13,>=2.12->tensorflow) (1.0.0)\n",
            "Requirement already satisfied: markdown>=2.6.8 in /usr/local/lib/python3.10/dist-packages (from tensorboard<2.13,>=2.12->tensorflow) (3.4.4)\n",
            "Requirement already satisfied: requests<3,>=2.21.0 in /usr/local/lib/python3.10/dist-packages (from tensorboard<2.13,>=2.12->tensorflow) (2.27.1)\n",
            "Requirement already satisfied: tensorboard-data-server<0.8.0,>=0.7.0 in /usr/local/lib/python3.10/dist-packages (from tensorboard<2.13,>=2.12->tensorflow) (0.7.1)\n",
            "Requirement already satisfied: werkzeug>=1.0.1 in /usr/local/lib/python3.10/dist-packages (from tensorboard<2.13,>=2.12->tensorflow) (2.3.6)\n",
            "Requirement already satisfied: cachetools<6.0,>=2.0.0 in /usr/local/lib/python3.10/dist-packages (from google-auth<3,>=1.6.3->tensorboard<2.13,>=2.12->tensorflow) (5.3.1)\n",
            "Requirement already satisfied: pyasn1-modules>=0.2.1 in /usr/local/lib/python3.10/dist-packages (from google-auth<3,>=1.6.3->tensorboard<2.13,>=2.12->tensorflow) (0.3.0)\n",
            "Requirement already satisfied: rsa<5,>=3.1.4 in /usr/local/lib/python3.10/dist-packages (from google-auth<3,>=1.6.3->tensorboard<2.13,>=2.12->tensorflow) (4.9)\n",
            "Requirement already satisfied: requests-oauthlib>=0.7.0 in /usr/local/lib/python3.10/dist-packages (from google-auth-oauthlib<1.1,>=0.5->tensorboard<2.13,>=2.12->tensorflow) (1.3.1)\n",
            "Requirement already satisfied: urllib3<1.27,>=1.21.1 in /usr/local/lib/python3.10/dist-packages (from requests<3,>=2.21.0->tensorboard<2.13,>=2.12->tensorflow) (1.26.16)\n",
            "Requirement already satisfied: certifi>=2017.4.17 in /usr/local/lib/python3.10/dist-packages (from requests<3,>=2.21.0->tensorboard<2.13,>=2.12->tensorflow) (2023.7.22)\n",
            "Requirement already satisfied: charset-normalizer~=2.0.0 in /usr/local/lib/python3.10/dist-packages (from requests<3,>=2.21.0->tensorboard<2.13,>=2.12->tensorflow) (2.0.12)\n",
            "Requirement already satisfied: idna<4,>=2.5 in /usr/local/lib/python3.10/dist-packages (from requests<3,>=2.21.0->tensorboard<2.13,>=2.12->tensorflow) (3.4)\n",
            "Requirement already satisfied: MarkupSafe>=2.1.1 in /usr/local/lib/python3.10/dist-packages (from werkzeug>=1.0.1->tensorboard<2.13,>=2.12->tensorflow) (2.1.3)\n",
            "Requirement already satisfied: pyasn1<0.6.0,>=0.4.6 in /usr/local/lib/python3.10/dist-packages (from pyasn1-modules>=0.2.1->google-auth<3,>=1.6.3->tensorboard<2.13,>=2.12->tensorflow) (0.5.0)\n",
            "Requirement already satisfied: oauthlib>=3.0.0 in /usr/local/lib/python3.10/dist-packages (from requests-oauthlib>=0.7.0->google-auth-oauthlib<1.1,>=0.5->tensorboard<2.13,>=2.12->tensorflow) (3.2.2)\n",
            "Collecting arch\n",
            "  Downloading arch-6.1.0-cp310-cp310-manylinux_2_17_x86_64.manylinux2014_x86_64.whl (916 kB)\n",
            "\u001b[2K     \u001b[90m━━━━━━━━━━━━━━━━━━━━━━━━━━━━━━━━━━━━━━━\u001b[0m \u001b[32m916.4/916.4 kB\u001b[0m \u001b[31m6.6 MB/s\u001b[0m eta \u001b[36m0:00:00\u001b[0m\n",
            "\u001b[?25hRequirement already satisfied: numpy>=1.19 in /usr/local/lib/python3.10/dist-packages (from arch) (1.22.4)\n",
            "Requirement already satisfied: scipy>=1.5 in /usr/local/lib/python3.10/dist-packages (from arch) (1.10.1)\n",
            "Requirement already satisfied: pandas>=1.1 in /usr/local/lib/python3.10/dist-packages (from arch) (1.5.3)\n",
            "Requirement already satisfied: statsmodels>=0.12 in /usr/local/lib/python3.10/dist-packages (from arch) (0.13.5)\n",
            "Requirement already satisfied: python-dateutil>=2.8.1 in /usr/local/lib/python3.10/dist-packages (from pandas>=1.1->arch) (2.8.2)\n",
            "Requirement already satisfied: pytz>=2020.1 in /usr/local/lib/python3.10/dist-packages (from pandas>=1.1->arch) (2022.7.1)\n",
            "Requirement already satisfied: patsy>=0.5.2 in /usr/local/lib/python3.10/dist-packages (from statsmodels>=0.12->arch) (0.5.3)\n",
            "Requirement already satisfied: packaging>=21.3 in /usr/local/lib/python3.10/dist-packages (from statsmodels>=0.12->arch) (23.1)\n",
            "Requirement already satisfied: six in /usr/local/lib/python3.10/dist-packages (from patsy>=0.5.2->statsmodels>=0.12->arch) (1.16.0)\n",
            "Installing collected packages: arch\n",
            "Successfully installed arch-6.1.0\n"
          ]
        }
      ],
      "source": [
        "!pip install keras\n",
        "!pip install tensorflow\n",
        "!pip install arch"
      ]
    },
    {
      "cell_type": "code",
      "execution_count": null,
      "metadata": {
        "id": "yi6LgFw8c64O"
      },
      "outputs": [],
      "source": [
        "import numpy as np\n",
        "import pandas as pd\n",
        "import matplotlib.pyplot as plt\n",
        "import yfinance as yf\n",
        "from arch import arch_model\n",
        "from statsmodels.tsa.stattools import coint\n",
        "import tensorflow as tf\n",
        "from tensorflow.keras.models import Sequential\n",
        "from tensorflow.keras.layers import LSTM, Dense, Dropout\n",
        "from tensorflow.keras.optimizers import Adam\n",
        "from sklearn.model_selection import RandomizedSearchCV\n",
        "from sklearn.preprocessing import MinMaxScaler\n",
        "from sklearn.metrics import mean_squared_error\n",
        "\n",
        "\n",
        "from tensorflow.keras.wrappers.scikit_learn import KerasRegressor\n",
        "\n",
        "# Define a function to create the LSTM model\n",
        "def create_lstm_model(units=50, learning_rate=0.001):\n",
        "    model = Sequential()\n",
        "    model.add(LSTM(units, input_shape=(X_train_pre_musk.shape[1], X_train_pre_musk.shape[2])))\n",
        "    model.add(Dense(1))\n",
        "    optimizer = Adam(learning_rate=learning_rate)\n",
        "    model.compile(loss='mean_squared_error', optimizer=optimizer)\n",
        "    return model"
      ]
    },
    {
      "cell_type": "code",
      "execution_count": null,
      "metadata": {
        "id": "a4-9Qm0_jJ65"
      },
      "outputs": [],
      "source": [
        "def prepare_lstm_data(data, look_back=10):\n",
        "    scaler = MinMaxScaler(feature_range=(0, 1))\n",
        "    data_scaled = scaler.fit_transform(data.values.reshape(-1, 1))\n",
        "    X, y = [], []\n",
        "    for i in range(len(data_scaled) - look_back):\n",
        "        X.append(data_scaled[i : i + look_back])\n",
        "        y.append(data_scaled[i + look_back])\n",
        "    return np.array(X), np.array(y)\n",
        "\n",
        "# Prepare data for LSTM modeling (pre-Musk period)\n",
        "X_train_pre_musk, y_train_pre_musk = prepare_lstm_data(tsla_pretwt_returns)\n",
        "X_test_pre_musk, y_test_pre_musk = prepare_lstm_data(tsla_pretwt_returns)\n",
        "\n",
        "# Prepare data for LSTM modeling (post-Musk period)\n",
        "X_train_post_musk, y_train_post_musk = prepare_lstm_data(tsla_twt_returns)\n",
        "X_test_post_musk, y_test_post_musk = prepare_lstm_data(tsla_twt_returns)\n"
      ]
    },
    {
      "cell_type": "code",
      "execution_count": null,
      "metadata": {
        "colab": {
          "base_uri": "https://localhost:8080/"
        },
        "id": "nRDSp-8_Gioi",
        "outputId": "19d728da-39c8-4175-a92a-e8140465d098"
      },
      "outputs": [
        {
          "output_type": "stream",
          "name": "stderr",
          "text": [
            "<ipython-input-11-9b3f098667d8>:4: DeprecationWarning: KerasRegressor is deprecated, use Sci-Keras (https://github.com/adriangb/scikeras) instead. See https://www.adriangb.com/scikeras/stable/migration.html for help migrating.\n",
            "  lstm_regressor = KerasRegressor(build_fn=create_lstm_model, verbose=0)\n"
          ]
        }
      ],
      "source": [
        "from sklearn.model_selection import GridSearchCV\n",
        "\n",
        "# Wrap the Keras model using KerasRegressor\n",
        "lstm_regressor = KerasRegressor(build_fn=create_lstm_model, verbose=0)\n",
        "\n",
        "# Define the hyperparameter grid for optimization\n",
        "param_grid = {\n",
        "    'units': [50, 100, 150],         # Different number of LSTM units\n",
        "    'learning_rate': [0.001, 0.01]   # Different learning rates\n",
        "}\n",
        "\n",
        "# Perform grid search with cross-validation\n",
        "grid_search = GridSearchCV(estimator=lstm_regressor, param_grid=param_grid, cv=10, n_jobs=-1)\n",
        "grid_result = grid_search.fit(X_train_pre_musk, y_train_pre_musk)\n",
        "\n",
        "# Get the best LSTM model with optimized hyperparameters\n",
        "best_lstm_model_pre_musk = grid_result.best_estimator_\n",
        "\n",
        "# Train the best LSTM model\n",
        "best_lstm_model_pre_musk.fit(X_train_pre_musk, y_train_pre_musk, epochs=100, batch_size=32, verbose=0)\n",
        "\n",
        "# Make predictions using the best LSTM model\n",
        "y_pred_pre_musk = best_lstm_model_pre_musk.predict(X_test_pre_musk)\n",
        "\n",
        "# Step 3: Calculate the residuals as the difference between actual pre-Musk data and LSTM predictions\n",
        "residuals = y_train_pre_musk - y_pred_pre_musk.flatten()"
      ]
    },
    {
      "cell_type": "code",
      "execution_count": null,
      "metadata": {
        "id": "IvB9_4_XHGTh"
      },
      "outputs": [],
      "source": [
        "# Perform grid search with cross-validation for post-Musk period\n",
        "grid_search_post_musk = GridSearchCV(estimator=lstm_regressor, param_grid=param_grid, cv=10, n_jobs=-1)\n",
        "grid_result_post_musk = grid_search_post_musk.fit(X_train_post_musk, y_train_post_musk)\n",
        "\n",
        "# Get the best LSTM model with optimized hyperparameters for post-Musk period\n",
        "best_lstm_model_post_musk = grid_result_post_musk.best_estimator_\n",
        "\n",
        "# Train the best LSTM model for post-Musk period\n",
        "best_lstm_model_post_musk.fit(X_train_post_musk, y_train_post_musk, epochs=100, batch_size=32, verbose=0)\n",
        "\n",
        "# Make predictions using the best LSTM model for post-Musk period\n",
        "y_pred_post_musk = best_lstm_model_post_musk.predict(X_test_post_musk)\n",
        "residuals_post = y_train_post_musk.flatten() - y_pred_post_musk"
      ]
    },
    {
      "cell_type": "code",
      "execution_count": null,
      "metadata": {
        "colab": {
          "base_uri": "https://localhost:8080/"
        },
        "id": "uP9r6R0PISfe",
        "outputId": "011e85dc-4a88-4f60-d127-fbc15abd9062"
      },
      "outputs": [
        {
          "output_type": "stream",
          "name": "stdout",
          "text": [
            "Best Hyperparameters for Pre-Musk LSTM Model:\n",
            "Number of LSTM Units: 50\n",
            "Learning Rate: 0.01\n",
            "\n",
            "Best Hyperparameters for Post-Musk LSTM Model:\n",
            "Number of LSTM Units: 100\n",
            "Learning Rate: 0.001\n"
          ]
        }
      ],
      "source": [
        "# Get the best hyperparameters for the pre-Musk LSTM model\n",
        "best_units_pre_musk = grid_result.best_params_['units']\n",
        "best_learning_rate_pre_musk = grid_result.best_params_['learning_rate']\n",
        "\n",
        "best_units_post_musk = grid_result_post_musk.best_params_['units']\n",
        "best_learning_rate_post_musk = grid_result_post_musk.best_params_['learning_rate']\n",
        "\n",
        "print(\"Best Hyperparameters for Pre-Musk LSTM Model:\")\n",
        "print(\"Number of LSTM Units:\", best_units_pre_musk)\n",
        "print(\"Learning Rate:\", best_learning_rate_pre_musk)\n",
        "\n",
        "print(\"\\nBest Hyperparameters for Post-Musk LSTM Model:\")\n",
        "print(\"Number of LSTM Units:\", best_units_post_musk)\n",
        "print(\"Learning Rate:\", best_learning_rate_post_musk)"
      ]
    },
    {
      "cell_type": "code",
      "execution_count": null,
      "metadata": {
        "colab": {
          "base_uri": "https://localhost:8080/"
        },
        "id": "rcCYzCGLU--z",
        "outputId": "0dbcf09a-826e-486e-8753-f85ec62be9a5"
      },
      "outputs": [
        {
          "output_type": "stream",
          "name": "stdout",
          "text": [
            "LSTM Accuracy for Pre-Musk Period: 90.02%\n",
            "LSTM Accuracy for Post-Musk Period: 82.81%\n"
          ]
        }
      ],
      "source": [
        "\n",
        "# Calculate the RMSE for pre-Musk period\n",
        "rmse_pre_musk = np.sqrt(mean_squared_error(y_test_pre_musk, y_pred_pre_musk))\n",
        "accuracy_pre_musk = (1 - (rmse_pre_musk / (y_test_pre_musk.max() - y_test_pre_musk.min()))) * 100\n",
        "print(\"LSTM Accuracy for Pre-Musk Period: {:.2f}%\".format(accuracy_pre_musk))\n",
        "\n",
        "# Calculate the RMSE for post-Musk period\n",
        "rmse_post_musk = np.sqrt(mean_squared_error(y_test_post_musk, y_pred_post_musk))\n",
        "accuracy_post_musk = (1 - (rmse_post_musk / (y_test_post_musk.max() - y_test_post_musk.min()))) * 100\n",
        "print(\"LSTM Accuracy for Post-Musk Period: {:.2f}%\".format(accuracy_post_musk))"
      ]
    },
    {
      "cell_type": "code",
      "execution_count": null,
      "metadata": {
        "colab": {
          "base_uri": "https://localhost:8080/"
        },
        "id": "qA2F-k1QZMrr",
        "outputId": "ad68d9df-b448-4c31-f750-66fd084f8d42"
      },
      "outputs": [
        {
          "output_type": "display_data",
          "data": {
            "text/plain": [
              "<Figure size 1000x600 with 1 Axes>"
            ],
            "image/png": "[encoded data removed]"
          },
          "metadata": {}
        },
        {
          "output_type": "display_data",
          "data": {
            "text/plain": [
              "<Figure size 1000x600 with 1 Axes>"
            ],
            "image/png": "[encoded data removed]"
          },
          "metadata": {}
        }
      ],
      "source": [
        "import matplotlib.pyplot as plt\n",
        "\n",
        "# Plot LSTM predictions vs. actual values for pre-Musk period\n",
        "plt.figure(figsize=(10, 6))\n",
        "plt.plot(y_test_pre_musk, label='Actual Values')\n",
        "plt.plot(y_pred_pre_musk, label='Predicted Values')\n",
        "plt.title('LSTM Predictions vs. Actual Values (Pre-Musk Period)')\n",
        "plt.legend()\n",
        "plt.xlabel('Time')\n",
        "plt.ylabel('Normalized Returns')\n",
        "plt.show()\n",
        "\n",
        "# Plot LSTM predictions vs. actual values for post-Musk period\n",
        "plt.figure(figsize=(10, 6))\n",
        "plt.plot(y_test_post_musk, label='Actual Values')\n",
        "plt.plot(y_pred_post_musk, label='Predicted Values')\n",
        "plt.title('LSTM Predictions vs. Actual Values (Post-Musk Period)')\n",
        "plt.legend()\n",
        "plt.xlabel('Time')\n",
        "plt.ylabel('Normalized Returns')\n",
        "plt.show()\n"
      ]
    },
    {
      "cell_type": "code",
      "execution_count": null,
      "metadata": {
        "colab": {
          "base_uri": "https://localhost:8080/"
        },
        "id": "eBUvf4scaGxd",
        "outputId": "2edad496-1d8a-424e-86e3-09954d0ad1a5"
      },
      "outputs": [
        {
          "output_type": "stream",
          "name": "stdout",
          "text": [
            "Shapiro-Wilk Test - Pre-Musk:\n",
            "Statistic: 0.8059301972389221 p-value: 1.5777103141072726e-33\n",
            "Shapiro-Wilk Test - Post-Musk:\n",
            "Statistic: 0.9984762668609619 p-value: 0.9954544901847839\n",
            "Anderson-Darling Test - Pre-Musk:\n",
            "Statistic: 44.233257497628074 Critical Values: [0.574 0.653 0.784 0.915 1.088]\n",
            "Anderson-Darling Test - Post-Musk:\n",
            "Statistic: 0.11265588876244692 Critical Values: [0.569 0.648 0.777 0.906 1.078]\n"
          ]
        }
      ],
      "source": [
        "from scipy.stats import shapiro, anderson\n",
        "\n",
        "# Shapiro-Wilk test for pre-Musk\n",
        "statistic, p_value = shapiro(y_pred_pre_musk)\n",
        "print(\"Shapiro-Wilk Test - Pre-Musk:\")\n",
        "print(\"Statistic:\", statistic, \"p-value:\", p_value)\n",
        "\n",
        "# Shapiro-Wilk test for post-Musk\n",
        "statistic, p_value = shapiro(y_pred_post_musk)\n",
        "print(\"Shapiro-Wilk Test - Post-Musk:\")\n",
        "print(\"Statistic:\", statistic, \"p-value:\", p_value)\n",
        "\n",
        "# Anderson-Darling test for pre-Musk\n",
        "result = anderson(y_pred_pre_musk)\n",
        "print(\"Anderson-Darling Test - Pre-Musk:\")\n",
        "print(\"Statistic:\", result.statistic, \"Critical Values:\", result.critical_values)\n",
        "\n",
        "# Anderson-Darling test for post-Musk\n",
        "result = anderson(y_pred_post_musk)\n",
        "print(\"Anderson-Darling Test - Post-Musk:\")\n",
        "print(\"Statistic:\", result.statistic, \"Critical Values:\", result.critical_values)"
      ]
    },
    {
      "cell_type": "markdown",
      "metadata": {
        "id": "nq4pHJrhaZUW"
      },
      "source": [
        "pre musk is not normal, post musk is not"
      ]
    },
    {
      "cell_type": "code",
      "execution_count": null,
      "metadata": {
        "colab": {
          "base_uri": "https://localhost:8080/"
        },
        "id": "zDywGYq5a2pR",
        "outputId": "4cef0856-b7b3-4546-ca6c-467852bde87a"
      },
      "outputs": [
        {
          "output_type": "stream",
          "name": "stdout",
          "text": [
            "Mann-Whitney U Test:\n",
            "Statistic: 261963.0\n",
            "P-value: 1.416479201298495e-67\n",
            "Reject the null hypothesis: There is a significant difference between the volatilities.\n"
          ]
        }
      ],
      "source": [
        "from scipy.stats import mannwhitneyu\n",
        "\n",
        "# Assuming you have the LSTM volatility predictions for pre-Musk and post-Musk periods\n",
        "# in variables y_pred_pre_musk and y_pred_post_musk respectively.\n",
        "\n",
        "# Perform the Mann-Whitney U test\n",
        "statistic, p_value = mannwhitneyu(y_pred_pre_musk, y_pred_post_musk)\n",
        "\n",
        "# Print the results\n",
        "print(\"Mann-Whitney U Test:\")\n",
        "print(f\"Statistic: {statistic}\")\n",
        "print(f\"P-value: {p_value}\")\n",
        "\n",
        "# Set the significance level (alpha)\n",
        "alpha = 0.05\n",
        "\n",
        "# Check if the p-value is less than the significance level\n",
        "if p_value < alpha:\n",
        "    print(\"Reject the null hypothesis: There is a significant difference between the volatilities.\")\n",
        "else:\n",
        "    print(\"Fail to reject the null hypothesis: There is no significant difference between the volatilities.\")\n"
      ]
    },
    {
      "cell_type": "code",
      "execution_count": null,
      "metadata": {
        "colab": {
          "base_uri": "https://localhost:8080/"
        },
        "id": "-zoJw8OmbK4k",
        "outputId": "edbadb5e-6b73-4435-f6d0-30bc17da3813"
      },
      "outputs": [
        {
          "output_type": "stream",
          "name": "stdout",
          "text": [
            "Cohen's d for effect size: 1.2639401895477012\n"
          ]
        }
      ],
      "source": [
        "from numpy import mean, std\n",
        "\n",
        "# Calculate Cohen's d for effect size\n",
        "mean_pre_musk, mean_post_musk = mean(y_pred_pre_musk), mean(y_pred_post_musk)\n",
        "std_pre_musk, std_post_musk = std(y_pred_pre_musk), std(y_pred_post_musk)\n",
        "\n",
        "pooled_std = np.sqrt((std_pre_musk**2 + std_post_musk**2) / 2)\n",
        "cohen_d = abs(mean_pre_musk - mean_post_musk) / pooled_std\n",
        "\n",
        "print(\"Cohen's d for effect size:\", cohen_d)\n"
      ]
    },
    {
      "cell_type": "markdown",
      "metadata": {
        "id": "qnT230AzbUGI"
      },
      "source": [
        " the volatility in the post-Musk period may be slightly higher than in the pre-Musk period, but the difference is not very large"
      ]
    },
    {
      "cell_type": "markdown",
      "metadata": {
        "id": "R1ZqjvvjEWdw"
      },
      "source": [
        "###part 2: garch"
      ]
    },
    {
      "cell_type": "markdown",
      "metadata": {
        "id": "S6lKxmjYJ8JL"
      },
      "source": [
        "- Implement GARCH modeling on the residuals to capture long-term conditional volatility.\n",
        "- Fit GARCH models on the residuals of pre-Musk and post-Musk periods.\n",
        "- Obtain GARCH conditional volatility estimates for each period."
      ]
    },
    {
      "cell_type": "code",
      "source": [
        "residuals_post.shape"
      ],
      "metadata": {
        "colab": {
          "base_uri": "https://localhost:8080/"
        },
        "id": "AuDJWkrK_PQU",
        "outputId": "6e24c66b-93db-46de-b9ee-d1466865430c"
      },
      "execution_count": null,
      "outputs": [
        {
          "output_type": "execute_result",
          "data": {
            "text/plain": [
              "(305,)"
            ]
          },
          "metadata": {},
          "execution_count": 166
        }
      ]
    },
    {
      "cell_type": "code",
      "execution_count": null,
      "metadata": {
        "id": "YThi4ec-S5C7"
      },
      "outputs": [],
      "source": [
        "residuals_g = pd.Series(residuals.ravel())*100\n",
        "residuals_post_g = pd.Series(residuals_post.ravel())*100"
      ]
    },
    {
      "cell_type": "code",
      "source": [
        "residuals_post[:1]"
      ],
      "metadata": {
        "id": "czq4vcOY-iPZ"
      },
      "execution_count": null,
      "outputs": []
    },
    {
      "cell_type": "code",
      "execution_count": null,
      "metadata": {
        "colab": {
          "base_uri": "https://localhost:8080/"
        },
        "id": "sn0QJ3B5P56M",
        "outputId": "399b0f88-8f4a-4695-b2ef-4c1fa198e507"
      },
      "outputs": [
        {
          "output_type": "stream",
          "name": "stdout",
          "text": [
            "KPSS Test for Pre-Musk Residuals:\n",
            "KPSS Statistic: 0.039484895151445716\n",
            "p-value: 0.1\n",
            "Critical Values:\n",
            "\t10%: 0.347\n",
            "\t5%: 0.463\n",
            "\t2.5%: 0.574\n",
            "\t1%: 0.739\n",
            "Is the series stationary? No\n",
            "KPSS Test for Post-Musk Residuals:\n",
            "KPSS Statistic: 0.1670391911418315\n",
            "p-value: 0.1\n",
            "Critical Values:\n",
            "\t10%: 0.347\n",
            "\t5%: 0.463\n",
            "\t2.5%: 0.574\n",
            "\t1%: 0.739\n",
            "Is the series stationary? No\n"
          ]
        },
        {
          "output_type": "stream",
          "name": "stderr",
          "text": [
            "/usr/local/lib/python3.10/dist-packages/statsmodels/tsa/stattools.py:2022: InterpolationWarning: The test statistic is outside of the range of p-values available in the\n",
            "look-up table. The actual p-value is greater than the p-value returned.\n",
            "\n",
            "  warnings.warn(\n",
            "/usr/local/lib/python3.10/dist-packages/statsmodels/tsa/stattools.py:2022: InterpolationWarning: The test statistic is outside of the range of p-values available in the\n",
            "look-up table. The actual p-value is greater than the p-value returned.\n",
            "\n",
            "  warnings.warn(\n"
          ]
        }
      ],
      "source": [
        "import pandas as pd\n",
        "# Pre-diagnostic checks\n",
        "# Check for stationarity using the Augmented Dickey-Fuller (ADF) test\n",
        "from statsmodels.tsa.stattools import kpss\n",
        "\n",
        "\n",
        "# Pre-diagnostic checks\n",
        "# Check for stationarity using the Kwiatkowski-Phillips-Schmidt-Shin (KPSS) test\n",
        "def kpss_test(series, title):\n",
        "    result = kpss(series)\n",
        "    print(f\"KPSS Test for {title} Residuals:\")\n",
        "    print(\"KPSS Statistic:\", result[0])\n",
        "    print(\"p-value:\", result[1])\n",
        "    print(\"Critical Values:\")\n",
        "    for key, value in result[3].items():\n",
        "        print(f\"\\t{key}: {value}\")\n",
        "    print(\"Is the series stationary?\", \"Yes\" if result[1] < 0.05 else \"No\")\n",
        "\n",
        "# Perform KPSS test for both pre and post-Musk residuals\n",
        "kpss_test(residuals_g, \"Pre-Musk\")\n",
        "kpss_test(residuals_post_g, \"Post-Musk\")\n"
      ]
    },
    {
      "cell_type": "code",
      "execution_count": null,
      "metadata": {
        "id": "197VZuGjJ5dJ"
      },
      "outputs": [],
      "source": [
        "import numpy as np\n",
        "from arch import arch_model\n",
        "import statsmodels.api as sm\n",
        "from scipy.stats import chi2\n",
        "from sklearn.metrics import mean_squared_error\n",
        "import arch\n",
        "\n",
        "def prepare_data(data, window_size):\n",
        "    # Create a list to store the prepared data\n",
        "    prepared_data = []\n",
        "\n",
        "    # Calculate the number of windows that can be created from the data\n",
        "    num_windows = len(data) // window_size\n",
        "\n",
        "    for i in range(num_windows):\n",
        "        # Extract the current window of data\n",
        "        window = data[i * window_size : (i+1) * window_size]\n",
        "\n",
        "        # Check if the window contains any missing values\n",
        "        if not np.isnan(window).any():\n",
        "            # If there are no missing values, add the window to the prepared data\n",
        "            prepared_data.append(window)\n",
        "        else:\n",
        "            print(f\"Window {i} contains missing values and will be skipped.\")\n",
        "\n",
        "    return prepared_data\n",
        "\n",
        "\n",
        "def portmanteau_test(residuals, lag):\n",
        "    n = len(residuals)\n",
        "    q_stat = n * (n + 2) * np.sum([(np.correlate(residuals, residuals, 'full')[n - 1 + l]**2) / (n - l) for l in range(1, lag + 1)])\n",
        "    p_value = 1.0 - chi2.cdf(q_stat, lag)\n",
        "    return p_value"
      ]
    },
    {
      "cell_type": "code",
      "execution_count": null,
      "metadata": {
        "id": "QhtLLLto1ROc"
      },
      "outputs": [],
      "source": [
        "\n",
        "\n",
        "def walk_forward_garch(data, p_range, q_range, window_size):\n",
        "    forecasts = []\n",
        "    conditional_volatility = []\n",
        "    best_garch_models = []\n",
        "    portmanteau_p_values = []\n",
        "\n",
        "    for i in range(len(data)):\n",
        "        # Prepare the data for the current window\n",
        "        train_set, val_set = data[:i], data[i:]\n",
        "\n",
        "        best_mse = float('inf')\n",
        "        best_p, best_q = 0, 0\n",
        "\n",
        "        for p in p_range:\n",
        "            for q in q_range:\n",
        "                # Fit the GARCH model on the training set of the current window\n",
        "                garch_model = arch.arch_model(train_set, p=p, q=q)\n",
        "                garch_result = garch_model.fit(disp='off')\n",
        "\n",
        "                # Forecast volatility for the validation set of the current window\n",
        "                garch_forecast = garch_result.forecast(horizon=len(val_set))\n",
        "\n",
        "                # Calculate mean squared error for the forecast\n",
        "                mse = np.mean((val_set - garch_forecast.mean[-1])**2)\n",
        "\n",
        "                if mse < best_mse:\n",
        "                    best_mse = mse\n",
        "                    best_p, best_q = p, q\n",
        "\n",
        "        # Fit the best GARCH model on the entire data up to the current window\n",
        "        best_garch_model = arch.arch_model(data[:i+window_size], p=best_p, q=best_q)\n",
        "        best_garch_result = best_garch_model.fit(disp='off')\n",
        "\n",
        "        # Forecast volatility for the validation set of the current window\n",
        "        garch_forecast = best_garch_result.forecast(horizon=len(val_set))\n",
        "\n",
        "        # Append the results for the current window to the lists\n",
        "        forecasts.append(garch_forecast.mean[-1])\n",
        "        conditional_volatility.append(garch_forecast.residual_variance[-1])\n",
        "        best_garch_models.append(best_garch_result)\n",
        "\n",
        "        # Perform Portmanteau test\n",
        "        portmanteau_p_value = portmanteau_test(best_garch_result.resid, lag=10) # You can adjust the lag as needed\n",
        "        portmanteau_p_values.append(portmanteau_p_value)\n",
        "\n",
        "    return forecasts, conditional_volatility, best_garch_models, portmanteau_p_values\n"
      ]
    },
    {
      "cell_type": "code",
      "execution_count": null,
      "metadata": {
        "colab": {
          "base_uri": "https://localhost:8080/",
          "height": 437
        },
        "id": "2Y782xg5gRN5",
        "outputId": "87a7d3fd-39d9-4875-b42b-80364b03bda1"
      },
      "outputs": [
        {
          "output_type": "stream",
          "name": "stdout",
          "text": [
            "Pre-Musk Data Size: 136\n",
            "Post-Musk Data Size: 30\n"
          ]
        },
        {
          "output_type": "error",
          "ename": "ValueError",
          "evalue": "ignored",
          "traceback": [
            "\u001b[0;31m---------------------------------------------------------------------------\u001b[0m",
            "\u001b[0;31mValueError\u001b[0m                                Traceback (most recent call last)",
            "\u001b[0;32m<ipython-input-171-5939161d1f94>\u001b[0m in \u001b[0;36m<cell line: 16>\u001b[0;34m()\u001b[0m\n\u001b[1;32m     14\u001b[0m \u001b[0;34m\u001b[0m\u001b[0m\n\u001b[1;32m     15\u001b[0m \u001b[0;31m# Perform walk-forward GARCH modeling for pre-Musk residuals\u001b[0m\u001b[0;34m\u001b[0m\u001b[0;34m\u001b[0m\u001b[0m\n\u001b[0;32m---> 16\u001b[0;31m \u001b[0mforecasts_pre_musk\u001b[0m\u001b[0;34m,\u001b[0m \u001b[0mconditional_volatility_pre_musk\u001b[0m\u001b[0;34m,\u001b[0m \u001b[0mbest_garch_models_pre_musk\u001b[0m\u001b[0;34m,\u001b[0m \u001b[0mportmanteau_p_values_pre_musk\u001b[0m \u001b[0;34m=\u001b[0m \u001b[0mwalk_forward_garch\u001b[0m\u001b[0;34m(\u001b[0m\u001b[0mpre_musk_data\u001b[0m\u001b[0;34m,\u001b[0m \u001b[0mp_range\u001b[0m\u001b[0;34m,\u001b[0m \u001b[0mq_range\u001b[0m\u001b[0;34m,\u001b[0m \u001b[0mwindow_size\u001b[0m\u001b[0;34m)\u001b[0m\u001b[0;34m\u001b[0m\u001b[0;34m\u001b[0m\u001b[0m\n\u001b[0m\u001b[1;32m     17\u001b[0m \u001b[0;34m\u001b[0m\u001b[0m\n\u001b[1;32m     18\u001b[0m \u001b[0;31m# Perform walk-forward GARCH modeling for post-Musk residuals\u001b[0m\u001b[0;34m\u001b[0m\u001b[0;34m\u001b[0m\u001b[0m\n",
            "\u001b[0;32m<ipython-input-170-93c2ad97d774>\u001b[0m in \u001b[0;36mwalk_forward_garch\u001b[0;34m(data, p_range, q_range, window_size)\u001b[0m\n\u001b[1;32m     16\u001b[0m                 \u001b[0;31m# Fit the GARCH model on the training set of the current window\u001b[0m\u001b[0;34m\u001b[0m\u001b[0;34m\u001b[0m\u001b[0m\n\u001b[1;32m     17\u001b[0m                 \u001b[0mgarch_model\u001b[0m \u001b[0;34m=\u001b[0m \u001b[0march\u001b[0m\u001b[0;34m.\u001b[0m\u001b[0march_model\u001b[0m\u001b[0;34m(\u001b[0m\u001b[0mtrain_set\u001b[0m\u001b[0;34m,\u001b[0m \u001b[0mp\u001b[0m\u001b[0;34m=\u001b[0m\u001b[0mp\u001b[0m\u001b[0;34m,\u001b[0m \u001b[0mq\u001b[0m\u001b[0;34m=\u001b[0m\u001b[0mq\u001b[0m\u001b[0;34m)\u001b[0m\u001b[0;34m\u001b[0m\u001b[0;34m\u001b[0m\u001b[0m\n\u001b[0;32m---> 18\u001b[0;31m                 \u001b[0mgarch_result\u001b[0m \u001b[0;34m=\u001b[0m \u001b[0mgarch_model\u001b[0m\u001b[0;34m.\u001b[0m\u001b[0mfit\u001b[0m\u001b[0;34m(\u001b[0m\u001b[0mdisp\u001b[0m\u001b[0;34m=\u001b[0m\u001b[0;34m'off'\u001b[0m\u001b[0;34m)\u001b[0m\u001b[0;34m\u001b[0m\u001b[0;34m\u001b[0m\u001b[0m\n\u001b[0m\u001b[1;32m     19\u001b[0m \u001b[0;34m\u001b[0m\u001b[0m\n\u001b[1;32m     20\u001b[0m                 \u001b[0;31m# Forecast volatility for the validation set of the current window\u001b[0m\u001b[0;34m\u001b[0m\u001b[0;34m\u001b[0m\u001b[0m\n",
            "\u001b[0;32m/usr/local/lib/python3.10/dist-packages/arch/univariate/base.py\u001b[0m in \u001b[0;36mfit\u001b[0;34m(self, update_freq, disp, starting_values, cov_type, show_warning, first_obs, last_obs, tol, options, backcast)\u001b[0m\n\u001b[1;32m    637\u001b[0m         )\n\u001b[1;32m    638\u001b[0m \u001b[0;34m\u001b[0m\u001b[0m\n\u001b[0;32m--> 639\u001b[0;31m         \u001b[0mself\u001b[0m\u001b[0;34m.\u001b[0m\u001b[0m_adjust_sample\u001b[0m\u001b[0;34m(\u001b[0m\u001b[0mfirst_obs\u001b[0m\u001b[0;34m,\u001b[0m \u001b[0mlast_obs\u001b[0m\u001b[0;34m)\u001b[0m\u001b[0;34m\u001b[0m\u001b[0;34m\u001b[0m\u001b[0m\n\u001b[0m\u001b[1;32m    640\u001b[0m \u001b[0;34m\u001b[0m\u001b[0m\n\u001b[1;32m    641\u001b[0m         \u001b[0mresids\u001b[0m \u001b[0;34m=\u001b[0m \u001b[0mnp\u001b[0m\u001b[0;34m.\u001b[0m\u001b[0masarray\u001b[0m\u001b[0;34m(\u001b[0m\u001b[0mself\u001b[0m\u001b[0;34m.\u001b[0m\u001b[0mresids\u001b[0m\u001b[0;34m(\u001b[0m\u001b[0mself\u001b[0m\u001b[0;34m.\u001b[0m\u001b[0mstarting_values\u001b[0m\u001b[0;34m(\u001b[0m\u001b[0;34m)\u001b[0m\u001b[0;34m)\u001b[0m\u001b[0;34m,\u001b[0m \u001b[0mdtype\u001b[0m\u001b[0;34m=\u001b[0m\u001b[0mfloat\u001b[0m\u001b[0;34m)\u001b[0m\u001b[0;34m\u001b[0m\u001b[0;34m\u001b[0m\u001b[0m\n",
            "\u001b[0;32m/usr/local/lib/python3.10/dist-packages/arch/univariate/mean.py\u001b[0m in \u001b[0;36m_adjust_sample\u001b[0;34m(self, first_obs, last_obs)\u001b[0m\n\u001b[1;32m    690\u001b[0m         \u001b[0m_last_obs_index\u001b[0m \u001b[0;34m=\u001b[0m \u001b[0mcutoff_to_index\u001b[0m\u001b[0;34m(\u001b[0m\u001b[0mlast_obs\u001b[0m\u001b[0;34m,\u001b[0m \u001b[0mindex\u001b[0m\u001b[0;34m,\u001b[0m \u001b[0mself\u001b[0m\u001b[0;34m.\u001b[0m\u001b[0m_y\u001b[0m\u001b[0;34m.\u001b[0m\u001b[0mshape\u001b[0m\u001b[0;34m[\u001b[0m\u001b[0;36m0\u001b[0m\u001b[0;34m]\u001b[0m\u001b[0;34m)\u001b[0m\u001b[0;34m\u001b[0m\u001b[0;34m\u001b[0m\u001b[0m\n\u001b[1;32m    691\u001b[0m         \u001b[0;32mif\u001b[0m \u001b[0m_last_obs_index\u001b[0m \u001b[0;34m<=\u001b[0m \u001b[0m_first_obs_index\u001b[0m\u001b[0;34m:\u001b[0m\u001b[0;34m\u001b[0m\u001b[0;34m\u001b[0m\u001b[0m\n\u001b[0;32m--> 692\u001b[0;31m             \u001b[0;32mraise\u001b[0m \u001b[0mValueError\u001b[0m\u001b[0;34m(\u001b[0m\u001b[0;34m\"first_obs and last_obs produce in an empty array.\"\u001b[0m\u001b[0;34m)\u001b[0m\u001b[0;34m\u001b[0m\u001b[0;34m\u001b[0m\u001b[0m\n\u001b[0m\u001b[1;32m    693\u001b[0m         \u001b[0mself\u001b[0m\u001b[0;34m.\u001b[0m\u001b[0m_fit_indices\u001b[0m \u001b[0;34m=\u001b[0m \u001b[0;34m[\u001b[0m\u001b[0m_first_obs_index\u001b[0m\u001b[0;34m,\u001b[0m \u001b[0m_last_obs_index\u001b[0m\u001b[0;34m]\u001b[0m\u001b[0;34m\u001b[0m\u001b[0;34m\u001b[0m\u001b[0m\n\u001b[1;32m    694\u001b[0m         \u001b[0mself\u001b[0m\u001b[0;34m.\u001b[0m\u001b[0m_fit_y\u001b[0m \u001b[0;34m=\u001b[0m \u001b[0mself\u001b[0m\u001b[0;34m.\u001b[0m\u001b[0m_y\u001b[0m\u001b[0;34m[\u001b[0m\u001b[0m_first_obs_index\u001b[0m\u001b[0;34m:\u001b[0m\u001b[0m_last_obs_index\u001b[0m\u001b[0;34m]\u001b[0m\u001b[0;34m\u001b[0m\u001b[0;34m\u001b[0m\u001b[0m\n",
            "\u001b[0;31mValueError\u001b[0m: first_obs and last_obs produce in an empty array."
          ]
        }
      ],
      "source": [
        "\n",
        "# Define the ranges of p and q for hyperparameter optimization\n",
        "p_range = range(1, 5)\n",
        "q_range = range(1, 5)\n",
        "\n",
        "# Define the window size for walk-forward validation\n",
        "window_size = 10\n",
        "\n",
        "# Prepare the data for pre-Musk and post-Musk periods\n",
        "pre_musk_data = prepare_data(residuals_g.values, window_size)\n",
        "post_musk_data = prepare_data(residuals_post_g.values, window_size)\n",
        "\n",
        "print(\"Pre-Musk Data Size:\", len(pre_musk_data))\n",
        "print(\"Post-Musk Data Size:\", len(post_musk_data))\n",
        "\n",
        "# Perform walk-forward GARCH modeling for pre-Musk residuals\n",
        "forecasts_pre_musk, conditional_volatility_pre_musk, best_garch_models_pre_musk, portmanteau_p_values_pre_musk = walk_forward_garch(pre_musk_data, p_range, q_range, window_size)\n",
        "\n",
        "# Perform walk-forward GARCH modeling for post-Musk residuals\n",
        "forecasts_post_musk, conditional_volatility_post_musk, best_garch_models_post_musk, portmanteau_p_values_post_musk = walk_forward_garch(post_musk_data, p_range, q_range, window_size)\n"
      ]
    },
    {
      "cell_type": "code",
      "execution_count": null,
      "metadata": {
        "colab": {
          "base_uri": "https://localhost:8080/",
          "height": 400
        },
        "id": "Lqr9wEwtkKCh",
        "outputId": "308e1887-ba05-4ca2-cd7b-edb35ee427f5"
      },
      "outputs": [
        {
          "ename": "TypeError",
          "evalue": "ignored",
          "output_type": "error",
          "traceback": [
            "\u001b[0;31m---------------------------------------------------------------------------\u001b[0m",
            "\u001b[0;31mTypeError\u001b[0m                                 Traceback (most recent call last)",
            "\u001b[0;32m<ipython-input-22-6f00fe2df14f>\u001b[0m in \u001b[0;36m<cell line: 2>\u001b[0;34m()\u001b[0m\n\u001b[1;32m      1\u001b[0m \u001b[0;31m# Perform Walk-Forward Validation and GARCH modeling for pre-Musk residuals\u001b[0m\u001b[0;34m\u001b[0m\u001b[0;34m\u001b[0m\u001b[0m\n\u001b[0;32m----> 2\u001b[0;31m \u001b[0mbest_params_pre_musk\u001b[0m\u001b[0;34m,\u001b[0m \u001b[0mbox_pierce_p_values_pre_musk\u001b[0m\u001b[0;34m,\u001b[0m \u001b[0mforecasts_pre_musk\u001b[0m\u001b[0;34m,\u001b[0m \u001b[0mconditional_volatility_pre_musk\u001b[0m \u001b[0;34m=\u001b[0m \u001b[0mwalk_forward_garch\u001b[0m\u001b[0;34m(\u001b[0m\u001b[0mresiduals\u001b[0m\u001b[0;34m)\u001b[0m\u001b[0;34m\u001b[0m\u001b[0;34m\u001b[0m\u001b[0m\n\u001b[0m\u001b[1;32m      3\u001b[0m \u001b[0;34m\u001b[0m\u001b[0m\n\u001b[1;32m      4\u001b[0m \u001b[0;31m# Step 8: Walk-Forward Validation and GARCH modeling for post-Musk residuals\u001b[0m\u001b[0;34m\u001b[0m\u001b[0;34m\u001b[0m\u001b[0m\n\u001b[1;32m      5\u001b[0m \u001b[0mbest_params_post_musk\u001b[0m\u001b[0;34m,\u001b[0m \u001b[0mbox_pierce_p_values_post_musk\u001b[0m\u001b[0;34m,\u001b[0m \u001b[0mforecasts_post_musk\u001b[0m\u001b[0;34m,\u001b[0m \u001b[0mconditional_volatility_post_musk\u001b[0m \u001b[0;34m=\u001b[0m \u001b[0mwalk_forward_garch\u001b[0m\u001b[0;34m(\u001b[0m\u001b[0mresiduals_post_g\u001b[0m\u001b[0;34m)\u001b[0m\u001b[0;34m\u001b[0m\u001b[0;34m\u001b[0m\u001b[0m\n",
            "\u001b[0;32m<ipython-input-21-8a282a187e5d>\u001b[0m in \u001b[0;36mwalk_forward_garch\u001b[0;34m(residuals)\u001b[0m\n\u001b[1;32m     17\u001b[0m         grid_search_garch = GridSearchCV(estimator=arch_model, param_grid=garch_param_grid,\n\u001b[1;32m     18\u001b[0m                                          scoring='neg_mean_squared_error', cv=10)\n\u001b[0;32m---> 19\u001b[0;31m         \u001b[0mgrid_result\u001b[0m \u001b[0;34m=\u001b[0m \u001b[0mgrid_search_garch\u001b[0m\u001b[0;34m.\u001b[0m\u001b[0mfit\u001b[0m\u001b[0;34m(\u001b[0m\u001b[0mtrain_set\u001b[0m\u001b[0;34m)\u001b[0m\u001b[0;34m\u001b[0m\u001b[0;34m\u001b[0m\u001b[0m\n\u001b[0m\u001b[1;32m     20\u001b[0m \u001b[0;34m\u001b[0m\u001b[0m\n\u001b[1;32m     21\u001b[0m         \u001b[0;31m# Get the best GARCH model with optimized hyperparameters\u001b[0m\u001b[0;34m\u001b[0m\u001b[0;34m\u001b[0m\u001b[0m\n",
            "\u001b[0;32m/usr/local/lib/python3.10/dist-packages/sklearn/model_selection/_search.py\u001b[0m in \u001b[0;36mfit\u001b[0;34m(self, X, y, groups, **fit_params)\u001b[0m\n\u001b[1;32m    774\u001b[0m             \u001b[0mscorers\u001b[0m \u001b[0;34m=\u001b[0m \u001b[0mself\u001b[0m\u001b[0;34m.\u001b[0m\u001b[0mscoring\u001b[0m\u001b[0;34m\u001b[0m\u001b[0;34m\u001b[0m\u001b[0m\n\u001b[1;32m    775\u001b[0m         \u001b[0;32melif\u001b[0m \u001b[0mself\u001b[0m\u001b[0;34m.\u001b[0m\u001b[0mscoring\u001b[0m \u001b[0;32mis\u001b[0m \u001b[0;32mNone\u001b[0m \u001b[0;32mor\u001b[0m \u001b[0misinstance\u001b[0m\u001b[0;34m(\u001b[0m\u001b[0mself\u001b[0m\u001b[0;34m.\u001b[0m\u001b[0mscoring\u001b[0m\u001b[0;34m,\u001b[0m \u001b[0mstr\u001b[0m\u001b[0;34m)\u001b[0m\u001b[0;34m:\u001b[0m\u001b[0;34m\u001b[0m\u001b[0;34m\u001b[0m\u001b[0m\n\u001b[0;32m--> 776\u001b[0;31m             \u001b[0mscorers\u001b[0m \u001b[0;34m=\u001b[0m \u001b[0mcheck_scoring\u001b[0m\u001b[0;34m(\u001b[0m\u001b[0mself\u001b[0m\u001b[0;34m.\u001b[0m\u001b[0mestimator\u001b[0m\u001b[0;34m,\u001b[0m \u001b[0mself\u001b[0m\u001b[0;34m.\u001b[0m\u001b[0mscoring\u001b[0m\u001b[0;34m)\u001b[0m\u001b[0;34m\u001b[0m\u001b[0;34m\u001b[0m\u001b[0m\n\u001b[0m\u001b[1;32m    777\u001b[0m         \u001b[0;32melse\u001b[0m\u001b[0;34m:\u001b[0m\u001b[0;34m\u001b[0m\u001b[0;34m\u001b[0m\u001b[0m\n\u001b[1;32m    778\u001b[0m             \u001b[0mscorers\u001b[0m \u001b[0;34m=\u001b[0m \u001b[0m_check_multimetric_scoring\u001b[0m\u001b[0;34m(\u001b[0m\u001b[0mself\u001b[0m\u001b[0;34m.\u001b[0m\u001b[0mestimator\u001b[0m\u001b[0;34m,\u001b[0m \u001b[0mself\u001b[0m\u001b[0;34m.\u001b[0m\u001b[0mscoring\u001b[0m\u001b[0;34m)\u001b[0m\u001b[0;34m\u001b[0m\u001b[0;34m\u001b[0m\u001b[0m\n",
            "\u001b[0;32m/usr/local/lib/python3.10/dist-packages/sklearn/metrics/_scorer.py\u001b[0m in \u001b[0;36mcheck_scoring\u001b[0;34m(estimator, scoring, allow_none)\u001b[0m\n\u001b[1;32m    472\u001b[0m     \"\"\"\n\u001b[1;32m    473\u001b[0m     \u001b[0;32mif\u001b[0m \u001b[0;32mnot\u001b[0m \u001b[0mhasattr\u001b[0m\u001b[0;34m(\u001b[0m\u001b[0mestimator\u001b[0m\u001b[0;34m,\u001b[0m \u001b[0;34m\"fit\"\u001b[0m\u001b[0;34m)\u001b[0m\u001b[0;34m:\u001b[0m\u001b[0;34m\u001b[0m\u001b[0;34m\u001b[0m\u001b[0m\n\u001b[0;32m--> 474\u001b[0;31m         raise TypeError(\n\u001b[0m\u001b[1;32m    475\u001b[0m             \u001b[0;34m\"estimator should be an estimator implementing 'fit' method, %r was passed\"\u001b[0m\u001b[0;34m\u001b[0m\u001b[0;34m\u001b[0m\u001b[0m\n\u001b[1;32m    476\u001b[0m             \u001b[0;34m%\u001b[0m \u001b[0mestimator\u001b[0m\u001b[0;34m\u001b[0m\u001b[0;34m\u001b[0m\u001b[0m\n",
            "\u001b[0;31mTypeError\u001b[0m: estimator should be an estimator implementing 'fit' method, <function arch_model at 0x7efe91e8c790> was passed"
          ]
        }
      ],
      "source": [
        "# Print results\n",
        "print(\"Pre-Musk GARCH:\")\n",
        "print(\"Best p:\", best_p_pre_musk)\n",
        "print(\"Best q:\", best_q_pre_musk)\n",
        "print(\"Mean Squared Error:\", mse_pre_musk)\n",
        "print(\"Conditional Volatility:\", conditional_volatility_pre_musk[-1])\n",
        "\n",
        "print(\"\\nPost-Musk GARCH:\")\n",
        "print(\"Best p:\", best_p_post_musk)\n",
        "print(\"Best q:\", best_q_post_musk)\n",
        "print(\"Mean Squared Error:\", mse_post_musk)\n",
        "print(\"Conditional Volatility:\", conditional_volatility_post_musk[-1])"
      ]
    },
    {
      "cell_type": "code",
      "execution_count": null,
      "metadata": {
        "id": "cAul10hqQ6R4"
      },
      "outputs": [],
      "source": [
        "\n",
        "# Post-diagnostic checks\n",
        "# GARCH Model Residuals\n",
        "\n",
        "def plot_garch_residuals(model, title):\n",
        "    residuals = model.resid\n",
        "    fig, ax = plt.subplots(figsize=(8, 4))\n",
        "    residuals.plot(ax=ax)\n",
        "    ax.set_title(f'GARCH Model Residuals - {title}')\n",
        "    plt.show()\n",
        "\n",
        "# Plot GARCH model residuals for both pre and post-Musk periods\n",
        "garch_model_pre_musk = arch_model(residuals_g, vol='Garch', p=1, q=1)\n",
        "garch_model_post_musk = arch_model(residuals_post_g, vol='Garch', p=1, q=1)\n",
        "\n",
        "garch_result_pre_musk = garch_model_pre_musk.fit(disp='off')\n",
        "garch_result_post_musk = garch_model_post_musk.fit(disp='off')\n",
        "\n",
        "print(\"GARCH Model Residuals - Pre-Musk\")\n",
        "plot_garch_residuals(garch_result_pre_musk, \"Pre-Musk\")\n",
        "\n",
        "print(\"GARCH Model Residuals - Post-Musk\")\n",
        "plot_garch_residuals(garch_result_post_musk, \"Post-Musk\")"
      ]
    },
    {
      "cell_type": "markdown",
      "metadata": {
        "id": "jIdq5BkdOTut"
      },
      "source": [
        "Compare LSTM-predicted volatility with GARCH conditional volatility for both periods.\n",
        "Analyze the patterns and magnitudes of volatility estimates to identify any differences or similarities.\n",
        "Interpret whether GARCH improves volatility estimates by capturing long-term volatility patterns that LSTM may miss."
      ]
    },
    {
      "cell_type": "code",
      "execution_count": null,
      "metadata": {
        "id": "j5x_qU4DR2xO"
      },
      "outputs": [],
      "source": [
        "import matplotlib.pyplot as plt\n",
        "\n",
        "# Compare LSTM and GARCH volatility estimates for pre-Musk period\n",
        "plt.figure(figsize=(10, 6))\n",
        "plt.plot(y_test_pre_musk.index, y_test_pre_musk, label='Actual Volatility', color='blue')\n",
        "plt.plot(y_test_pre_musk.index, y_pred_pre_musk, label='LSTM Predicted Volatility', color='green')\n",
        "plt.plot(y_test_pre_musk.index, conditional_volatility_pre_musk, label='GARCH Conditional Volatility', color='red')\n",
        "plt.xlabel('Date')\n",
        "plt.ylabel('Volatility')\n",
        "plt.title('Volatility Estimation for Pre-Musk Period')\n",
        "plt.legend()\n",
        "plt.show()\n",
        "\n",
        "# Compare LSTM and GARCH volatility estimates for post-Musk period\n",
        "plt.figure(figsize=(10, 6))\n",
        "plt.plot(y_test_post_musk.index, y_test_post_musk, label='Actual Volatility', color='blue')\n",
        "plt.plot(y_test_post_musk.index, y_pred_post_musk, label='LSTM Predicted Volatility', color='green')\n",
        "plt.plot(y_test_post_musk.index, conditional_volatility_post_musk, label='GARCH Conditional Volatility', color='red')\n",
        "plt.xlabel('Date')\n",
        "plt.ylabel('Volatility')\n",
        "plt.title('Volatility Estimation for Post-Musk Period')\n",
        "plt.legend()\n",
        "plt.show()\n"
      ]
    },
    {
      "cell_type": "code",
      "execution_count": null,
      "metadata": {
        "id": "XA8cRkAFe9Bu",
        "colab": {
          "base_uri": "https://localhost:8080/"
        },
        "outputId": "83538591-5da7-4ef3-ea8f-3ee220cc4fca"
      },
      "outputs": [
        {
          "output_type": "stream",
          "name": "stdout",
          "text": [
            "The difference in volatilities is not statistically significant.\n"
          ]
        }
      ],
      "source": [
        "import numpy as np\n",
        "\n",
        "# Assuming you have prepared daily returns for Tesla for both pre-Musk and post-Musk periods\n",
        "# tesla_daily_returns_pre_musk and tesla_daily_returns_post_musk are arrays containing daily returns for the respective periods\n",
        "\n",
        "# Calculate the observed difference in volatilities between pre-Musk and post-Musk periods\n",
        "observed_difference = day_vol_twt - day_vol_pre\n",
        "\n",
        "# Number of bootstrap samples\n",
        "num_bootstrap_samples = 100\n",
        "\n",
        "# Initialize arrays to store bootstrap samples of differences in volatilities\n",
        "bootstrap_differences = np.zeros(num_bootstrap_samples)\n",
        "\n",
        "# Perform the bootstrap\n",
        "for i in range(num_bootstrap_samples):\n",
        "    # Resample with replacement from pre-Musk and post-Musk daily returns\n",
        "    bootstrap_pre_twt = np.random.choice(tsla_pretwt_returns, size=len(tsla_pretwt_returns), replace=True)\n",
        "    bootstrap_post_twt = np.random.choice(tsla_twt_returns, size=len(tsla_twt_returns), replace=True)\n",
        "\n",
        "    # Compute the difference in volatilities for the bootstrap sample\n",
        "    bootstrap_difference = np.std(bootstrap_post_twt) - np.std(bootstrap_pre_twt)\n",
        "\n",
        "    # Store the bootstrap difference in the array\n",
        "    bootstrap_differences[i] = bootstrap_difference\n",
        "\n",
        "# Calculate the confidence intervals (e.g., 95% confidence intervals)\n",
        "lower_bound = np.percentile(bootstrap_differences, 2.5)\n",
        "upper_bound = np.percentile(bootstrap_differences, 97.5)\n",
        "\n",
        "# Check if the observed difference is within the confidence interval\n",
        "if lower_bound <= observed_difference <= upper_bound:\n",
        "    print(\"The difference in volatilities is not statistically significant.\")\n",
        "else:\n",
        "    print(\"The difference in volatilities is statistically significant.\")\n"
      ]
    },
    {
      "cell_type": "markdown",
      "metadata": {
        "id": "Y6f9ELxTEgx4"
      },
      "source": [
        "#part 2: coint"
      ]
    },
    {
      "cell_type": "markdown",
      "source": [
        "Test Stationarity: Implemented the Augmented Dickey-Fuller (ADF) test for stationarity.\n",
        "\n",
        "Cointegration Analysis: Checked for cointegration between the daily returns of Tesla and Meta. Cointegration is a statistical property that measures the long-term equilibrium relationship between two time series.\n",
        "\n",
        "VECM Model: Estimated the cointegration relationship using the Vector Error Correction Model (VECM).This model helps capture the long-term dynamics between cointegrated variables.\n",
        "\n",
        "Bootstrapping: Performed bootstrapping on the residuals obtained from the VECM model. Bootstrapping is a statistical technique to estimate the uncertainty of a sample estimate by resampling with replacement from the original data.\n",
        "\n",
        "GARCH Modeling: For each bootstrapped sample where cointegration exists, fitted a GARCH (Generalized Autoregressive Conditional Heteroskedasticity) model to the bootstrapped residuals. GARCH models are commonly used to model volatility in financial time series.\n",
        "\n",
        "Historical Volatility: Calculated the historical volatility of Tesla's returns.\n",
        "\n",
        "Impact Analysis: Analyzed the impact on Tesla's volatility by comparing GARCH models with and without the cointegration residuals. The AIC (Akaike Information Criterion) value was used to determine the model performance.\n",
        "\n",
        "ARIMA Modeling: Used ARIMA (AutoRegressive Integrated Moving Average) modeling to forecast the cointegrated residuals' volatility.\n",
        "\n",
        "Forecasted Volatility Evaluation: Reconstructed the forecasted volatility using the ARIMA forecasted residuals and compared it with the actual volatility using various evaluation metrics such as Mean Squared Error (MSE), Root Mean Squared Error (RMSE), and Mean Absolute Percentage Error (MAPE).\n",
        "\n",
        "Percentage Accuracy: Calculated the percentage-based metric by comparing the RMSE with the observed range of Tesla's historical volatility.\n",
        "\n",
        "Overall, while there was cointegration, the relationship only served to dampen Tesla's volatility and including the cointegration residuals didn't improve the GARCH model's performance. 97.85% accuracy for predicting volatility using the cointegration relationship."
      ],
      "metadata": {
        "id": "i3fmamIg7RI3"
      }
    },
    {
      "cell_type": "code",
      "execution_count": null,
      "metadata": {
        "colab": {
          "base_uri": "https://localhost:8080/"
        },
        "id": "ZRPey6magjMs",
        "outputId": "f3f62c47-2c98-4a5c-9cff-09860df85b08"
      },
      "outputs": [
        {
          "output_type": "stream",
          "name": "stdout",
          "text": [
            "The data is stationary (null hypothesis rejected).\n",
            "The data is stationary (null hypothesis rejected).\n"
          ]
        }
      ],
      "source": [
        "from statsmodels.tsa.stattools import adfuller\n",
        "\n",
        "# Assuming you have prepared daily returns for Tesla and Meta\n",
        "# tesla_daily_returns and meta_daily_returns are arrays containing daily returns for Tesla and Meta, respectively\n",
        "\n",
        "# Perform the Augmented Dickey-Fuller (ADF) test for stationarity\n",
        "def test_stationarity(data):\n",
        "    result = adfuller(data)\n",
        "    p_value = result[1]\n",
        "\n",
        "    if p_value <= 0.05:\n",
        "        print(\"The data is stationary (null hypothesis rejected).\")\n",
        "    else:\n",
        "        print(\"The data is non-stationary (null hypothesis not rejected).\")\n",
        "\n",
        "# Verify stationarity for Tesla and Meta returns\n",
        "test_stationarity(tsla_returns)\n",
        "test_stationarity(meta_returns)\n"
      ]
    },
    {
      "cell_type": "code",
      "execution_count": null,
      "metadata": {
        "colab": {
          "base_uri": "https://localhost:8080/"
        },
        "id": "VAe3o1v_cCZz",
        "outputId": "037bce4a-39b3-4605-af34-11c243c8ffee"
      },
      "outputs": [
        {
          "output_type": "stream",
          "name": "stdout",
          "text": [
            "Cointegration exists between the two assets.\n",
            "Tesla and Meta are cointegrated.\n"
          ]
        }
      ],
      "source": [
        "# Reuse the cointegration analysis function from Project 1\n",
        "from statsmodels.tsa.stattools import coint\n",
        "\n",
        "def check_cointegration(asset1_prices, asset2_prices):\n",
        "    # Your cointegration analysis code here (using statsmodels or other suitable library)\n",
        "    _, p_value, _ = coint(asset1_prices, asset2_prices)\n",
        "    if p_value < 0.05:\n",
        "        print(\"Cointegration exists between the two assets.\")\n",
        "        return True\n",
        "    else:\n",
        "        print(\"No cointegration detected. Consider different asset pairs.\")\n",
        "        return False\n",
        "\n",
        "# Check cointegration between Tesla and Meta\n",
        "is_cointegrated = check_cointegration(tsla_returns, meta_returns)\n",
        "\n",
        "if is_cointegrated:\n",
        "    print(\"Tesla and Meta are cointegrated.\")\n",
        "else:\n",
        "    print(\"No cointegration detected between Tesla and Meta.\")\n",
        "\n",
        "# Explanation:\n",
        "# Cointegration is a statistical property that measures the long-term equilibrium relationship between two time series.\n",
        "# The function 'check_cointegration' takes the price data of two assets, stock1_prices and stock2_prices, and performs the cointegration test.\n",
        "# The test returns a p-value, which is compared against a significance level (0.05) to determine if cointegration exists.\n",
        "# If the p-value is less than 0.05, we can consider the assets to be cointegrated, indicating a potential trading relationship.\n"
      ]
    },
    {
      "cell_type": "code",
      "execution_count": null,
      "metadata": {
        "colab": {
          "base_uri": "https://localhost:8080/"
        },
        "id": "oUPmYilSd9iT",
        "outputId": "7188e710-20e3-46c4-adc3-99b0c3d977e4"
      },
      "outputs": [
        {
          "output_type": "stream",
          "name": "stderr",
          "text": [
            "/usr/local/lib/python3.10/dist-packages/statsmodels/tsa/base/tsa_model.py:471: ValueWarning: A date index has been provided, but it has no associated frequency information and so will be ignored when e.g. forecasting.\n",
            "  self._init_dates(dates, freq)\n"
          ]
        }
      ],
      "source": [
        "from sklearn.utils import resample\n",
        "from statsmodels.tsa.vector_ar.vecm import VECM\n",
        "\n",
        "\n",
        "num_bootstrap_samples = 100\n",
        "\n",
        "returns_df = pd.concat([tsla_returns, meta_returns], axis=1)\n",
        "returns_df.columns = ['Tesla', 'Meta']\n",
        "\n",
        "# Estimate the cointegration relationship using VECM\n",
        "vecm_model = VECM(returns_df, k_ar_diff=1, coint_rank=1)\n",
        "vecm_results = vecm_model.fit()\n",
        "\n",
        "# Get the residuals from the VECM model\n",
        "residuals_vecm = vecm_results.resid\n",
        "\n",
        "residuals = residuals_vecm[:,0]\n",
        "\n",
        "tsla_returns_vecm = tsla_returns.iloc[2:]\n",
        "meta_returns_vecm = meta_returns.iloc[2:]\n",
        "\n",
        "# Step 2: Bootstrapping\n",
        "# Create an array to store bootstrapped volatility estimates\n",
        "bootstrap_volatility_estimates = []\n",
        "\n",
        "# Perform bootstrapping for num_bootstrap_samples\n",
        "for i in range(num_bootstrap_samples):\n",
        "    # Resample residuals using bootstrap with replacement\n",
        "    bootstrapped_residuals = resample(residuals, replace=True)\n",
        "\n",
        "    # Step 3: Cointegration Regression for Bootstrapped Samples\n",
        "    # Perform cointegration test for the bootstrapped residuals\n",
        "    _, p_value, _ = coint(tsla_returns_vecm, bootstrapped_residuals)\n",
        "    is_cointegrated_bootstrapped = p_value < 0.05  # Adjust the significance level as needed\n",
        "\n",
        "    # Step 4: GARCH Modeling for Bootstrapped Residuals\n",
        "    if is_cointegrated_bootstrapped:\n",
        "        # Fit GARCH model to bootstrapped residuals\n",
        "        garch_model = arch_model(bootstrapped_residuals, vol='Garch', p=1, q=1)\n",
        "        garch_result = garch_model.fit(disp='off')\n",
        "\n",
        "        # Step 5: Analyze Volatility Impact\n",
        "        # Extract the last conditional volatility estimate from the GARCH model\n",
        "        last_conditional_volatility = garch_result.conditional_volatility[-1]\n",
        "\n",
        "        # Store the bootstrapped volatility estimate\n",
        "        bootstrap_volatility_estimates.append(last_conditional_volatility)\n"
      ]
    },
    {
      "cell_type": "code",
      "execution_count": null,
      "metadata": {
        "id": "n974GHDQgOKc",
        "colab": {
          "base_uri": "https://localhost:8080/"
        },
        "outputId": "e7583a56-0bc2-4028-df59-47b57f664eaa"
      },
      "outputs": [
        {
          "output_type": "stream",
          "name": "stdout",
          "text": [
            "Mean Bootstrapped Volatility: 4.991766095421745\n",
            "Standard Deviation of Bootstrapped Volatility: 0.20089775604795682\n"
          ]
        }
      ],
      "source": [
        "\n",
        "# Calculate the mean and standard deviation of the bootstrapped volatility estimates\n",
        "mean_bootstrap_volatility = np.mean(bootstrap_volatility_estimates)\n",
        "std_bootstrap_volatility = np.std(bootstrap_volatility_estimates)\n",
        "\n",
        "# Print the results\n",
        "print(\"Mean Bootstrapped Volatility:\", mean_bootstrap_volatility)\n",
        "print(\"Standard Deviation of Bootstrapped Volatility:\", std_bootstrap_volatility)"
      ]
    },
    {
      "cell_type": "code",
      "source": [
        "def historical_volatility(returns):\n",
        "    # Calculate daily log returns\n",
        "    log_returns = np.log(1 + returns)\n",
        "\n",
        "    # Calculate daily volatility\n",
        "    daily_volatility = np.std(log_returns)\n",
        "\n",
        "    # Annualize volatility (assuming 252 trading days per year)\n",
        "    annualized_volatility = daily_volatility * np.sqrt(252)\n",
        "\n",
        "    return annualized_volatility\n",
        "\n",
        "# Call the function with the Tesla returns\n",
        "historical_volatility_tesla = historical_volatility(tsla_returns)\n",
        "\n",
        "# Print the result\n",
        "print(\"Historical Volatility for Tesla:\", historical_volatility_tesla)\n"
      ],
      "metadata": {
        "colab": {
          "base_uri": "https://localhost:8080/"
        },
        "id": "PAva2Sc31QV1",
        "outputId": "133105cf-5a3f-418d-80d4-0bd2b79fefb8"
      },
      "execution_count": null,
      "outputs": [
        {
          "output_type": "stream",
          "name": "stdout",
          "text": [
            "Historical Volatility for Tesla: 18.898029792715025\n"
          ]
        }
      ]
    },
    {
      "cell_type": "markdown",
      "source": [
        "The mean bootstrapped volatility is lower than historical volatility.\n",
        "This suggests a dampening effect on Tesla's volatility due to the long-term equilibrium with Meta."
      ],
      "metadata": {
        "id": "GUi1q0y_14pD"
      }
    },
    {
      "cell_type": "code",
      "execution_count": null,
      "metadata": {
        "colab": {
          "base_uri": "https://localhost:8080/"
        },
        "id": "XviuSnyqfyY9",
        "outputId": "9559a14d-a60d-4ec0-ca56-60ceb4ae702c"
      },
      "outputs": [
        {
          "output_type": "stream",
          "name": "stdout",
          "text": [
            "Iteration:      1,   Func. Count:      6,   Neg. LLF: 6817.949392123625\n",
            "Iteration:      2,   Func. Count:     13,   Neg. LLF: 12908.70699132116\n",
            "Iteration:      3,   Func. Count:     21,   Neg. LLF: 4861.414367002702\n",
            "Iteration:      4,   Func. Count:     27,   Neg. LLF: 4814.037946680294\n",
            "Iteration:      5,   Func. Count:     33,   Neg. LLF: 4788.696173732288\n",
            "Iteration:      6,   Func. Count:     39,   Neg. LLF: 4762.79268245759\n",
            "Iteration:      7,   Func. Count:     45,   Neg. LLF: 4751.496289339442\n",
            "Iteration:      8,   Func. Count:     51,   Neg. LLF: 4750.779522803402\n",
            "Iteration:      9,   Func. Count:     56,   Neg. LLF: 4750.774696197248\n",
            "Iteration:     10,   Func. Count:     61,   Neg. LLF: 4750.774846075652\n",
            "Iteration:     11,   Func. Count:     67,   Neg. LLF: 4750.774411907659\n",
            "Iteration:     12,   Func. Count:     72,   Neg. LLF: 4750.77441078228\n",
            "Iteration:     13,   Func. Count:     76,   Neg. LLF: 4750.774410783037\n",
            "Optimization terminated successfully    (Exit mode 0)\n",
            "            Current function value: 4750.77441078228\n",
            "            Iterations: 13\n",
            "            Function evaluations: 76\n",
            "            Gradient evaluations: 13\n",
            "Iteration:      1,   Func. Count:      6,   Neg. LLF: 5150.375611301704\n",
            "Iteration:      2,   Func. Count:     13,   Neg. LLF: 3987.3121782675535\n",
            "Iteration:      3,   Func. Count:     19,   Neg. LLF: 616673084.5081468\n",
            "Iteration:      4,   Func. Count:     25,   Neg. LLF: 4082.986276263893\n",
            "Iteration:      5,   Func. Count:     32,   Neg. LLF: 3827.522267877257\n",
            "Iteration:      6,   Func. Count:     38,   Neg. LLF: 3972.393074331507\n",
            "Iteration:      7,   Func. Count:     45,   Neg. LLF: 3805.7637980050345\n",
            "Iteration:      8,   Func. Count:     51,   Neg. LLF: 3804.6388428451796\n",
            "Iteration:      9,   Func. Count:     56,   Neg. LLF: 3804.628698076839\n",
            "Iteration:     10,   Func. Count:     61,   Neg. LLF: 3804.628517073019\n",
            "Iteration:     11,   Func. Count:     66,   Neg. LLF: 3804.6285101788253\n",
            "Iteration:     12,   Func. Count:     71,   Neg. LLF: 3804.6285091437408\n",
            "Iteration:     13,   Func. Count:     75,   Neg. LLF: 3804.6285091438317\n",
            "Optimization terminated successfully    (Exit mode 0)\n",
            "            Current function value: 3804.6285091437408\n",
            "            Iterations: 13\n",
            "            Function evaluations: 75\n",
            "            Gradient evaluations: 13\n",
            "No significant improvement with cointegration residuals.\n"
          ]
        }
      ],
      "source": [
        "# If Tesla and Meta are cointegrated, analyze the impact on Tesla's volatility\n",
        "if is_cointegrated:\n",
        "    # Calculate the cointegration residuals and other relevant measures\n",
        "    _, beta, _ = coint(tsla_returns, meta_returns)\n",
        "    cointegration_residuals = tsla_returns - beta * meta_returns  # Assuming beta is the cointegration coefficient\n",
        "\n",
        "    # Analyze the impact of cointegration residuals on Tesla's volatility (e.g., compare volatility dynamics)\n",
        "    # For example, you can compare the GARCH volatility forecasts of Tesla with and without the cointegration residuals\n",
        "    garch_model_tesla_coint = arch_model(tsla_returns + cointegration_residuals, vol='Garch', p=1, q=1)\n",
        "    garch_result_tesla_coint = garch_model_tesla_coint.fit()\n",
        "\n",
        "    garch_model_tesla = arch_model(tsla_returns, vol='Garch', p=1, q=1)\n",
        "    garch_result_tesla = garch_model_tesla.fit()\n",
        "\n",
        "    # Compare the performance of GARCH with and without cointegration residuals (e.g., using AIC, BIC)\n",
        "    if garch_result_tesla_coint.aic < garch_result_tesla.aic:\n",
        "        print(\"Including cointegration residuals improves the GARCH model.\")\n",
        "    else:\n",
        "        print(\"No significant improvement with cointegration residuals.\")\n"
      ]
    },
    {
      "cell_type": "code",
      "source": [
        "from statsmodels.tsa.arima.model import ARIMA\n",
        "\n",
        "# Step 2: Fit the ARIMA model to the cointegrated residuals\n",
        "def fit_arima(residuals):\n",
        "    # Use AIC to determine the optimal order (p, d, q) of the ARIMA model\n",
        "    best_aic = np.inf\n",
        "    best_order = None\n",
        "\n",
        "    for p in range(3):\n",
        "        for d in range(3):\n",
        "            for q in range(3):\n",
        "                try:\n",
        "                    model = ARIMA(residuals, order=(p, d, q))\n",
        "                    results = model.fit()\n",
        "                    aic = results.aic\n",
        "\n",
        "                    if aic < best_aic:\n",
        "                        best_aic = aic\n",
        "                        best_order = (p, d, q)\n",
        "                except:\n",
        "                    continue\n",
        "\n",
        "    # Fit the ARIMA model with the best order\n",
        "    model = ARIMA(residuals, order=best_order)\n",
        "    arima_results = model.fit()\n",
        "\n",
        "    return arima_results"
      ],
      "metadata": {
        "id": "XTxw_AJS2tvr"
      },
      "execution_count": null,
      "outputs": []
    },
    {
      "cell_type": "code",
      "source": [
        "\n",
        "# Step 3: Forecast ARIMA model\n",
        "def forecast_arima(residuals, forecast_horizon):\n",
        "    # Fit the ARIMA model\n",
        "    arima_results = fit_arima(residuals)\n",
        "\n",
        "    # Forecast cointegrated residuals for the forecast horizon\n",
        "    forecasted_residuals = arima_results.forecast(steps=forecast_horizon)\n",
        "\n",
        "    return forecasted_residuals\n",
        "\n",
        "# Step 4: Reconstruct forecasted volatility\n",
        "def reconstruct_forecasted_volatility(tsla_volatility, forecasted_residuals):\n",
        "    cumulative_forecasted_residuals = np.cumsum(forecasted_residuals)\n",
        "    last_observed_volatility = tsla_volatility.iloc[-1]  # Last observed Tesla volatility\n",
        "    forecasted_volatility = last_observed_volatility + cumulative_forecasted_residuals\n",
        "\n",
        "    return forecasted_volatility\n",
        "\n",
        "# Step 5: Compare forecasted volatility with actual volatility\n",
        "def evaluate_forecast(actual_volatility, forecasted_volatility):\n",
        "    mse = mean_squared_error(actual_volatility, forecasted_volatility)\n",
        "    rmse = np.sqrt(mse)\n",
        "    mape = np.mean(np.abs((actual_volatility - forecasted_volatility) / actual_volatility)) * 100\n",
        "\n",
        "    return mse, rmse, mape"
      ],
      "metadata": {
        "id": "32O_Y5Cr4HQ-"
      },
      "execution_count": null,
      "outputs": []
    },
    {
      "cell_type": "code",
      "source": [
        "tsla_volatility = tsla_returns.rolling(window=10).std() * np.sqrt(252)\n",
        "\n",
        "# Drop rows with NaN values caused by the rolling window\n",
        "tsla_volatility = tsla_volatility.dropna()\n",
        "\n",
        "\n",
        "\n",
        "# Assuming you have already calculated and stored the residuals and tsla_volatility\n",
        "# Replace residuals and tsla_volatility with your actual data\n",
        "forecast_horizon = 10  # Define the forecast horizon\n",
        "\n",
        "# Step 2: Forecast ARIMA model\n",
        "forecasted_residuals = forecast_arima(residuals, forecast_horizon)\n",
        "\n",
        "# Step 4: Reconstruct forecasted volatility\n",
        "forecasted_volatility = reconstruct_forecasted_volatility(tsla_volatility, forecasted_residuals)\n",
        "\n",
        "# Step 5: Compare forecasted volatility with actual volatility\n",
        "actual_volatility = tsla_volatility[-forecast_horizon:]  # Actual Tesla volatility for the forecast horizon\n",
        "\n",
        "# Calculate evaluation metrics\n",
        "mse, rmse, mape = evaluate_forecast(actual_volatility, forecasted_volatility)"
      ],
      "metadata": {
        "colab": {
          "base_uri": "https://localhost:8080/"
        },
        "id": "RY1zJIj_4J2O",
        "outputId": "2700f01b-daab-4258-e2c1-563a9ff22241"
      },
      "execution_count": null,
      "outputs": [
        {
          "output_type": "stream",
          "name": "stderr",
          "text": [
            "/usr/local/lib/python3.10/dist-packages/statsmodels/tsa/statespace/sarimax.py:978: UserWarning: Non-invertible starting MA parameters found. Using zeros as starting parameters.\n",
            "  warn('Non-invertible starting MA parameters found.'\n",
            "/usr/local/lib/python3.10/dist-packages/statsmodels/base/model.py:604: ConvergenceWarning: Maximum Likelihood optimization failed to converge. Check mle_retvals\n",
            "  warnings.warn(\"Maximum Likelihood optimization failed to \"\n"
          ]
        }
      ]
    },
    {
      "cell_type": "code",
      "source": [
        "print(\"Forecasted Volatility:\", forecasted_volatility)\n",
        "print(\"Actual Volatility:\", actual_volatility)\n",
        "print(\"Mean Squared Error (MSE) of Volatility Forecast:\", mse)\n",
        "print(\"Root Mean Squared Error (RMSE) of Volatility Forecast:\", rmse)\n",
        "print(\"Mean Absolute Percentage Error (MAPE) of Volatility Forecast:\", mape)"
      ],
      "metadata": {
        "colab": {
          "base_uri": "https://localhost:8080/"
        },
        "id": "GRZ6R44g4Qe2",
        "outputId": "7395b7b3-2615-4870-9b7c-68ea77765646"
      },
      "execution_count": null,
      "outputs": [
        {
          "output_type": "stream",
          "name": "stdout",
          "text": [
            "Forecasted Volatility: [60.2290925  60.85178304 60.85498946 60.85819587 60.86140229 60.8646087\n",
            " 60.86781511 60.87102153 60.87422794 60.87743436]\n",
            "Actual Volatility: Date\n",
            "2023-06-23    53.083005\n",
            "2023-06-26    60.248541\n",
            "2023-06-27    62.413371\n",
            "2023-06-28    60.877814\n",
            "2023-06-29    60.788178\n",
            "2023-06-30    61.212655\n",
            "2023-07-03    69.498228\n",
            "2023-07-05    64.812137\n",
            "2023-07-06    58.215429\n",
            "2023-07-07    58.151635\n",
            "Name: Adj Close, dtype: float64\n",
            "Mean Squared Error (MSE) of Volatility Forecast: 15.85015235332952\n",
            "Root Mean Squared Error (RMSE) of Volatility Forecast: 3.9812249815012364\n",
            "Mean Absolute Percentage Error (MAPE) of Volatility Forecast: 4.5435076154793075\n"
          ]
        }
      ]
    },
    {
      "cell_type": "code",
      "source": [
        "observed_range = np.max(tsla_volatility) - np.min(tsla_volatility)\n",
        "\n",
        "# Calculate the percentage-based metric\n",
        "percentage_accuracy = 100 * (1 - (rmse / observed_range))\n",
        "\n",
        "print(\"Percentage Accuracy:\", percentage_accuracy)"
      ],
      "metadata": {
        "colab": {
          "base_uri": "https://localhost:8080/"
        },
        "id": "t2iHC7sp54VL",
        "outputId": "852095a4-1014-4aa2-c11e-9c2054a901f5"
      },
      "execution_count": null,
      "outputs": [
        {
          "output_type": "stream",
          "name": "stdout",
          "text": [
            "Percentage Accuracy: 97.85013998863673\n"
          ]
        }
      ]
    },
    {
      "cell_type": "markdown",
      "metadata": {
        "id": "CS_KzcS1Ekx6"
      },
      "source": [
        "###part4: backtest and optimize"
      ]
    },
    {
      "cell_type": "code",
      "execution_count": null,
      "metadata": {
        "id": "_yapqQ3Wg2nK"
      },
      "outputs": [],
      "source": [
        "import matplotlib.pyplot as plt\n",
        "\n",
        "# Create visualizations to display the LSTM price return forecasts, GARCH volatility forecasts,\n",
        "# and the comparison of volatilities for Tesla\n",
        "# ...\n",
        "\n",
        "# For example, you can plot the GARCH volatility forecasts\n",
        "plt.figure(figsize=(10, 6))\n",
        "plt.plot(tesla_returns_garch.index, garch_volatility_tesla, label='GARCH Volatility Forecast', color='blue')\n",
        "plt.xlabel('Date')\n",
        "plt.ylabel('Volatility')\n",
        "plt.title('GARCH Volatility Forecast for Tesla')\n",
        "plt.legend()\n",
        "plt.grid(True)\n",
        "plt.show()\n",
        "\n",
        "# Your code snippets for visualizations and interpretations go here\n"
      ]
    },
    {
      "cell_type": "code",
      "execution_count": null,
      "metadata": {
        "id": "hD3TjwK8fzvU"
      },
      "outputs": [],
      "source": [
        "# Evaluate the performance of the GARCH model using appropriate metrics\n",
        "# You can use garch_result_tesla to access various diagnostic metrics\n",
        "\n",
        "# For example, to get the residuals and standardized residuals:\n",
        "garch_resid_tesla = garch_result_tesla.resid\n",
        "garch_std_resid_tesla = garch_result_tesla.std_resid\n",
        "\n",
        "# Your code snippets for model evaluation and diagnostic checks go here\n"
      ]
    },
    {
      "cell_type": "code",
      "execution_count": null,
      "metadata": {
        "id": "Ux1HWG1hf1IU"
      },
      "outputs": [],
      "source": [
        "# Experiment with different hyperparameters for the GARCH model\n",
        "# You can try different values of 'p' and 'q' for the GARCH model to optimize its performance\n",
        "# For example, you can use a loop to try different combinations of 'p' and 'q'\n",
        "\n",
        "best_aic = float(\"inf\")\n",
        "best_garch_model = None\n",
        "\n",
        "for p in range(3):\n",
        "    for q in range(3):\n",
        "        try:\n",
        "            garch_model_tesla = arch_model(tesla_returns_garch, vol='Garch', p=p, q=q)\n",
        "            garch_result_tesla = garch_model_tesla.fit()\n",
        "            if garch_result_tesla.aic < best_aic:\n",
        "                best_aic = garch_result_tesla.aic\n",
        "                best_garch_model = garch_result_tesla\n",
        "        except:\n",
        "            continue\n",
        "\n",
        "# The best GARCH model is stored in best_garch_model\n",
        "# ...\n",
        "\n",
        "# Your code snippets for model optimization and fine-tuning go here\n"
      ]
    },
    {
      "cell_type": "code",
      "execution_count": null,
      "metadata": {
        "id": "k1g1_CGbf2X8"
      },
      "outputs": [],
      "source": [
        "# Create visualizations to display the LSTM price return forecasts, GARCH volatility forecasts,\n",
        "# and the comparison of volatilities for Tesla\n",
        "# ...\n",
        "\n",
        "# Your code snippets for visualizations and interpretations go here\n"
      ]
    },
    {
      "cell_type": "code",
      "execution_count": null,
      "metadata": {
        "id": "qY_FDlS8cZhv"
      },
      "outputs": [],
      "source": [
        "# Implement GARCH, ARIMA, and LSTM models (similar to Project 2)\n",
        "# ...\n",
        "\n",
        "# Assuming you already have GARCH, ARIMA, and LSTM models implemented for Tesla\n",
        "# ...\n",
        "\n",
        "# Split the data into pre-Musk ownership and post-Musk ownership periods (if applicable)\n",
        "# ...\n",
        "\n",
        "# Estimate volatilities for Tesla using GARCH, ARIMA, and LSTM models\n",
        "# ...\n",
        "\n",
        "# Your code snippets from Project 2 for volatility estimation (GARCH, ARIMA, and LSTM) for Tesla go here"
      ]
    },
    {
      "cell_type": "code",
      "execution_count": null,
      "metadata": {
        "id": "CWTFiQLacaw_"
      },
      "outputs": [],
      "source": [
        "# Compare the estimated volatilities for Tesla in the pre-Musk and post-Musk ownership periods\n",
        "# ...\n",
        "\n",
        "# Your code snippets from Project 2 for volatility comparison go here\n"
      ]
    },
    {
      "cell_type": "code",
      "execution_count": null,
      "metadata": {
        "id": "GphKe8fHcb8_"
      },
      "outputs": [],
      "source": [
        "# If Tesla and Meta are cointegrated, analyze the impact on Tesla's volatility\n",
        "if is_cointegrated:\n",
        "    # Calculate the cointegration residuals and other relevant measures\n",
        "    # ...\n",
        "\n",
        "    # Your code for analyzing the impact of cointegration on Tesla's volatility goes here\n",
        "    # For example, you could compare volatility dynamics in cointegrated periods vs. non-cointegrated periods.\n"
      ]
    },
    {
      "cell_type": "code",
      "execution_count": null,
      "metadata": {
        "id": "JnYXy_MJcdX3"
      },
      "outputs": [],
      "source": [
        "# Evaluate the performance of each model using appropriate metrics\n",
        "# ...\n",
        "\n",
        "# Your code snippets from Project 2 for model evaluation and diagnostic checks go here\n"
      ]
    },
    {
      "cell_type": "code",
      "execution_count": null,
      "metadata": {
        "id": "UhQQsOtXcedn"
      },
      "outputs": [],
      "source": [
        "# Experiment with different hyperparameters for GARCH, ARIMA, and LSTM models\n",
        "# ...\n",
        "\n",
        "# Your code snippets from Project 2 for model optimization and fine-tuning go here\n"
      ]
    },
    {
      "cell_type": "code",
      "execution_count": null,
      "metadata": {
        "id": "QHULtq4XcfaO"
      },
      "outputs": [],
      "source": [
        "# Create visualizations to display the volatility forecasts and the comparison of volatilities for Tesla\n",
        "# ...\n",
        "\n",
        "# Your code snippets from Project 2 for visualizations and interpretations go here\n"
      ]
    },
    {
      "cell_type": "markdown",
      "metadata": {
        "id": "xqA6_whEJldr"
      },
      "source": [
        "time series analysis"
      ]
    },
    {
      "cell_type": "code",
      "execution_count": null,
      "metadata": {
        "colab": {
          "base_uri": "https://localhost:8080/"
        },
        "id": "Qn54KVGZj_Q6",
        "outputId": "503117af-ff7c-46ac-e784-d03405dd2e0e"
      },
      "outputs": [
        {
          "name": "stdout",
          "output_type": "stream",
          "text": [
            "Collecting arch\n",
            "  Downloading arch-6.1.0-cp310-cp310-manylinux_2_17_x86_64.manylinux2014_x86_64.whl (916 kB)\n",
            "\u001b[2K     \u001b[90m━━━━━━━━━━━━━━━━━━━━━━━━━━━━━━━━━━━━━━━\u001b[0m \u001b[32m916.4/916.4 kB\u001b[0m \u001b[31m6.7 MB/s\u001b[0m eta \u001b[36m0:00:00\u001b[0m\n",
            "\u001b[?25hRequirement already satisfied: numpy>=1.19 in /usr/local/lib/python3.10/dist-packages (from arch) (1.22.4)\n",
            "Requirement already satisfied: scipy>=1.5 in /usr/local/lib/python3.10/dist-packages (from arch) (1.10.1)\n",
            "Requirement already satisfied: pandas>=1.1 in /usr/local/lib/python3.10/dist-packages (from arch) (1.5.3)\n",
            "Requirement already satisfied: statsmodels>=0.12 in /usr/local/lib/python3.10/dist-packages (from arch) (0.13.5)\n",
            "Requirement already satisfied: python-dateutil>=2.8.1 in /usr/local/lib/python3.10/dist-packages (from pandas>=1.1->arch) (2.8.2)\n",
            "Requirement already satisfied: pytz>=2020.1 in /usr/local/lib/python3.10/dist-packages (from pandas>=1.1->arch) (2022.7.1)\n",
            "Requirement already satisfied: patsy>=0.5.2 in /usr/local/lib/python3.10/dist-packages (from statsmodels>=0.12->arch) (0.5.3)\n",
            "Requirement already satisfied: packaging>=21.3 in /usr/local/lib/python3.10/dist-packages (from statsmodels>=0.12->arch) (23.1)\n",
            "Requirement already satisfied: six in /usr/local/lib/python3.10/dist-packages (from patsy>=0.5.2->statsmodels>=0.12->arch) (1.16.0)\n",
            "Installing collected packages: arch\n",
            "Successfully installed arch-6.1.0\n"
          ]
        }
      ],
      "source": [
        "!pip install arch\n",
        "\n",
        "from arch import arch_model"
      ]
    },
    {
      "cell_type": "code",
      "execution_count": null,
      "metadata": {
        "id": "42mYOgOTot5I"
      },
      "outputs": [],
      "source": [
        "\n",
        "def garch_table(p, q, o, m, d, v, ret):\n",
        "  aic_val = 99999999999\n",
        "  best_p = 0\n",
        "  best_q = 0\n",
        "  best_o = 0\n",
        "  best_s = \"asdf\"\n",
        "  best_t = \"asdff\"\n",
        "  best_v = \"asdfff\"\n",
        "\n",
        "  for i in range(1, p+1):\n",
        "    for j in range(1, q+1):\n",
        "      for k in range(0, o+1):\n",
        "        for mean in m:\n",
        "          for dist in d:\n",
        "            for vol in v:\n",
        "              model = arch_model(ret, mean=mean, vol=vol, dist=dist, p=i, q=j, o = k)\n",
        "              model_fit = model.fit(disp=\"off\")\n",
        "\n",
        "              if model_fit.aic < aic_val:\n",
        "                aic_val = model_fit.aic\n",
        "                best_p = i\n",
        "                best_q = j\n",
        "                best_o = k\n",
        "                best_s = mean\n",
        "                best_t = dist\n",
        "                best_v = vol\n",
        "              else:\n",
        "                break\n",
        "\n",
        "\n",
        "  return aic_val, best_p, best_q, best_o, best_s, best_t, best_v\n",
        "\n",
        "\n"
      ]
    },
    {
      "cell_type": "code",
      "execution_count": null,
      "metadata": {
        "id": "pvEkOqe-2_3h"
      },
      "outputs": [],
      "source": [
        "means = ['Constant', 'Zero', 'AR']\n",
        "dist = ['normal','t','skewt']\n",
        "vol = ['GARCH', 'EGARCH']\n",
        "\n",
        "tsla_params = garch_table(3, 3, 3, means, dist, vol, tsla_returns)\n",
        "#tsla_pre_params = garch_table(3, 3, 3, means, dist, vol, tsla_pretwt_returns)\n",
        "#tsla_post_params = garch_table(3, 3, 3, means, dist, vol, tsla_twt_returns)\n",
        "\n",
        "#amzn_params = garch_table(3, 3, 3, means, dist, vol, amzn_returns)\n",
        "#aapl_params = garch_table(3, 3, 3, means, dist, vol, aapl_returns)\n",
        "#nflx_params = garch_table(3, 3, 3, means, dist, vol, nflx_returns)\n",
        "#meta_params = garch_table(3, 3, 3, means, dist, vol, meta_returns)\n",
        "#goog_params = garch_table(3, 3, 3, means, dist, vol, goog_returns)\n",
        "\n",
        "#rivn_params = garch_table(3, 3, 3, means, dist, vol, rivn_returns)\n",
        "#nio_params = garch_table(3, 3, 3, means, dist, vol, nio_returns)\n",
        "#lcid_params = garch_table(3, 3, 3, means, dist, vol, lcid_returns)\n",
        "#f_params = garch_table(3, 3, 3, means, dist, vol, f_returns)\n",
        "#muln_params = garch_table(3, 3, 3, means, dist, vol, muln_returns)"
      ]
    },
    {
      "cell_type": "code",
      "execution_count": null,
      "metadata": {
        "colab": {
          "base_uri": "https://localhost:8080/"
        },
        "id": "rPhqVzPD11Qq",
        "outputId": "4e1818ac-5ef8-4d3f-c387-59ca4774526a"
      },
      "outputs": [
        {
          "name": "stdout",
          "output_type": "stream",
          "text": [
            "(7468.863253098465, 1, 1, 0, 'Constant', 't', 'EGARCH')\n"
          ]
        }
      ],
      "source": [
        "print(tsla_params)\n",
        "#print(tsla_pre_params)\n",
        "#print(tsla_post_params)"
      ]
    },
    {
      "cell_type": "code",
      "execution_count": null,
      "metadata": {
        "colab": {
          "base_uri": "https://localhost:8080/",
          "height": 488
        },
        "id": "-vtlOE0D2AJ7",
        "outputId": "fa830ff8-c4b5-4422-cffd-0394948eb7b5"
      },
      "outputs": [
        {
          "data": {
            "text/html": [
              "<table class=\"simpletable\">\n",
              "<caption>Constant Mean - EGARCH Model Results</caption>\n",
              "<tr>\n",
              "  <th>Dep. Variable:</th>         <td>Adj Close</td>        <th>  R-squared:         </th>  <td>   0.000</td> \n",
              "</tr>\n",
              "<tr>\n",
              "  <th>Mean Model:</th>          <td>Constant Mean</td>      <th>  Adj. R-squared:    </th>  <td>   0.000</td> \n",
              "</tr>\n",
              "<tr>\n",
              "  <th>Vol Model:</th>              <td>EGARCH</td>          <th>  Log-Likelihood:    </th> <td>  -3729.43</td>\n",
              "</tr>\n",
              "<tr>\n",
              "  <th>Distribution:</th>  <td>Standardized Student's t</td> <th>  AIC:               </th> <td>   7468.86</td>\n",
              "</tr>\n",
              "<tr>\n",
              "  <th>Method:</th>           <td>Maximum Likelihood</td>    <th>  BIC:               </th> <td>   7494.96</td>\n",
              "</tr>\n",
              "<tr>\n",
              "  <th></th>                           <td></td>             <th>  No. Observations:  </th>    <td>1365</td>   \n",
              "</tr>\n",
              "<tr>\n",
              "  <th>Date:</th>              <td>Mon, Jul 17 2023</td>     <th>  Df Residuals:      </th>    <td>1364</td>   \n",
              "</tr>\n",
              "<tr>\n",
              "  <th>Time:</th>                  <td>12:30:25</td>         <th>  Df Model:          </th>      <td>1</td>    \n",
              "</tr>\n",
              "</table>\n",
              "<table class=\"simpletable\">\n",
              "<caption>Mean Model</caption>\n",
              "<tr>\n",
              "   <td></td>     <th>coef</th>     <th>std err</th>      <th>t</th>       <th>P>|t|</th>    <th>95.0% Conf. Int.</th>  \n",
              "</tr>\n",
              "<tr>\n",
              "  <th>mu</th> <td>    0.2442</td> <td>8.501e-02</td> <td>    2.873</td> <td>4.066e-03</td> <td>[7.761e-02,  0.411]</td>\n",
              "</tr>\n",
              "</table>\n",
              "<table class=\"simpletable\">\n",
              "<caption>Volatility Model</caption>\n",
              "<tr>\n",
              "      <td></td>        <th>coef</th>     <th>std err</th>      <th>t</th>       <th>P>|t|</th>    <th>95.0% Conf. Int.</th>  \n",
              "</tr>\n",
              "<tr>\n",
              "  <th>omega</th>    <td>    0.0801</td> <td>3.971e-02</td> <td>    2.017</td> <td>4.366e-02</td> <td>[2.278e-03,  0.158]</td>\n",
              "</tr>\n",
              "<tr>\n",
              "  <th>alpha[1]</th> <td>    0.1594</td> <td>4.065e-02</td> <td>    3.922</td> <td>8.777e-05</td> <td>[7.976e-02,  0.239]</td>\n",
              "</tr>\n",
              "<tr>\n",
              "  <th>beta[1]</th>  <td>    0.9768</td> <td>1.290e-02</td> <td>   75.702</td>   <td>0.000</td>    <td>[  0.952,  1.002]</td> \n",
              "</tr>\n",
              "</table>\n",
              "<table class=\"simpletable\">\n",
              "<caption>Distribution</caption>\n",
              "<tr>\n",
              "   <td></td>     <th>coef</th>     <th>std err</th>      <th>t</th>       <th>P>|t|</th>   <th>95.0% Conf. Int.</th> \n",
              "</tr>\n",
              "<tr>\n",
              "  <th>nu</th> <td>    4.0321</td> <td>    0.452</td> <td>    8.918</td> <td>4.733e-19</td> <td>[  3.146,  4.918]</td>\n",
              "</tr>\n",
              "</table><br/><br/>Covariance estimator: robust"
            ],
            "text/plain": [
              "<class 'statsmodels.iolib.summary.Summary'>\n",
              "\"\"\"\n",
              "                        Constant Mean - EGARCH Model Results                        \n",
              "====================================================================================\n",
              "Dep. Variable:                    Adj Close   R-squared:                       0.000\n",
              "Mean Model:                   Constant Mean   Adj. R-squared:                  0.000\n",
              "Vol Model:                           EGARCH   Log-Likelihood:               -3729.43\n",
              "Distribution:      Standardized Student's t   AIC:                           7468.86\n",
              "Method:                  Maximum Likelihood   BIC:                           7494.96\n",
              "                                              No. Observations:                 1365\n",
              "Date:                      Mon, Jul 17 2023   Df Residuals:                     1364\n",
              "Time:                              12:30:25   Df Model:                            1\n",
              "                                Mean Model                                \n",
              "==========================================================================\n",
              "                 coef    std err          t      P>|t|    95.0% Conf. Int.\n",
              "--------------------------------------------------------------------------\n",
              "mu             0.2442  8.501e-02      2.873  4.066e-03 [7.761e-02,  0.411]\n",
              "                             Volatility Model                             \n",
              "==========================================================================\n",
              "                 coef    std err          t      P>|t|    95.0% Conf. Int.\n",
              "--------------------------------------------------------------------------\n",
              "omega          0.0801  3.971e-02      2.017  4.366e-02 [2.278e-03,  0.158]\n",
              "alpha[1]       0.1594  4.065e-02      3.922  8.777e-05 [7.976e-02,  0.239]\n",
              "beta[1]        0.9768  1.290e-02     75.702      0.000   [  0.952,  1.002]\n",
              "                              Distribution                              \n",
              "========================================================================\n",
              "                 coef    std err          t      P>|t|  95.0% Conf. Int.\n",
              "------------------------------------------------------------------------\n",
              "nu             4.0321      0.452      8.918  4.733e-19 [  3.146,  4.918]\n",
              "========================================================================\n",
              "\n",
              "Covariance estimator: robust\n",
              "\"\"\""
            ]
          },
          "execution_count": 12,
          "metadata": {},
          "output_type": "execute_result"
        }
      ],
      "source": [
        "tsla_fin_model = arch_model(tsla_returns, mean='Constant', vol='EGARCH', dist='t', p=1, q=1)\n",
        "model_fit = tsla_fin_model.fit(disp=\"off\")\n",
        "model_fit.summary()"
      ]
    },
    {
      "cell_type": "code",
      "execution_count": null,
      "metadata": {
        "colab": {
          "base_uri": "https://localhost:8080/",
          "height": 448
        },
        "id": "Y0Z4aBaq6GSk",
        "outputId": "80ad6793-248a-464d-ed5f-d95d254d7720"
      },
      "outputs": [
        {
          "name": "stdout",
          "output_type": "stream",
          "text": [
            "-0.5879537570344912\n"
          ]
        },
        {
          "data": {
            "image/png": "[encoded data removed]",
            "text/plain": [
              "<Figure size 640x480 with 1 Axes>"
            ]
          },
          "metadata": {},
          "output_type": "display_data"
        }
      ],
      "source": [
        "condvol = model_fit.conditional_volatility\n",
        "#long run average variance per day\n",
        "lravd = model_fit.params['omega'] / (1-model_fit.params['alpha[1]']-model_fit.params['beta[1]'])\n",
        "plt.plot(condvol)\n",
        "print(lravd)"
      ]
    },
    {
      "cell_type": "markdown",
      "metadata": {
        "id": "nJlDIwe03se_"
      },
      "source": [
        "variance is negative -> something is off. let's try arima-garch model.\n",
        "idea: training = pre-twitter, test = post-tesla BUT THIS IS FOR FORECAST ONLY"
      ]
    },
    {
      "cell_type": "code",
      "execution_count": null,
      "metadata": {
        "id": "LWF9uAO03x0X"
      },
      "outputs": [],
      "source": [
        "from statsmodels.tsa.arima.model import ARIMA\n",
        "from statsmodels.tsa.arima_model import ARMAResults\n",
        "\n",
        "#tsla_twt_returns is test\n",
        "#tsla_pretwt_returns is train\n",
        "tsla_returns.index = pd.DatetimeIndex(tsla_returns.index).to_period('D')\n",
        "\n",
        "# evaluate combinations of p, d and q values for an ARIMA model\n",
        "def evaluate_models(dataset, p_val, d_val, q_val):\n",
        "    aic_val = 99999999\n",
        "    best_p = -1\n",
        "    best_d = -1\n",
        "    best_q = -1\n",
        "    for p in range(0, p_val+1):\n",
        "        for d in range(0, d_val+1):\n",
        "            for q in range(0, d_val+1):\n",
        "                model = ARIMA(dataset, order = (p, d, q))\n",
        "                model_fit = model.fit()\n",
        "\n",
        "                if model_fit.aic < aic_val:\n",
        "                  aic_val = model_fit.aic\n",
        "                  best_p = p\n",
        "                  best_d = d\n",
        "                  best_q = q\n",
        "                else:\n",
        "                  break\n",
        "    return aic_val, best_p, best_d, best_q\n"
      ]
    },
    {
      "cell_type": "markdown",
      "metadata": {
        "id": "uk5GeGHe3GCT"
      },
      "source": [
        "ljung box pierce q test"
      ]
    },
    {
      "cell_type": "code",
      "execution_count": null,
      "metadata": {
        "colab": {
          "base_uri": "https://localhost:8080/"
        },
        "id": "-gUzR6TJsWTT",
        "outputId": "1c7d1a2c-080d-487f-8f9a-4c00bc3d7162"
      },
      "outputs": [
        {
          "name": "stdout",
          "output_type": "stream",
          "text": [
            "(7741.784350458539, 0, 0, 0)\n"
          ]
        }
      ],
      "source": [
        "param = evaluate_models(tsla_returns, 5, 5, 5)\n",
        "print(param)"
      ]
    },
    {
      "cell_type": "code",
      "execution_count": null,
      "metadata": {
        "colab": {
          "base_uri": "https://localhost:8080/"
        },
        "id": "DXbva3Ct7l4C",
        "outputId": "a66b454a-8774-464c-d0c9-68a7fc417769"
      },
      "outputs": [
        {
          "name": "stdout",
          "output_type": "stream",
          "text": [
            "\r[*********************100%***********************]  1 of 1 completed\n"
          ]
        },
        {
          "name": "stderr",
          "output_type": "stream",
          "text": [
            "/usr/local/lib/python3.10/dist-packages/statsmodels/base/model.py:604: ConvergenceWarning: Maximum Likelihood optimization failed to converge. Check mle_retvals\n",
            "  warnings.warn(\"Maximum Likelihood optimization failed to \"\n",
            "/usr/local/lib/python3.10/dist-packages/statsmodels/base/model.py:604: ConvergenceWarning: Maximum Likelihood optimization failed to converge. Check mle_retvals\n",
            "  warnings.warn(\"Maximum Likelihood optimization failed to \"\n",
            "/usr/local/lib/python3.10/dist-packages/statsmodels/base/model.py:604: ConvergenceWarning: Maximum Likelihood optimization failed to converge. Check mle_retvals\n",
            "  warnings.warn(\"Maximum Likelihood optimization failed to \"\n"
          ]
        },
        {
          "name": "stdout",
          "output_type": "stream",
          "text": [
            "(-4833.886826495635, 0, 0, 0)\n",
            "(7738.227721788271, 0, 0, 0)\n"
          ]
        }
      ],
      "source": [
        "tick = pdr.DataReader('TSLA',  start=datetime.datetime(2018, 2, 1),\n",
        "                          end=datetime.datetime(2023, 7, 8))\n",
        "log_returns = (np.log(tick['Adj Close']) - np.log(tick['Adj Close'].shift(1))).dropna()\n",
        "log_returns.index = pd.DatetimeIndex(log_returns.index).to_period('D')\n",
        "\n",
        "param2 = evaluate_models(log_returns, 5, 5, 5)\n",
        "param3 = evaluate_models(100*log_returns, 5, 5, 5)\n",
        "print(param2)\n",
        "print(param3)"
      ]
    },
    {
      "cell_type": "code",
      "execution_count": null,
      "metadata": {
        "colab": {
          "base_uri": "https://localhost:8080/"
        },
        "id": "PtX3l0y18p2A",
        "outputId": "20da59d3-a19f-430f-de49-a094381108e0"
      },
      "outputs": [
        {
          "name": "stdout",
          "output_type": "stream",
          "text": [
            "                               SARIMAX Results                                \n",
            "==============================================================================\n",
            "Dep. Variable:              Adj Close   No. Observations:                 1365\n",
            "Model:                          ARIMA   Log Likelihood               -3868.892\n",
            "Date:                Mon, 17 Jul 2023   AIC                           7741.784\n",
            "Time:                        13:04:08   BIC                           7752.222\n",
            "Sample:                    02-02-2018   HQIC                          7745.691\n",
            "                         - 07-07-2023                                         \n",
            "Covariance Type:                  opg                                         \n",
            "==============================================================================\n",
            "                 coef    std err          z      P>|z|      [0.025      0.975]\n",
            "------------------------------------------------------------------------------\n",
            "const          0.2655      0.112      2.376      0.018       0.046       0.485\n",
            "sigma2        16.9595      0.400     42.394      0.000      16.175      17.744\n",
            "===================================================================================\n",
            "Ljung-Box (L1) (Q):                   0.48   Jarque-Bera (JB):               622.81\n",
            "Prob(Q):                              0.49   Prob(JB):                         0.00\n",
            "Heteroskedasticity (H):               1.29   Skew:                             0.16\n",
            "Prob(H) (two-sided):                  0.01   Kurtosis:                         6.29\n",
            "===================================================================================\n",
            "\n",
            "Warnings:\n",
            "[1] Covariance matrix calculated using the outer product of gradients (complex-step).\n"
          ]
        }
      ],
      "source": [
        "arima_tsla = ARIMA(tsla_returns, order=(0,0,0))\n",
        "at_fit = arima_tsla.fit()\n",
        "# summary of fit model\n",
        "print(at_fit.summary())\n",
        "# line plot of residuals\n",
        "residuals = pd.DataFrame(at_fit.resid)"
      ]
    },
    {
      "cell_type": "code",
      "execution_count": null,
      "metadata": {
        "colab": {
          "base_uri": "https://localhost:8080/"
        },
        "id": "UOGMVp1x8-x7",
        "outputId": "cfeb5af7-189d-4933-8eab-255491ae8781"
      },
      "outputs": [
        {
          "name": "stdout",
          "output_type": "stream",
          "text": [
            "(7468.8632531042995, 1, 1, 0, 'Constant', 't', 'EGARCH')\n"
          ]
        }
      ],
      "source": [
        "means = ['Constant', 'Zero', 'AR']\n",
        "dist = ['normal','t','skewt']\n",
        "vol = ['GARCH', 'EGARCH']\n",
        "\n",
        "ag_params = garch_table(3, 3, 3, means, dist, vol, residuals)\n",
        "print(ag_params)"
      ]
    },
    {
      "cell_type": "code",
      "execution_count": null,
      "metadata": {
        "colab": {
          "base_uri": "https://localhost:8080/",
          "height": 488
        },
        "id": "wJiN0miA9Zeb",
        "outputId": "af322ed2-8bf4-42e7-9832-b820114fca8f"
      },
      "outputs": [
        {
          "data": {
            "text/html": [
              "<table class=\"simpletable\">\n",
              "<caption>Constant Mean - EGARCH Model Results</caption>\n",
              "<tr>\n",
              "  <th>Dep. Variable:</th>             <td>0</td>            <th>  R-squared:         </th>  <td>   0.000</td> \n",
              "</tr>\n",
              "<tr>\n",
              "  <th>Mean Model:</th>          <td>Constant Mean</td>      <th>  Adj. R-squared:    </th>  <td>   0.000</td> \n",
              "</tr>\n",
              "<tr>\n",
              "  <th>Vol Model:</th>              <td>EGARCH</td>          <th>  Log-Likelihood:    </th> <td>  -3729.43</td>\n",
              "</tr>\n",
              "<tr>\n",
              "  <th>Distribution:</th>  <td>Standardized Student's t</td> <th>  AIC:               </th> <td>   7468.86</td>\n",
              "</tr>\n",
              "<tr>\n",
              "  <th>Method:</th>           <td>Maximum Likelihood</td>    <th>  BIC:               </th> <td>   7494.96</td>\n",
              "</tr>\n",
              "<tr>\n",
              "  <th></th>                           <td></td>             <th>  No. Observations:  </th>    <td>1365</td>   \n",
              "</tr>\n",
              "<tr>\n",
              "  <th>Date:</th>              <td>Mon, Jul 17 2023</td>     <th>  Df Residuals:      </th>    <td>1364</td>   \n",
              "</tr>\n",
              "<tr>\n",
              "  <th>Time:</th>                  <td>13:07:24</td>         <th>  Df Model:          </th>      <td>1</td>    \n",
              "</tr>\n",
              "</table>\n",
              "<table class=\"simpletable\">\n",
              "<caption>Mean Model</caption>\n",
              "<tr>\n",
              "   <td></td>     <th>coef</th>     <th>std err</th>      <th>t</th>       <th>P>|t|</th>   <th>95.0% Conf. Int.</th> \n",
              "</tr>\n",
              "<tr>\n",
              "  <th>mu</th> <td>   -0.0213</td> <td>8.501e-02</td> <td>   -0.250</td> <td>    0.802</td> <td>[ -0.188,  0.145]</td>\n",
              "</tr>\n",
              "</table>\n",
              "<table class=\"simpletable\">\n",
              "<caption>Volatility Model</caption>\n",
              "<tr>\n",
              "      <td></td>        <th>coef</th>     <th>std err</th>      <th>t</th>       <th>P>|t|</th>    <th>95.0% Conf. Int.</th>  \n",
              "</tr>\n",
              "<tr>\n",
              "  <th>omega</th>    <td>    0.0801</td> <td>3.971e-02</td> <td>    2.017</td> <td>4.366e-02</td> <td>[2.278e-03,  0.158]</td>\n",
              "</tr>\n",
              "<tr>\n",
              "  <th>alpha[1]</th> <td>    0.1594</td> <td>4.065e-02</td> <td>    3.922</td> <td>8.777e-05</td> <td>[7.976e-02,  0.239]</td>\n",
              "</tr>\n",
              "<tr>\n",
              "  <th>beta[1]</th>  <td>    0.9768</td> <td>1.290e-02</td> <td>   75.702</td>   <td>0.000</td>    <td>[  0.952,  1.002]</td> \n",
              "</tr>\n",
              "</table>\n",
              "<table class=\"simpletable\">\n",
              "<caption>Distribution</caption>\n",
              "<tr>\n",
              "   <td></td>     <th>coef</th>     <th>std err</th>      <th>t</th>       <th>P>|t|</th>   <th>95.0% Conf. Int.</th> \n",
              "</tr>\n",
              "<tr>\n",
              "  <th>nu</th> <td>    4.0321</td> <td>    0.452</td> <td>    8.918</td> <td>4.733e-19</td> <td>[  3.146,  4.918]</td>\n",
              "</tr>\n",
              "</table><br/><br/>Covariance estimator: robust"
            ],
            "text/plain": [
              "<class 'statsmodels.iolib.summary.Summary'>\n",
              "\"\"\"\n",
              "                        Constant Mean - EGARCH Model Results                        \n",
              "====================================================================================\n",
              "Dep. Variable:                            0   R-squared:                       0.000\n",
              "Mean Model:                   Constant Mean   Adj. R-squared:                  0.000\n",
              "Vol Model:                           EGARCH   Log-Likelihood:               -3729.43\n",
              "Distribution:      Standardized Student's t   AIC:                           7468.86\n",
              "Method:                  Maximum Likelihood   BIC:                           7494.96\n",
              "                                              No. Observations:                 1365\n",
              "Date:                      Mon, Jul 17 2023   Df Residuals:                     1364\n",
              "Time:                              13:07:24   Df Model:                            1\n",
              "                               Mean Model                               \n",
              "========================================================================\n",
              "                 coef    std err          t      P>|t|  95.0% Conf. Int.\n",
              "------------------------------------------------------------------------\n",
              "mu            -0.0213  8.501e-02     -0.250      0.802 [ -0.188,  0.145]\n",
              "                             Volatility Model                             \n",
              "==========================================================================\n",
              "                 coef    std err          t      P>|t|    95.0% Conf. Int.\n",
              "--------------------------------------------------------------------------\n",
              "omega          0.0801  3.971e-02      2.017  4.366e-02 [2.278e-03,  0.158]\n",
              "alpha[1]       0.1594  4.065e-02      3.922  8.777e-05 [7.976e-02,  0.239]\n",
              "beta[1]        0.9768  1.290e-02     75.702      0.000   [  0.952,  1.002]\n",
              "                              Distribution                              \n",
              "========================================================================\n",
              "                 coef    std err          t      P>|t|  95.0% Conf. Int.\n",
              "------------------------------------------------------------------------\n",
              "nu             4.0321      0.452      8.918  4.733e-19 [  3.146,  4.918]\n",
              "========================================================================\n",
              "\n",
              "Covariance estimator: robust\n",
              "\"\"\""
            ]
          },
          "execution_count": 27,
          "metadata": {},
          "output_type": "execute_result"
        }
      ],
      "source": [
        "ag_model = arch_model(residuals, mean='Constant', vol='EGARCH', dist='t', p=1, q=1)\n",
        "model_fit = ag_model.fit(disp=\"off\")\n",
        "model_fit.summary()"
      ]
    },
    {
      "cell_type": "code",
      "execution_count": null,
      "metadata": {
        "colab": {
          "base_uri": "https://localhost:8080/"
        },
        "id": "VoALrWVP9gph",
        "outputId": "a0445b6b-a10c-43d9-f19e-16e082adb9b0"
      },
      "outputs": [
        {
          "name": "stdout",
          "output_type": "stream",
          "text": [
            "-0.5879540644876107\n"
          ]
        }
      ],
      "source": [
        "condvol = model_fit.conditional_volatility\n",
        "#long run average variance per day\n",
        "lravd = model_fit.params['omega'] / (1-model_fit.params['alpha[1]']-model_fit.params['beta[1]'])\n",
        "#pd.plotting.register_matplotlib_converters()\n",
        "#plt.plot(condvol)\n",
        "print(lravd)"
      ]
    },
    {
      "cell_type": "markdown",
      "metadata": {
        "id": "kXD18pa098Yf"
      },
      "source": [
        "https://www.fnspace.com/Community/CommunityView?rno=140\n",
        "\n",
        "I DONT GET IT WHY LRAVD KEEP GETTING TO Z"
      ]
    },
    {
      "cell_type": "code",
      "execution_count": null,
      "metadata": {
        "colab": {
          "base_uri": "https://localhost:8080/"
        },
        "id": "cKbBbc_KuF4X",
        "outputId": "7f8c8e60-f9d8-4575-af97-0d0be240621c"
      },
      "outputs": [
        {
          "name": "stdout",
          "output_type": "stream",
          "text": [
            "1366    1.139607\n",
            "1367    0.876171\n",
            "1368    1.034432\n",
            "1369    0.309031\n",
            "1370    0.197453\n",
            "          ...   \n",
            "1529    0.511520\n",
            "1530    0.511520\n",
            "1531    0.511520\n",
            "1532    0.511520\n",
            "1533    0.511520\n",
            "Name: predicted_mean, Length: 168, dtype: float64\n"
          ]
        },
        {
          "name": "stderr",
          "output_type": "stream",
          "text": [
            "/usr/local/lib/python3.10/dist-packages/statsmodels/tsa/base/tsa_model.py:834: ValueWarning: No supported index is available. Prediction results will be given with an integer index beginning at `start`.\n",
            "  return get_prediction_index(\n"
          ]
        }
      ],
      "source": [
        "output = model_fit.forecast(steps=24*7)\n",
        "\n",
        "print(output)"
      ]
    },
    {
      "cell_type": "markdown",
      "metadata": {
        "id": "S9dY6xEZuxf9"
      },
      "source": [
        "https://doheon.github.io/%EC%84%B1%EB%8A%A5%EB%B9%84%EA%B5%90/time-series/ci-6.compare-post/\n",
        "\n",
        "https://core.ac.uk/download/pdf/234626643.pdf\n",
        "\n",
        "https://www.linkedin.com/pulse/taming-market-beast-predicting-volatility-garch-models-dfi-labs\n",
        "\n",
        "https://colab.research.google.com/drive/1zSlcnL3I-bix8vWEIl6YCYLs6nedClIA?usp=sharing#scrollTo=JnlRWjKhhPbq\n",
        "\n",
        "https://chat.openai.com/share/de598373-19b3-4abf-92da-8448fbda46f1\n"
      ]
    }
  ],
  "metadata": {
    "colab": {
      "provenance": [],
      "authorship_tag": "ABX9TyP47Qi/gpYOnliFluIj5XBi",
      "include_colab_link": true
    },
    "kernelspec": {
      "display_name": "Python 3",
      "name": "python3"
    },
    "language_info": {
      "name": "python"
    }
  },
  "nbformat": 4,
  "nbformat_minor": 0
}