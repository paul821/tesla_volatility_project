{
  "cells": [
    {
      "cell_type": "markdown",
      "metadata": {
        "id": "view-in-github",
        "colab_type": "text"
      },
      "source": [
        "<a href=\"https://colab.research.google.com/github/paul821/tesla_volatility_project/blob/main/tesla_proj_fin.ipynb\" target=\"_parent\"><img src=\"https://colab.research.google.com/assets/colab-badge.svg\" alt=\"Open In Colab\"/></a>"
      ]
    },
    {
      "cell_type": "markdown",
      "metadata": {
        "id": "K4L6Teh4qzTF"
      },
      "source": [
        "**Project Overview: Investigating the Impact of Musk Factor and Relation with Meta on Tesla Stock Volatility**\n",
        "\n",
        "Objective:\n",
        "The objective of this comprehensive project is to investigate the impact of two key factors on Tesla stock volatility:\n",
        "1. The Musk factor: Analyze the difference in volatility patterns before and after the event of Elon Musk becoming the largest shareholder of Twitter.\n",
        "2. The relation with Meta: Examine the cointegration and volatility dynamics between Tesla and Meta stock.\n",
        "\n",
        "Methodology:\n",
        "1. **Data Preparation and LSTM Model Creation:**\n",
        "\n",
        "- Prepare data for LSTM modeling for both pre-Musk and post-Musk periods.\n",
        "- Define a function create_lstm_model to create an LSTM model with customizable hyperparameters.\n",
        "2. **Hyperparameter Optimization using Grid Search:**\n",
        "\n",
        "- Perform Grid Search with Cross-Validation to find the best hyperparameters for the LSTM model.\n",
        "- Grid search includes different numbers of LSTM units and learning rates.\n",
        "3. **LSTM Model Training and Prediction:**\n",
        "\n",
        "- Train the best LSTM model with optimized hyperparameters for both pre-Musk and post-Musk periods.\n",
        "- Make predictions using the trained LSTM models.\n",
        "4. **Performance Evaluation:**\n",
        "\n",
        "- Calculate the Root Mean Squared Error (RMSE) for both pre-Musk and post-Musk predictions.\n",
        "- Calculate accuracy as a percentage based on RMSE and observed range.\n",
        "5. **Cointegration and Volatility Analysis:**\n",
        "\n",
        "- Check for cointegration between Tesla and Meta using statistical tests.\n",
        "- Estimate bootstrapped volatility for cointegrated assets.\n",
        "- Analyze the impact of cointegration residuals on Tesla's volatility using GARCH models.\n",
        "- Forecast volatility using ARIMA models and evaluate the forecast against actual volatility.\n",
        "\n",
        "Resume Summary:\n",
        "\n",
        "- Developed LSTM models for pre-Musk and post-Musk periods to predict Tesla's stock returns.\n",
        "- Utilized Grid Search to optimize hyperparameters, achieving improved model accuracy.\n",
        "- Conducted statistical tests for cointegration and volatility analysis with Meta stock.\n",
        "- Forecasted Tesla's volatility using ARIMA models and evaluated forecast accuracy."
      ]
    },
    {
      "cell_type": "markdown",
      "metadata": {
        "id": "QzpsN26mEOAi"
      },
      "source": [
        "#setup"
      ]
    },
    {
      "cell_type": "code",
      "execution_count": null,
      "metadata": {
        "id": "4gSxbYLH11wa"
      },
      "outputs": [],
      "source": [
        "import pandas as pd\n",
        "import numpy as np\n",
        "import datetime\n",
        "import matplotlib.pyplot as plt"
      ]
    },
    {
      "cell_type": "code",
      "execution_count": null,
      "metadata": {
        "colab": {
          "base_uri": "https://localhost:8080/"
        },
        "id": "vtOl7ghZ4G99",
        "outputId": "b0a887db-2f89-4af7-c55b-8320e793c7ee"
      },
      "outputs": [
        {
          "output_type": "stream",
          "name": "stdout",
          "text": [
            "Requirement already satisfied: yfinance in /usr/local/lib/python3.10/dist-packages (0.2.25)\n",
            "Requirement already satisfied: pandas>=1.3.0 in /usr/local/lib/python3.10/dist-packages (from yfinance) (1.5.3)\n",
            "Requirement already satisfied: numpy>=1.16.5 in /usr/local/lib/python3.10/dist-packages (from yfinance) (1.22.4)\n",
            "Requirement already satisfied: requests>=2.26 in /usr/local/lib/python3.10/dist-packages (from yfinance) (2.27.1)\n",
            "Requirement already satisfied: multitasking>=0.0.7 in /usr/local/lib/python3.10/dist-packages (from yfinance) (0.0.11)\n",
            "Requirement already satisfied: lxml>=4.9.1 in /usr/local/lib/python3.10/dist-packages (from yfinance) (4.9.3)\n",
            "Requirement already satisfied: appdirs>=1.4.4 in /usr/local/lib/python3.10/dist-packages (from yfinance) (1.4.4)\n",
            "Requirement already satisfied: pytz>=2022.5 in /usr/local/lib/python3.10/dist-packages (from yfinance) (2022.7.1)\n",
            "Requirement already satisfied: frozendict>=2.3.4 in /usr/local/lib/python3.10/dist-packages (from yfinance) (2.3.8)\n",
            "Requirement already satisfied: beautifulsoup4>=4.11.1 in /usr/local/lib/python3.10/dist-packages (from yfinance) (4.11.2)\n",
            "Requirement already satisfied: html5lib>=1.1 in /usr/local/lib/python3.10/dist-packages (from yfinance) (1.1)\n",
            "Requirement already satisfied: soupsieve>1.2 in /usr/local/lib/python3.10/dist-packages (from beautifulsoup4>=4.11.1->yfinance) (2.4.1)\n",
            "Requirement already satisfied: six>=1.9 in /usr/local/lib/python3.10/dist-packages (from html5lib>=1.1->yfinance) (1.16.0)\n",
            "Requirement already satisfied: webencodings in /usr/local/lib/python3.10/dist-packages (from html5lib>=1.1->yfinance) (0.5.1)\n",
            "Requirement already satisfied: python-dateutil>=2.8.1 in /usr/local/lib/python3.10/dist-packages (from pandas>=1.3.0->yfinance) (2.8.2)\n",
            "Requirement already satisfied: urllib3<1.27,>=1.21.1 in /usr/local/lib/python3.10/dist-packages (from requests>=2.26->yfinance) (1.26.16)\n",
            "Requirement already satisfied: certifi>=2017.4.17 in /usr/local/lib/python3.10/dist-packages (from requests>=2.26->yfinance) (2023.7.22)\n",
            "Requirement already satisfied: charset-normalizer~=2.0.0 in /usr/local/lib/python3.10/dist-packages (from requests>=2.26->yfinance) (2.0.12)\n",
            "Requirement already satisfied: idna<4,>=2.5 in /usr/local/lib/python3.10/dist-packages (from requests>=2.26->yfinance) (3.4)\n",
            "Collecting fix-yahoo-finance\n",
            "  Downloading fix-yahoo-finance-0.1.37.tar.gz (6.3 kB)\n",
            "  Preparing metadata (setup.py) ... \u001b[?25l\u001b[?25hdone\n",
            "Requirement already satisfied: yfinance in /usr/local/lib/python3.10/dist-packages (from fix-yahoo-finance) (0.2.25)\n",
            "Requirement already satisfied: pandas>=1.3.0 in /usr/local/lib/python3.10/dist-packages (from yfinance->fix-yahoo-finance) (1.5.3)\n",
            "Requirement already satisfied: numpy>=1.16.5 in /usr/local/lib/python3.10/dist-packages (from yfinance->fix-yahoo-finance) (1.22.4)\n",
            "Requirement already satisfied: requests>=2.26 in /usr/local/lib/python3.10/dist-packages (from yfinance->fix-yahoo-finance) (2.27.1)\n",
            "Requirement already satisfied: multitasking>=0.0.7 in /usr/local/lib/python3.10/dist-packages (from yfinance->fix-yahoo-finance) (0.0.11)\n",
            "Requirement already satisfied: lxml>=4.9.1 in /usr/local/lib/python3.10/dist-packages (from yfinance->fix-yahoo-finance) (4.9.3)\n",
            "Requirement already satisfied: appdirs>=1.4.4 in /usr/local/lib/python3.10/dist-packages (from yfinance->fix-yahoo-finance) (1.4.4)\n",
            "Requirement already satisfied: pytz>=2022.5 in /usr/local/lib/python3.10/dist-packages (from yfinance->fix-yahoo-finance) (2022.7.1)\n",
            "Requirement already satisfied: frozendict>=2.3.4 in /usr/local/lib/python3.10/dist-packages (from yfinance->fix-yahoo-finance) (2.3.8)\n",
            "Requirement already satisfied: beautifulsoup4>=4.11.1 in /usr/local/lib/python3.10/dist-packages (from yfinance->fix-yahoo-finance) (4.11.2)\n",
            "Requirement already satisfied: html5lib>=1.1 in /usr/local/lib/python3.10/dist-packages (from yfinance->fix-yahoo-finance) (1.1)\n",
            "Requirement already satisfied: soupsieve>1.2 in /usr/local/lib/python3.10/dist-packages (from beautifulsoup4>=4.11.1->yfinance->fix-yahoo-finance) (2.4.1)\n",
            "Requirement already satisfied: six>=1.9 in /usr/local/lib/python3.10/dist-packages (from html5lib>=1.1->yfinance->fix-yahoo-finance) (1.16.0)\n",
            "Requirement already satisfied: webencodings in /usr/local/lib/python3.10/dist-packages (from html5lib>=1.1->yfinance->fix-yahoo-finance) (0.5.1)\n",
            "Requirement already satisfied: python-dateutil>=2.8.1 in /usr/local/lib/python3.10/dist-packages (from pandas>=1.3.0->yfinance->fix-yahoo-finance) (2.8.2)\n",
            "Requirement already satisfied: urllib3<1.27,>=1.21.1 in /usr/local/lib/python3.10/dist-packages (from requests>=2.26->yfinance->fix-yahoo-finance) (1.26.16)\n",
            "Requirement already satisfied: certifi>=2017.4.17 in /usr/local/lib/python3.10/dist-packages (from requests>=2.26->yfinance->fix-yahoo-finance) (2023.7.22)\n",
            "Requirement already satisfied: charset-normalizer~=2.0.0 in /usr/local/lib/python3.10/dist-packages (from requests>=2.26->yfinance->fix-yahoo-finance) (2.0.12)\n",
            "Requirement already satisfied: idna<4,>=2.5 in /usr/local/lib/python3.10/dist-packages (from requests>=2.26->yfinance->fix-yahoo-finance) (3.4)\n",
            "Building wheels for collected packages: fix-yahoo-finance\n",
            "  Building wheel for fix-yahoo-finance (setup.py) ... \u001b[?25l\u001b[?25hdone\n",
            "  Created wheel for fix-yahoo-finance: filename=fix_yahoo_finance-0.1.37-py3-none-any.whl size=7073 sha256=ea0a4653f71b6ff13bb273a8fc34ec27bc770d5042e95575b17fe06f26759a12\n",
            "  Stored in directory: /root/.cache/pip/wheels/1e/5e/ca/d9dbe97f5c895289286a5f99311e9e9633c9898f35d42802ca\n",
            "Successfully built fix-yahoo-finance\n",
            "Installing collected packages: fix-yahoo-finance\n",
            "Successfully installed fix-yahoo-finance-0.1.37\n"
          ]
        }
      ],
      "source": [
        "!pip install yfinance\n",
        "!pip install fix-yahoo-finance"
      ]
    },
    {
      "cell_type": "markdown",
      "metadata": {
        "id": "Wz_wxLzEuLE8"
      },
      "source": [
        "4/4/22: musk becomes largest shareholder of twitter"
      ]
    },
    {
      "cell_type": "code",
      "execution_count": null,
      "metadata": {
        "colab": {
          "base_uri": "https://localhost:8080/"
        },
        "id": "m-NZTAlc4Nht",
        "outputId": "b9d3931e-0278-45a1-9805-9108bb54c978"
      },
      "outputs": [
        {
          "output_type": "stream",
          "name": "stdout",
          "text": [
            "[*********************100%***********************]  1 of 1 completed\n",
            "[*********************100%***********************]  1 of 1 completed\n",
            "[*********************100%***********************]  1 of 1 completed\n"
          ]
        }
      ],
      "source": [
        "from pandas_datareader.data import DataReader\n",
        "import yfinance as yf\n",
        "from pandas_datareader import data as pdr\n",
        "yf.pdr_override()\n",
        "\n",
        "def get_returns(a):\n",
        "  tick = pdr.DataReader(a,  start=datetime.datetime(2018, 2, 1),\n",
        "                          end=datetime.datetime(2023, 7, 8))\n",
        "  returns = 100 * tick['Adj Close'].pct_change().dropna()\n",
        "  return returns\n",
        "\n",
        "tsla_returns = get_returns('TSLA')\n",
        "\n",
        "tick = pdr.DataReader('TSLA',  start=datetime.datetime(2022, 4, 4),\n",
        "                          end=datetime.datetime(2023, 7, 8))\n",
        "tsla_twt_returns = 100 * tick['Adj Close'].pct_change().dropna()\n",
        "\n",
        "tick2 = pdr.DataReader('TSLA',  start=datetime.datetime(2018, 2, 1),\n",
        "                          end=datetime.datetime(2022, 4, 4))\n",
        "tsla_pretwt_returns = 100 * tick2['Adj Close'].pct_change().dropna()"
      ]
    },
    {
      "cell_type": "code",
      "execution_count": null,
      "metadata": {
        "colab": {
          "base_uri": "https://localhost:8080/"
        },
        "id": "z0Jbwe4PDz_u",
        "outputId": "9879b301-f2a3-4ac1-809f-9efb8e7f4184"
      },
      "outputs": [
        {
          "output_type": "stream",
          "name": "stdout",
          "text": [
            "[*********************100%***********************]  1 of 1 completed\n",
            "[*********************100%***********************]  1 of 1 completed\n",
            "[*********************100%***********************]  1 of 1 completed\n",
            "[*********************100%***********************]  1 of 1 completed\n",
            "[*********************100%***********************]  1 of 1 completed\n",
            "[*********************100%***********************]  1 of 1 completed\n",
            "[*********************100%***********************]  1 of 1 completed\n",
            "[*********************100%***********************]  1 of 1 completed\n",
            "[*********************100%***********************]  1 of 1 completed\n",
            "[*********************100%***********************]  1 of 1 completed\n"
          ]
        }
      ],
      "source": [
        "bigtech = ['AMZN', 'AAPL', 'META', 'NFLX', 'GOOG'] #people also watch\n",
        "similar = ['RIVN', 'NIO', 'LCID', 'F', 'MULN'] #similar to tesla\n",
        "\n",
        "bigtech_outputs = []\n",
        "similar_outputs = []\n",
        "\n",
        "for stock in bigtech:\n",
        "    output = get_returns(stock)  # Replace with the function call to xkcd for the stock\n",
        "    bigtech_outputs.append(output)\n",
        "\n",
        "for stock in similar:\n",
        "    output = get_returns(stock)  # Replace with the function call to xkcd for the stock\n",
        "    similar_outputs.append(output)\n",
        "\n",
        "amzn_returns = bigtech_outputs[0]\n",
        "aapl_returns = bigtech_outputs[1]\n",
        "meta_returns = bigtech_outputs[2]\n",
        "nflx_returns = bigtech_outputs[3]\n",
        "goog_returns = bigtech_outputs[4]\n",
        "\n",
        "rivn_returns = similar_outputs[0]\n",
        "nio_returns = similar_outputs[1]\n",
        "lcid_returns = similar_outputs[2]\n",
        "f_returns = similar_outputs[3]\n",
        "muln_returns = similar_outputs[4]"
      ]
    },
    {
      "cell_type": "markdown",
      "metadata": {
        "id": "J-T0I8bf_pVY"
      },
      "source": [
        "* https://www.wallstreetprep.com/knowledge/volatility/\n",
        "* https://www.investopedia.com/ask/answers/041415/what-are-some-common-measures-risk-used-risk-management.asp\n",
        "* https://www.kaggle.com/code/jiashenliu/introduction-to-financial-concepts-and-data\n",
        "* https://www.mccormick.northwestern.edu/industrial/documents/syllabi/373.pdf\n",
        "* https://www.kaggle.com/code/tommy1028/lightgbm-starter-with-feature-engineering-idea\n",
        "* https://www.macroaxis.com/volatility/AAPL/Apple-Inc#:~:text=Apple%20Market%20Sensitivity%20And%20Downside%20Risk&text=Apple%20Inc%20exhibits%20relatively%20low,estimations%20about%20Apple%20upside%20potential.\n",
        "\n"
      ]
    },
    {
      "cell_type": "markdown",
      "metadata": {
        "id": "G0Gec_OH_8-A"
      },
      "source": [
        "1. is tesla's volatility higher than that of top tech companies? same industry?\n",
        "2. did volatility increase since elon's acquisition of twitter?\n",
        "3. predicting tesla's stock"
      ]
    },
    {
      "cell_type": "markdown",
      "metadata": {
        "id": "YTofiV68b4Tk"
      },
      "source": [
        "NEW: see if tesla and meta's cointegration exists & its effect on volatility of tesla, and comparisons between pre and post twitter on tesla volatility"
      ]
    },
    {
      "cell_type": "markdown",
      "metadata": {
        "id": "COL6sbYuEQkI"
      },
      "source": [
        "#eda"
      ]
    },
    {
      "cell_type": "code",
      "execution_count": null,
      "metadata": {
        "colab": {
          "base_uri": "https://localhost:8080/"
        },
        "id": "N94qrlv-udg6",
        "outputId": "73a0cc03-3a8e-4bc0-aa48-b21dfba598ef"
      },
      "outputs": [
        {
          "output_type": "execute_result",
          "data": {
            "text/plain": [
              "[<matplotlib.lines.Line2D at 0x7ebd27602800>]"
            ]
          },
          "metadata": {},
          "execution_count": 5
        },
        {
          "output_type": "display_data",
          "data": {
            "text/plain": [
              "<Figure size 640x480 with 1 Axes>"
            ],
            "image/png": "[encoded data removed]"
          },
          "metadata": {}
        }
      ],
      "source": [
        "plt.plot(tsla_returns)\n",
        "plt.plot(tsla_twt_returns)"
      ]
    },
    {
      "cell_type": "markdown",
      "metadata": {
        "id": "p-XfmNN-vh7X"
      },
      "source": [
        "clear volatility clustering"
      ]
    },
    {
      "cell_type": "code",
      "execution_count": null,
      "metadata": {
        "colab": {
          "base_uri": "https://localhost:8080/"
        },
        "id": "9FXoOPSxvc-_",
        "outputId": "dd5574aa-351f-403a-daa9-79b5d16ba905"
      },
      "outputs": [
        {
          "output_type": "execute_result",
          "data": {
            "text/plain": [
              "[<matplotlib.lines.Line2D at 0x7ebd25513c10>]"
            ]
          },
          "metadata": {},
          "execution_count": 6
        },
        {
          "output_type": "display_data",
          "data": {
            "text/plain": [
              "<Figure size 640x480 with 1 Axes>"
            ],
            "image/png": "[encoded data removed]"
          },
          "metadata": {}
        }
      ],
      "source": [
        "plt.plot(tsla_returns**2)"
      ]
    },
    {
      "cell_type": "code",
      "execution_count": null,
      "metadata": {
        "colab": {
          "base_uri": "https://localhost:8080/"
        },
        "id": "kdfWWgO7_oow",
        "outputId": "6fa73bc8-3969-4480-f416-0185c033d7b7"
      },
      "outputs": [
        {
          "output_type": "execute_result",
          "data": {
            "text/plain": [
              "             Tesla all periods  Tesla pre twitter  Tesla post twitter\n",
              "Daily vol             4.119703           4.151571            4.000327\n",
              "Monthly vol          18.878852          19.024886           18.331803\n",
              "Yearly vol           65.398262          65.904139           63.503229"
            ],
            "text/html": [
              "\n",
              "\n",
              "  <div id=\"df-a44cd85d-3ac5-413e-b45f-3b0affaf250c\">\n",
              "    <div class=\"colab-df-container\">\n",
              "      <div>\n",
              "<style scoped>\n",
              "    .dataframe tbody tr th:only-of-type {\n",
              "        vertical-align: middle;\n",
              "    }\n",
              "\n",
              "    .dataframe tbody tr th {\n",
              "        vertical-align: top;\n",
              "    }\n",
              "\n",
              "    .dataframe thead th {\n",
              "        text-align: right;\n",
              "    }\n",
              "</style>\n",
              "<table border=\"1\" class=\"dataframe\">\n",
              "  <thead>\n",
              "    <tr style=\"text-align: right;\">\n",
              "      <th></th>\n",
              "      <th>Tesla all periods</th>\n",
              "      <th>Tesla pre twitter</th>\n",
              "      <th>Tesla post twitter</th>\n",
              "    </tr>\n",
              "  </thead>\n",
              "  <tbody>\n",
              "    <tr>\n",
              "      <th>Daily vol</th>\n",
              "      <td>4.119703</td>\n",
              "      <td>4.151571</td>\n",
              "      <td>4.000327</td>\n",
              "    </tr>\n",
              "    <tr>\n",
              "      <th>Monthly vol</th>\n",
              "      <td>18.878852</td>\n",
              "      <td>19.024886</td>\n",
              "      <td>18.331803</td>\n",
              "    </tr>\n",
              "    <tr>\n",
              "      <th>Yearly vol</th>\n",
              "      <td>65.398262</td>\n",
              "      <td>65.904139</td>\n",
              "      <td>63.503229</td>\n",
              "    </tr>\n",
              "  </tbody>\n",
              "</table>\n",
              "</div>\n",
              "      <button class=\"colab-df-convert\" onclick=\"convertToInteractive('df-a44cd85d-3ac5-413e-b45f-3b0affaf250c')\"\n",
              "              title=\"Convert this dataframe to an interactive table.\"\n",
              "              style=\"display:none;\">\n",
              "\n",
              "  <svg xmlns=\"http://www.w3.org/2000/svg\" height=\"24px\"viewBox=\"0 0 24 24\"\n",
              "       width=\"24px\">\n",
              "    <path d=\"M0 0h24v24H0V0z\" fill=\"none\"/>\n",
              "    <path d=\"M18.56 5.44l.94 2.06.94-2.06 2.06-.94-2.06-.94-.94-2.06-.94 2.06-2.06.94zm-11 1L8.5 8.5l.94-2.06 2.06-.94-2.06-.94L8.5 2.5l-.94 2.06-2.06.94zm10 10l.94 2.06.94-2.06 2.06-.94-2.06-.94-.94-2.06-.94 2.06-2.06.94z\"/><path d=\"M17.41 7.96l-1.37-1.37c-.4-.4-.92-.59-1.43-.59-.52 0-1.04.2-1.43.59L10.3 9.45l-7.72 7.72c-.78.78-.78 2.05 0 2.83L4 21.41c.39.39.9.59 1.41.59.51 0 1.02-.2 1.41-.59l7.78-7.78 2.81-2.81c.8-.78.8-2.07 0-2.86zM5.41 20L4 18.59l7.72-7.72 1.47 1.35L5.41 20z\"/>\n",
              "  </svg>\n",
              "      </button>\n",
              "\n",
              "\n",
              "\n",
              "    <div id=\"df-379aba55-0648-4f77-84fb-07dc05af0b1c\">\n",
              "      <button class=\"colab-df-quickchart\" onclick=\"quickchart('df-379aba55-0648-4f77-84fb-07dc05af0b1c')\"\n",
              "              title=\"Suggest charts.\"\n",
              "              style=\"display:none;\">\n",
              "\n",
              "<svg xmlns=\"http://www.w3.org/2000/svg\" height=\"24px\"viewBox=\"0 0 24 24\"\n",
              "     width=\"24px\">\n",
              "    <g>\n",
              "        <path d=\"M19 3H5c-1.1 0-2 .9-2 2v14c0 1.1.9 2 2 2h14c1.1 0 2-.9 2-2V5c0-1.1-.9-2-2-2zM9 17H7v-7h2v7zm4 0h-2V7h2v10zm4 0h-2v-4h2v4z\"/>\n",
              "    </g>\n",
              "</svg>\n",
              "      </button>\n",
              "    </div>\n",
              "\n",
              "<style>\n",
              "  .colab-df-quickchart {\n",
              "    background-color: #E8F0FE;\n",
              "    border: none;\n",
              "    border-radius: 50%;\n",
              "    cursor: pointer;\n",
              "    display: none;\n",
              "    fill: #1967D2;\n",
              "    height: 32px;\n",
              "    padding: 0 0 0 0;\n",
              "    width: 32px;\n",
              "  }\n",
              "\n",
              "  .colab-df-quickchart:hover {\n",
              "    background-color: #E2EBFA;\n",
              "    box-shadow: 0px 1px 2px rgba(60, 64, 67, 0.3), 0px 1px 3px 1px rgba(60, 64, 67, 0.15);\n",
              "    fill: #174EA6;\n",
              "  }\n",
              "\n",
              "  [theme=dark] .colab-df-quickchart {\n",
              "    background-color: #3B4455;\n",
              "    fill: #D2E3FC;\n",
              "  }\n",
              "\n",
              "  [theme=dark] .colab-df-quickchart:hover {\n",
              "    background-color: #434B5C;\n",
              "    box-shadow: 0px 1px 3px 1px rgba(0, 0, 0, 0.15);\n",
              "    filter: drop-shadow(0px 1px 2px rgba(0, 0, 0, 0.3));\n",
              "    fill: #FFFFFF;\n",
              "  }\n",
              "</style>\n",
              "\n",
              "    <script>\n",
              "      async function quickchart(key) {\n",
              "        const containerElement = document.querySelector('#' + key);\n",
              "        const charts = await google.colab.kernel.invokeFunction(\n",
              "            'suggestCharts', [key], {});\n",
              "      }\n",
              "    </script>\n",
              "\n",
              "      <script>\n",
              "\n",
              "function displayQuickchartButton(domScope) {\n",
              "  let quickchartButtonEl =\n",
              "    domScope.querySelector('#df-379aba55-0648-4f77-84fb-07dc05af0b1c button.colab-df-quickchart');\n",
              "  quickchartButtonEl.style.display =\n",
              "    google.colab.kernel.accessAllowed ? 'block' : 'none';\n",
              "}\n",
              "\n",
              "        displayQuickchartButton(document);\n",
              "      </script>\n",
              "      <style>\n",
              "    .colab-df-container {\n",
              "      display:flex;\n",
              "      flex-wrap:wrap;\n",
              "      gap: 12px;\n",
              "    }\n",
              "\n",
              "    .colab-df-convert {\n",
              "      background-color: #E8F0FE;\n",
              "      border: none;\n",
              "      border-radius: 50%;\n",
              "      cursor: pointer;\n",
              "      display: none;\n",
              "      fill: #1967D2;\n",
              "      height: 32px;\n",
              "      padding: 0 0 0 0;\n",
              "      width: 32px;\n",
              "    }\n",
              "\n",
              "    .colab-df-convert:hover {\n",
              "      background-color: #E2EBFA;\n",
              "      box-shadow: 0px 1px 2px rgba(60, 64, 67, 0.3), 0px 1px 3px 1px rgba(60, 64, 67, 0.15);\n",
              "      fill: #174EA6;\n",
              "    }\n",
              "\n",
              "    [theme=dark] .colab-df-convert {\n",
              "      background-color: #3B4455;\n",
              "      fill: #D2E3FC;\n",
              "    }\n",
              "\n",
              "    [theme=dark] .colab-df-convert:hover {\n",
              "      background-color: #434B5C;\n",
              "      box-shadow: 0px 1px 3px 1px rgba(0, 0, 0, 0.15);\n",
              "      filter: drop-shadow(0px 1px 2px rgba(0, 0, 0, 0.3));\n",
              "      fill: #FFFFFF;\n",
              "    }\n",
              "  </style>\n",
              "\n",
              "      <script>\n",
              "        const buttonEl =\n",
              "          document.querySelector('#df-a44cd85d-3ac5-413e-b45f-3b0affaf250c button.colab-df-convert');\n",
              "        buttonEl.style.display =\n",
              "          google.colab.kernel.accessAllowed ? 'block' : 'none';\n",
              "\n",
              "        async function convertToInteractive(key) {\n",
              "          const element = document.querySelector('#df-a44cd85d-3ac5-413e-b45f-3b0affaf250c');\n",
              "          const dataTable =\n",
              "            await google.colab.kernel.invokeFunction('convertToInteractive',\n",
              "                                                     [key], {});\n",
              "          if (!dataTable) return;\n",
              "\n",
              "          const docLinkHtml = 'Like what you see? Visit the ' +\n",
              "            '<a target=\"_blank\" href=https://colab.research.google.com/notebooks/data_table.ipynb>data table notebook</a>'\n",
              "            + ' to learn more about interactive tables.';\n",
              "          element.innerHTML = '';\n",
              "          dataTable['output_type'] = 'display_data';\n",
              "          await google.colab.output.renderOutput(dataTable, element);\n",
              "          const docLink = document.createElement('div');\n",
              "          docLink.innerHTML = docLinkHtml;\n",
              "          element.appendChild(docLink);\n",
              "        }\n",
              "      </script>\n",
              "    </div>\n",
              "  </div>\n"
            ]
          },
          "metadata": {},
          "execution_count": 7
        }
      ],
      "source": [
        "day_vol = tsla_returns.std()\n",
        "mon_vol = np.sqrt(21) * day_vol\n",
        "yr_vol = np.sqrt(252) * day_vol\n",
        "\n",
        "day_vol_twt = tsla_twt_returns.std()\n",
        "mon_vol_twt = np.sqrt(21) * day_vol_twt\n",
        "yr_vol_twt = np.sqrt(252) * day_vol_twt\n",
        "\n",
        "day_vol_pre = tsla_pretwt_returns.std()\n",
        "mon_vol_pre = np.sqrt(21) * day_vol_pre\n",
        "yr_vol_pre = np.sqrt(252) * day_vol_pre\n",
        "\n",
        "df=pd.DataFrame({\"Tesla all periods\":[day_vol, mon_vol, yr_vol],\n",
        "                 \"Tesla pre twitter\":[day_vol_pre, mon_vol_pre, yr_vol_pre],\n",
        "                 \"Tesla post twitter\":[day_vol_twt, mon_vol_twt, yr_vol_twt]})\n",
        "df.index = ['Daily vol', \"Monthly vol\", \"Yearly vol\"]\n",
        "df"
      ]
    },
    {
      "cell_type": "markdown",
      "metadata": {
        "id": "vzqDZVij0poH"
      },
      "source": [
        "post twitter volatility actually decreased what."
      ]
    },
    {
      "cell_type": "markdown",
      "metadata": {
        "id": "QA9cYk6CIS10"
      },
      "source": [
        "1. doge coin shit\n",
        "2. acquire twitter\n",
        "3. joe rogan"
      ]
    },
    {
      "cell_type": "markdown",
      "metadata": {
        "id": "nx7xKKJeESUQ"
      },
      "source": [
        "#part 1: lstm"
      ]
    },
    {
      "cell_type": "markdown",
      "metadata": {
        "id": "5Jfi2aUJHu-V"
      },
      "source": [
        "LSTM Modeling for Musk Factor Impact:\n",
        "\n",
        "- Prepare the data for LSTM modeling using a sliding window approach.\n",
        "- Define an LSTM model to predict short-term volatility based on past returns.\n",
        "- Train the LSTM model on the pre-Musk and post-Musk datasets separately.\n",
        "- Evaluate the performance of LSTM models using root mean squared error (RMSE).\n",
        "- Calculate residuals for both periods by subtracting the actual volatility from the LSTM-predicted volatility."
      ]
    },
    {
      "cell_type": "markdown",
      "metadata": {
        "id": "P9c05QZ-b4Ty"
      },
      "source": [
        "\n",
        "1. LSTM neural networks were employed to predict normalized returns of Tesla's stock for pre-Musk and post-Musk periods.\n",
        "Data was prepared and hyperparameters were optimized using Grid Search with Cross-Validation.\n",
        "\n",
        "2. Best LSTM models were trained for both pre-Musk and post-Musk periods.\n",
        "Predictions were made using the trained models.\n",
        "3. Model accuracy was evaluated using Root Mean Squared Error (RMSE) for each period.\n",
        "Accuracy scores were converted to percentage accuracy.\n",
        "4. LSTM predictions were compared with actual values for both pre-Musk and post-Musk periods.\n",
        "Plots were generated to visualize the comparison.\n",
        "5. Shapiro-Wilk and Anderson-Darling tests were conducted to assess the normality of LSTM predictions for each period.\n",
        "Mann-Whitney U test was used to check for significant differences in LSTM volatility predictions between pre-Musk and post-Musk periods.\n",
        "6. Cohen's d was calculated to determine the effect size between the mean predictions of pre-Musk and post-Musk periods.\n",
        "\n",
        "Reached 90% accuracy for prediction using LSTM. difference between two periods' volatilities existent but not large."
      ]
    },
    {
      "cell_type": "code",
      "execution_count": null,
      "metadata": {
        "colab": {
          "base_uri": "https://localhost:8080/"
        },
        "id": "f0vu4YDBk1O5",
        "outputId": "91d007e4-c55e-46f4-cb46-4440b249b127"
      },
      "outputs": [
        {
          "output_type": "stream",
          "name": "stdout",
          "text": [
            "Requirement already satisfied: keras in /usr/local/lib/python3.10/dist-packages (2.12.0)\n",
            "Requirement already satisfied: tensorflow in /usr/local/lib/python3.10/dist-packages (2.12.0)\n",
            "Requirement already satisfied: absl-py>=1.0.0 in /usr/local/lib/python3.10/dist-packages (from tensorflow) (1.4.0)\n",
            "Requirement already satisfied: astunparse>=1.6.0 in /usr/local/lib/python3.10/dist-packages (from tensorflow) (1.6.3)\n",
            "Requirement already satisfied: flatbuffers>=2.0 in /usr/local/lib/python3.10/dist-packages (from tensorflow) (23.5.26)\n",
            "Requirement already satisfied: gast<=0.4.0,>=0.2.1 in /usr/local/lib/python3.10/dist-packages (from tensorflow) (0.4.0)\n",
            "Requirement already satisfied: google-pasta>=0.1.1 in /usr/local/lib/python3.10/dist-packages (from tensorflow) (0.2.0)\n",
            "Requirement already satisfied: grpcio<2.0,>=1.24.3 in /usr/local/lib/python3.10/dist-packages (from tensorflow) (1.56.2)\n",
            "Requirement already satisfied: h5py>=2.9.0 in /usr/local/lib/python3.10/dist-packages (from tensorflow) (3.8.0)\n",
            "Requirement already satisfied: jax>=0.3.15 in /usr/local/lib/python3.10/dist-packages (from tensorflow) (0.4.13)\n",
            "Requirement already satisfied: keras<2.13,>=2.12.0 in /usr/local/lib/python3.10/dist-packages (from tensorflow) (2.12.0)\n",
            "Requirement already satisfied: libclang>=13.0.0 in /usr/local/lib/python3.10/dist-packages (from tensorflow) (16.0.6)\n",
            "Requirement already satisfied: numpy<1.24,>=1.22 in /usr/local/lib/python3.10/dist-packages (from tensorflow) (1.22.4)\n",
            "Requirement already satisfied: opt-einsum>=2.3.2 in /usr/local/lib/python3.10/dist-packages (from tensorflow) (3.3.0)\n",
            "Requirement already satisfied: packaging in /usr/local/lib/python3.10/dist-packages (from tensorflow) (23.1)\n",
            "Requirement already satisfied: protobuf!=4.21.0,!=4.21.1,!=4.21.2,!=4.21.3,!=4.21.4,!=4.21.5,<5.0.0dev,>=3.20.3 in /usr/local/lib/python3.10/dist-packages (from tensorflow) (3.20.3)\n",
            "Requirement already satisfied: setuptools in /usr/local/lib/python3.10/dist-packages (from tensorflow) (67.7.2)\n",
            "Requirement already satisfied: six>=1.12.0 in /usr/local/lib/python3.10/dist-packages (from tensorflow) (1.16.0)\n",
            "Requirement already satisfied: tensorboard<2.13,>=2.12 in /usr/local/lib/python3.10/dist-packages (from tensorflow) (2.12.3)\n",
            "Requirement already satisfied: tensorflow-estimator<2.13,>=2.12.0 in /usr/local/lib/python3.10/dist-packages (from tensorflow) (2.12.0)\n",
            "Requirement already satisfied: termcolor>=1.1.0 in /usr/local/lib/python3.10/dist-packages (from tensorflow) (2.3.0)\n",
            "Requirement already satisfied: typing-extensions>=3.6.6 in /usr/local/lib/python3.10/dist-packages (from tensorflow) (4.7.1)\n",
            "Requirement already satisfied: wrapt<1.15,>=1.11.0 in /usr/local/lib/python3.10/dist-packages (from tensorflow) (1.14.1)\n",
            "Requirement already satisfied: tensorflow-io-gcs-filesystem>=0.23.1 in /usr/local/lib/python3.10/dist-packages (from tensorflow) (0.32.0)\n",
            "Requirement already satisfied: wheel<1.0,>=0.23.0 in /usr/local/lib/python3.10/dist-packages (from astunparse>=1.6.0->tensorflow) (0.41.0)\n",
            "Requirement already satisfied: ml-dtypes>=0.1.0 in /usr/local/lib/python3.10/dist-packages (from jax>=0.3.15->tensorflow) (0.2.0)\n",
            "Requirement already satisfied: scipy>=1.7 in /usr/local/lib/python3.10/dist-packages (from jax>=0.3.15->tensorflow) (1.10.1)\n",
            "Requirement already satisfied: google-auth<3,>=1.6.3 in /usr/local/lib/python3.10/dist-packages (from tensorboard<2.13,>=2.12->tensorflow) (2.17.3)\n",
            "Requirement already satisfied: google-auth-oauthlib<1.1,>=0.5 in /usr/local/lib/python3.10/dist-packages (from tensorboard<2.13,>=2.12->tensorflow) (1.0.0)\n",
            "Requirement already satisfied: markdown>=2.6.8 in /usr/local/lib/python3.10/dist-packages (from tensorboard<2.13,>=2.12->tensorflow) (3.4.4)\n",
            "Requirement already satisfied: requests<3,>=2.21.0 in /usr/local/lib/python3.10/dist-packages (from tensorboard<2.13,>=2.12->tensorflow) (2.27.1)\n",
            "Requirement already satisfied: tensorboard-data-server<0.8.0,>=0.7.0 in /usr/local/lib/python3.10/dist-packages (from tensorboard<2.13,>=2.12->tensorflow) (0.7.1)\n",
            "Requirement already satisfied: werkzeug>=1.0.1 in /usr/local/lib/python3.10/dist-packages (from tensorboard<2.13,>=2.12->tensorflow) (2.3.6)\n",
            "Requirement already satisfied: cachetools<6.0,>=2.0.0 in /usr/local/lib/python3.10/dist-packages (from google-auth<3,>=1.6.3->tensorboard<2.13,>=2.12->tensorflow) (5.3.1)\n",
            "Requirement already satisfied: pyasn1-modules>=0.2.1 in /usr/local/lib/python3.10/dist-packages (from google-auth<3,>=1.6.3->tensorboard<2.13,>=2.12->tensorflow) (0.3.0)\n",
            "Requirement already satisfied: rsa<5,>=3.1.4 in /usr/local/lib/python3.10/dist-packages (from google-auth<3,>=1.6.3->tensorboard<2.13,>=2.12->tensorflow) (4.9)\n",
            "Requirement already satisfied: requests-oauthlib>=0.7.0 in /usr/local/lib/python3.10/dist-packages (from google-auth-oauthlib<1.1,>=0.5->tensorboard<2.13,>=2.12->tensorflow) (1.3.1)\n",
            "Requirement already satisfied: urllib3<1.27,>=1.21.1 in /usr/local/lib/python3.10/dist-packages (from requests<3,>=2.21.0->tensorboard<2.13,>=2.12->tensorflow) (1.26.16)\n",
            "Requirement already satisfied: certifi>=2017.4.17 in /usr/local/lib/python3.10/dist-packages (from requests<3,>=2.21.0->tensorboard<2.13,>=2.12->tensorflow) (2023.7.22)\n",
            "Requirement already satisfied: charset-normalizer~=2.0.0 in /usr/local/lib/python3.10/dist-packages (from requests<3,>=2.21.0->tensorboard<2.13,>=2.12->tensorflow) (2.0.12)\n",
            "Requirement already satisfied: idna<4,>=2.5 in /usr/local/lib/python3.10/dist-packages (from requests<3,>=2.21.0->tensorboard<2.13,>=2.12->tensorflow) (3.4)\n",
            "Requirement already satisfied: MarkupSafe>=2.1.1 in /usr/local/lib/python3.10/dist-packages (from werkzeug>=1.0.1->tensorboard<2.13,>=2.12->tensorflow) (2.1.3)\n",
            "Requirement already satisfied: pyasn1<0.6.0,>=0.4.6 in /usr/local/lib/python3.10/dist-packages (from pyasn1-modules>=0.2.1->google-auth<3,>=1.6.3->tensorboard<2.13,>=2.12->tensorflow) (0.5.0)\n",
            "Requirement already satisfied: oauthlib>=3.0.0 in /usr/local/lib/python3.10/dist-packages (from requests-oauthlib>=0.7.0->google-auth-oauthlib<1.1,>=0.5->tensorboard<2.13,>=2.12->tensorflow) (3.2.2)\n",
            "Collecting arch\n",
            "  Downloading arch-6.1.0-cp310-cp310-manylinux_2_17_x86_64.manylinux2014_x86_64.whl (916 kB)\n",
            "\u001b[2K     \u001b[90m━━━━━━━━━━━━━━━━━━━━━━━━━━━━━━━━━━━━━━━\u001b[0m \u001b[32m916.4/916.4 kB\u001b[0m \u001b[31m7.0 MB/s\u001b[0m eta \u001b[36m0:00:00\u001b[0m\n",
            "\u001b[?25hRequirement already satisfied: numpy>=1.19 in /usr/local/lib/python3.10/dist-packages (from arch) (1.22.4)\n",
            "Requirement already satisfied: scipy>=1.5 in /usr/local/lib/python3.10/dist-packages (from arch) (1.10.1)\n",
            "Requirement already satisfied: pandas>=1.1 in /usr/local/lib/python3.10/dist-packages (from arch) (1.5.3)\n",
            "Requirement already satisfied: statsmodels>=0.12 in /usr/local/lib/python3.10/dist-packages (from arch) (0.13.5)\n",
            "Requirement already satisfied: python-dateutil>=2.8.1 in /usr/local/lib/python3.10/dist-packages (from pandas>=1.1->arch) (2.8.2)\n",
            "Requirement already satisfied: pytz>=2020.1 in /usr/local/lib/python3.10/dist-packages (from pandas>=1.1->arch) (2022.7.1)\n",
            "Requirement already satisfied: patsy>=0.5.2 in /usr/local/lib/python3.10/dist-packages (from statsmodels>=0.12->arch) (0.5.3)\n",
            "Requirement already satisfied: packaging>=21.3 in /usr/local/lib/python3.10/dist-packages (from statsmodels>=0.12->arch) (23.1)\n",
            "Requirement already satisfied: six in /usr/local/lib/python3.10/dist-packages (from patsy>=0.5.2->statsmodels>=0.12->arch) (1.16.0)\n",
            "Installing collected packages: arch\n",
            "Successfully installed arch-6.1.0\n"
          ]
        }
      ],
      "source": [
        "!pip install keras\n",
        "!pip install tensorflow\n",
        "!pip install arch"
      ]
    },
    {
      "cell_type": "code",
      "execution_count": null,
      "metadata": {
        "id": "yi6LgFw8c64O"
      },
      "outputs": [],
      "source": [
        "import numpy as np\n",
        "import pandas as pd\n",
        "import matplotlib.pyplot as plt\n",
        "import yfinance as yf\n",
        "from arch import arch_model\n",
        "from statsmodels.tsa.stattools import coint\n",
        "import tensorflow as tf\n",
        "from tensorflow.keras.models import Sequential\n",
        "from tensorflow.keras.layers import LSTM, Dense, Dropout\n",
        "from tensorflow.keras.optimizers import Adam\n",
        "from sklearn.model_selection import GridSearchCV\n",
        "from sklearn.preprocessing import MinMaxScaler\n",
        "from sklearn.metrics import mean_squared_error\n",
        "\n",
        "\n",
        "from tensorflow.keras.wrappers.scikit_learn import KerasRegressor\n",
        "\n",
        "\n",
        "# Function to calculate daily volatility (conditional variance)\n",
        "def calculate_volatility(returns, window_size=10):\n",
        "    # Calculate daily volatility using GARCH(1,1) model\n",
        "    volatility = []\n",
        "    resid = []\n",
        "    for i in range(len(returns) - window_size):\n",
        "        model = arch_model(returns[i:i+window_size], vol='Garch', p=1, q=1)\n",
        "        result = model.fit(disp='off')\n",
        "        volatility.append(result.conditional_volatility[-1])\n",
        "        resid.append(result.resid)\n",
        "\n",
        "    return np.array(volatility), np.array(resid)\n",
        "\n"
      ]
    },
    {
      "cell_type": "code",
      "execution_count": null,
      "metadata": {
        "id": "a4-9Qm0_jJ65"
      },
      "outputs": [],
      "source": [
        "from sklearn.model_selection import train_test_split\n",
        "\n",
        "\n",
        "# Function to prepare data for LSTM modeling\n",
        "def prepare_lstm_data(data, look_back=10):\n",
        "    X, y = [], []\n",
        "    for i in range(len(data) - look_back):\n",
        "        X.append(data[i : i + look_back])\n",
        "        y.append(data[i + look_back])\n",
        "    return np.array(X), np.array(y)\n",
        "\n",
        "def grid_search_lstm(X_train, y_train):\n",
        "    lstm_regressor = KerasRegressor(build_fn=build_lstm_model, verbose=0)\n",
        "\n",
        "    param_grid = {\n",
        "        'units': [50, 100, 150],         # Different number of LSTM units\n",
        "        'learning_rate': [0.001, 0.01]   # Different learning rates\n",
        "    }\n",
        "\n",
        "    grid_search = GridSearchCV(estimator=lstm_regressor, param_grid=param_grid, cv=10, n_jobs=-1)\n",
        "    grid_result = grid_search.fit(X_train, y_train)\n",
        "\n",
        "    # Get the best LSTM model with optimized hyperparameters\n",
        "    best_lstm_model = grid_result.best_estimator_\n",
        "    best_params = grid_result.best_params_\n",
        "\n",
        "    return best_lstm_model, best_params\n",
        "\n",
        "\n",
        "def build_lstm_model(look_back=10, units=50, learning_rate=0.001):\n",
        "    model = Sequential()\n",
        "    model.add(LSTM(units=units, input_shape=(look_back, 1)))\n",
        "    model.add(Dense(units=1, activation='linear'))\n",
        "    model.compile(optimizer='adam', loss='mean_squared_error')\n",
        "    return model\n",
        "\n",
        "\n",
        "\n",
        "# Function to build and train the LSTM model for volatility forecasting\n",
        "def train_lstm_model(volatility_data, look_back=10, epochs=100, batch_size=32, test_size=0.2, random_state=42):\n",
        "    # Prepare data for LSTM modeling\n",
        "    X, y = prepare_lstm_data(volatility_data, look_back)\n",
        "\n",
        "    # Split the data into training and test sets\n",
        "    X_train, X_test, y_train, y_test = train_test_split(X, y, test_size=test_size, random_state=random_state)\n",
        "\n",
        "    # Perform grid search for hyperparameter optimization\n",
        "    best_lstm_model, best_params = grid_search_lstm(X_train, y_train)\n",
        "\n",
        "    # Train the best LSTM model\n",
        "    best_lstm_model.fit(X_train, y_train, epochs=epochs, batch_size=batch_size, verbose=0)\n",
        "\n",
        "    # Make predictions for volatility using the trained LSTM model\n",
        "    y_train_pred = best_lstm_model.predict(X_train).flatten()\n",
        "    y_test_pred = best_lstm_model.predict(X_test).flatten()\n",
        "\n",
        "    return best_lstm_model, best_params, y_train_pred, y_test_pred, y_train, y_test\n",
        "\n",
        "\n"
      ]
    },
    {
      "cell_type": "code",
      "execution_count": null,
      "metadata": {
        "colab": {
          "base_uri": "https://localhost:8080/"
        },
        "id": "nRDSp-8_Gioi",
        "outputId": "a4b956b9-d437-4c82-edb3-7b1f0549b011"
      },
      "outputs": [
        {
          "output_type": "stream",
          "name": "stderr",
          "text": [
            "<ipython-input-10-49638eb8942f>:13: DeprecationWarning: KerasRegressor is deprecated, use Sci-Keras (https://github.com/adriangb/scikeras) instead. See https://www.adriangb.com/scikeras/stable/migration.html for help migrating.\n",
            "  lstm_regressor = KerasRegressor(build_fn=build_lstm_model, verbose=0)\n"
          ]
        }
      ],
      "source": [
        "\n",
        "# Prepare data for volatility modeling\n",
        "tsla_pre_vol, tsla_pre_vol_resid = calculate_volatility(tsla_pretwt_returns)\n",
        "tsla_post_vol, tsla_post_vol_resid = calculate_volatility(tsla_twt_returns)\n",
        "\n",
        "\n",
        "pre_musk_model, pre_musk_params, pre_musk_train_pred, pre_musk_test_pred, pre_musk_train, pre_musk_test = train_lstm_model(tsla_pre_vol)\n",
        "\n",
        "post_musk_model, pre_musk_params, post_musk_train_pred, post_musk_test_pred, post_musk_train, post_musk_test = train_lstm_model(tsla_post_vol)\n"
      ]
    },
    {
      "cell_type": "code",
      "execution_count": null,
      "metadata": {
        "colab": {
          "base_uri": "https://localhost:8080/"
        },
        "id": "rcCYzCGLU--z",
        "outputId": "4f5dbc0c-6825-44c9-a11d-771c9e281b08"
      },
      "outputs": [
        {
          "output_type": "stream",
          "name": "stdout",
          "text": [
            "Accuracy percentage for pre-Musk volatility predictions: 90.61223122533453\n",
            "Accuracy percentage for post-Musk volatility predictions: 89.73056760435198\n"
          ]
        }
      ],
      "source": [
        "def calculate_accuracy(actual, predicted):\n",
        "    mse = mean_squared_error(actual, predicted)\n",
        "    rmse = np.sqrt(mse)\n",
        "\n",
        "    # Calculate the range of the data\n",
        "    data_range = np.max(actual) - np.min(actual)\n",
        "\n",
        "    # Calculate accuracy percentage\n",
        "    accuracy = 100 * (1 - (rmse / data_range))\n",
        "    return accuracy\n",
        "\n",
        "\n",
        "# Calculate accuracy percentage for pre-Musk predictions\n",
        "accuracy_pre_musk = calculate_accuracy(pre_musk_test, pre_musk_test_pred)\n",
        "print(\"Accuracy percentage for pre-Musk volatility predictions:\", accuracy_pre_musk)\n",
        "\n",
        "# Calculate accuracy percentage for post-Musk predictions\n",
        "accuracy_post_musk = calculate_accuracy(post_musk_test, post_musk_test_pred)\n",
        "print(\"Accuracy percentage for post-Musk volatility predictions:\", accuracy_post_musk)"
      ]
    },
    {
      "cell_type": "code",
      "execution_count": null,
      "metadata": {
        "colab": {
          "base_uri": "https://localhost:8080/",
          "height": 1000
        },
        "id": "qA2F-k1QZMrr",
        "outputId": "e93d50ee-651d-4b48-c25f-bd8606cd904b"
      },
      "outputs": [
        {
          "output_type": "display_data",
          "data": {
            "text/plain": [
              "<Figure size 1000x600 with 1 Axes>"
            ],
            "image/png": "[encoded data removed]"
          },
          "metadata": {}
        },
        {
          "output_type": "display_data",
          "data": {
            "text/plain": [
              "<Figure size 1000x600 with 1 Axes>"
            ],
            "image/png": "[encoded data removed]"
          },
          "metadata": {}
        }
      ],
      "source": [
        "import matplotlib.pyplot as plt\n",
        "\n",
        "# Plot LSTM predictions vs. actual values for pre-Musk period\n",
        "plt.figure(figsize=(10, 6))\n",
        "plt.plot(pre_musk_test, label='Actual Values')\n",
        "plt.plot(pre_musk_test_pred, label='Predicted Values')\n",
        "plt.title('LSTM Predictions vs. Actual Values (Pre-Musk Period)')\n",
        "plt.legend()\n",
        "plt.xlabel('Time')\n",
        "plt.ylabel('Normalized Returns')\n",
        "plt.show()\n",
        "\n",
        "# Plot LSTM predictions vs. actual values for post-Musk period\n",
        "plt.figure(figsize=(10, 6))\n",
        "plt.plot(post_musk_test, label='Actual Values')\n",
        "plt.plot(post_musk_test_pred, label='Predicted Values')\n",
        "plt.title('LSTM Predictions vs. Actual Values (Post-Musk Period)')\n",
        "plt.legend()\n",
        "plt.xlabel('Time')\n",
        "plt.ylabel('Normalized Returns')\n",
        "plt.show()\n"
      ]
    },
    {
      "cell_type": "code",
      "execution_count": null,
      "metadata": {
        "colab": {
          "base_uri": "https://localhost:8080/"
        },
        "id": "zDywGYq5a2pR",
        "outputId": "f740f61e-cb6c-436f-8134-e974d9ed1919"
      },
      "outputs": [
        {
          "output_type": "stream",
          "name": "stdout",
          "text": [
            "Mann-Whitney U Test:\n",
            "Statistic: 5141.0\n",
            "P-value: 0.0714937173085927\n",
            "Fail to reject the null hypothesis: There is no significant difference between the volatilities.\n"
          ]
        }
      ],
      "source": [
        "from scipy.stats import mannwhitneyu\n",
        "\n",
        "# Assuming you have the LSTM volatility predictions for pre-Musk and post-Musk periods\n",
        "# in variables y_pred_pre_musk and y_pred_post_musk respectively.\n",
        "\n",
        "# Perform the Mann-Whitney U test\n",
        "statistic, p_value = mannwhitneyu(pre_musk_test_pred, post_musk_test_pred)\n",
        "\n",
        "# Print the results\n",
        "print(\"Mann-Whitney U Test:\")\n",
        "print(f\"Statistic: {statistic}\")\n",
        "print(f\"P-value: {p_value}\")\n",
        "\n",
        "# Set the significance level (alpha)\n",
        "alpha = 0.05\n",
        "\n",
        "# Check if the p-value is less than the significance level\n",
        "if p_value < alpha:\n",
        "    print(\"Reject the null hypothesis: There is a significant difference between the volatilities.\")\n",
        "else:\n",
        "    print(\"Fail to reject the null hypothesis: There is no significant difference between the volatilities.\")\n"
      ]
    },
    {
      "cell_type": "code",
      "execution_count": null,
      "metadata": {
        "colab": {
          "base_uri": "https://localhost:8080/",
          "height": 382
        },
        "id": "-zoJw8OmbK4k",
        "outputId": "095482a8-c5b2-4d2d-b21e-a5867cd0ff20"
      },
      "outputs": [
        {
          "output_type": "error",
          "ename": "ValueError",
          "evalue": "ignored",
          "traceback": [
            "\u001b[0;31m---------------------------------------------------------------------------\u001b[0m",
            "\u001b[0;31mValueError\u001b[0m                                Traceback (most recent call last)",
            "\u001b[0;32m<ipython-input-39-1f28e96f9f8d>\u001b[0m in \u001b[0;36m<cell line: 18>\u001b[0;34m()\u001b[0m\n\u001b[1;32m     16\u001b[0m         \u001b[0mprint\u001b[0m\u001b[0;34m(\u001b[0m\u001b[0;34m\"No significant autocorrelation in the residuals.\"\u001b[0m\u001b[0;34m)\u001b[0m\u001b[0;34m\u001b[0m\u001b[0;34m\u001b[0m\u001b[0m\n\u001b[1;32m     17\u001b[0m \u001b[0;34m\u001b[0m\u001b[0m\n\u001b[0;32m---> 18\u001b[0;31m \u001b[0mportmanteau_test\u001b[0m\u001b[0;34m(\u001b[0m\u001b[0mtsla_pre_vol_resid\u001b[0m\u001b[0;34m)\u001b[0m\u001b[0;34m\u001b[0m\u001b[0;34m\u001b[0m\u001b[0m\n\u001b[0m\u001b[1;32m     19\u001b[0m \u001b[0mportmanteau_test\u001b[0m\u001b[0;34m(\u001b[0m\u001b[0mtsla_post_vol_resid\u001b[0m\u001b[0;34m)\u001b[0m\u001b[0;34m\u001b[0m\u001b[0;34m\u001b[0m\u001b[0m\n",
            "\u001b[0;32m<ipython-input-39-1f28e96f9f8d>\u001b[0m in \u001b[0;36mportmanteau_test\u001b[0;34m(residuals, lags)\u001b[0m\n\u001b[1;32m      4\u001b[0m \u001b[0;31m# lags: The number of lags to include in the test (usually set to 10 or more)\u001b[0m\u001b[0;34m\u001b[0m\u001b[0;34m\u001b[0m\u001b[0m\n\u001b[1;32m      5\u001b[0m \u001b[0;32mdef\u001b[0m \u001b[0mportmanteau_test\u001b[0m\u001b[0;34m(\u001b[0m\u001b[0mresiduals\u001b[0m\u001b[0;34m,\u001b[0m \u001b[0mlags\u001b[0m\u001b[0;34m=\u001b[0m\u001b[0;36m10\u001b[0m\u001b[0;34m)\u001b[0m\u001b[0;34m:\u001b[0m\u001b[0;34m\u001b[0m\u001b[0;34m\u001b[0m\u001b[0m\n\u001b[0;32m----> 6\u001b[0;31m     \u001b[0mlb_test_statistic\u001b[0m\u001b[0;34m,\u001b[0m \u001b[0mlb_p_value\u001b[0m \u001b[0;34m=\u001b[0m \u001b[0macorr_ljungbox\u001b[0m\u001b[0;34m(\u001b[0m\u001b[0mresiduals\u001b[0m\u001b[0;34m,\u001b[0m \u001b[0mlags\u001b[0m\u001b[0;34m=\u001b[0m\u001b[0mlags\u001b[0m\u001b[0;34m)\u001b[0m\u001b[0;34m\u001b[0m\u001b[0;34m\u001b[0m\u001b[0m\n\u001b[0m\u001b[1;32m      7\u001b[0m \u001b[0;34m\u001b[0m\u001b[0m\n\u001b[1;32m      8\u001b[0m     \u001b[0;31m# Print the results\u001b[0m\u001b[0;34m\u001b[0m\u001b[0;34m\u001b[0m\u001b[0m\n",
            "\u001b[0;32m/usr/local/lib/python3.10/dist-packages/statsmodels/stats/diagnostic.py\u001b[0m in \u001b[0;36macorr_ljungbox\u001b[0;34m(x, lags, boxpierce, model_df, period, return_df, auto_lag)\u001b[0m\n\u001b[1;32m    423\u001b[0m     \u001b[0;31m# Avoid cyclic import\u001b[0m\u001b[0;34m\u001b[0m\u001b[0;34m\u001b[0m\u001b[0m\n\u001b[1;32m    424\u001b[0m     \u001b[0;32mfrom\u001b[0m \u001b[0mstatsmodels\u001b[0m\u001b[0;34m.\u001b[0m\u001b[0mtsa\u001b[0m\u001b[0;34m.\u001b[0m\u001b[0mstattools\u001b[0m \u001b[0;32mimport\u001b[0m \u001b[0macf\u001b[0m\u001b[0;34m\u001b[0m\u001b[0;34m\u001b[0m\u001b[0m\n\u001b[0;32m--> 425\u001b[0;31m     \u001b[0mx\u001b[0m \u001b[0;34m=\u001b[0m \u001b[0marray_like\u001b[0m\u001b[0;34m(\u001b[0m\u001b[0mx\u001b[0m\u001b[0;34m,\u001b[0m \u001b[0;34m\"x\"\u001b[0m\u001b[0;34m)\u001b[0m\u001b[0;34m\u001b[0m\u001b[0;34m\u001b[0m\u001b[0m\n\u001b[0m\u001b[1;32m    426\u001b[0m     \u001b[0mperiod\u001b[0m \u001b[0;34m=\u001b[0m \u001b[0mint_like\u001b[0m\u001b[0;34m(\u001b[0m\u001b[0mperiod\u001b[0m\u001b[0;34m,\u001b[0m \u001b[0;34m\"period\"\u001b[0m\u001b[0;34m,\u001b[0m \u001b[0moptional\u001b[0m\u001b[0;34m=\u001b[0m\u001b[0;32mTrue\u001b[0m\u001b[0;34m)\u001b[0m\u001b[0;34m\u001b[0m\u001b[0;34m\u001b[0m\u001b[0m\n\u001b[1;32m    427\u001b[0m     \u001b[0mreturn_df\u001b[0m \u001b[0;34m=\u001b[0m \u001b[0mbool_like\u001b[0m\u001b[0;34m(\u001b[0m\u001b[0mreturn_df\u001b[0m\u001b[0;34m,\u001b[0m \u001b[0;34m\"return_df\"\u001b[0m\u001b[0;34m,\u001b[0m \u001b[0moptional\u001b[0m\u001b[0;34m=\u001b[0m\u001b[0;32mFalse\u001b[0m\u001b[0;34m)\u001b[0m\u001b[0;34m\u001b[0m\u001b[0;34m\u001b[0m\u001b[0m\n",
            "\u001b[0;32m/usr/local/lib/python3.10/dist-packages/statsmodels/tools/validation/validation.py\u001b[0m in \u001b[0;36marray_like\u001b[0;34m(obj, name, dtype, ndim, maxdim, shape, order, contiguous, optional)\u001b[0m\n\u001b[1;32m    145\u001b[0m         \u001b[0;32mif\u001b[0m \u001b[0marr\u001b[0m\u001b[0;34m.\u001b[0m\u001b[0mndim\u001b[0m \u001b[0;34m!=\u001b[0m \u001b[0mndim\u001b[0m\u001b[0;34m:\u001b[0m\u001b[0;34m\u001b[0m\u001b[0;34m\u001b[0m\u001b[0m\n\u001b[1;32m    146\u001b[0m             \u001b[0mmsg\u001b[0m \u001b[0;34m=\u001b[0m \u001b[0;34m\"{0} is required to have ndim {1} but has ndim {2}\"\u001b[0m\u001b[0;34m\u001b[0m\u001b[0;34m\u001b[0m\u001b[0m\n\u001b[0;32m--> 147\u001b[0;31m             \u001b[0;32mraise\u001b[0m \u001b[0mValueError\u001b[0m\u001b[0;34m(\u001b[0m\u001b[0mmsg\u001b[0m\u001b[0;34m.\u001b[0m\u001b[0mformat\u001b[0m\u001b[0;34m(\u001b[0m\u001b[0mname\u001b[0m\u001b[0;34m,\u001b[0m \u001b[0mndim\u001b[0m\u001b[0;34m,\u001b[0m \u001b[0marr\u001b[0m\u001b[0;34m.\u001b[0m\u001b[0mndim\u001b[0m\u001b[0;34m)\u001b[0m\u001b[0;34m)\u001b[0m\u001b[0;34m\u001b[0m\u001b[0;34m\u001b[0m\u001b[0m\n\u001b[0m\u001b[1;32m    148\u001b[0m     \u001b[0;32mif\u001b[0m \u001b[0mshape\u001b[0m \u001b[0;32mis\u001b[0m \u001b[0;32mnot\u001b[0m \u001b[0;32mNone\u001b[0m\u001b[0;34m:\u001b[0m\u001b[0;34m\u001b[0m\u001b[0;34m\u001b[0m\u001b[0m\n\u001b[1;32m    149\u001b[0m         \u001b[0;32mfor\u001b[0m \u001b[0mactual\u001b[0m\u001b[0;34m,\u001b[0m \u001b[0mreq\u001b[0m \u001b[0;32min\u001b[0m \u001b[0mzip\u001b[0m\u001b[0;34m(\u001b[0m\u001b[0marr\u001b[0m\u001b[0;34m.\u001b[0m\u001b[0mshape\u001b[0m\u001b[0;34m,\u001b[0m \u001b[0mshape\u001b[0m\u001b[0;34m)\u001b[0m\u001b[0;34m:\u001b[0m\u001b[0;34m\u001b[0m\u001b[0;34m\u001b[0m\u001b[0m\n",
            "\u001b[0;31mValueError\u001b[0m: x is required to have ndim 1 but has ndim 2"
          ]
        }
      ],
      "source": [
        "from statsmodels.stats.diagnostic import acorr_ljungbox\n",
        "\n",
        "# residuals: The array or series of residuals from your model\n",
        "# lags: The number of lags to include in the test (usually set to 10 or more)\n",
        "def portmanteau_test(residuals, lags=10):\n",
        "    lb_test_statistic, lb_p_value = acorr_ljungbox(residuals, lags=lags)\n",
        "\n",
        "    # Print the results\n",
        "    print(\"Ljung-Box Test Statistic:\", lb_test_statistic)\n",
        "    print(\"P-value:\", lb_p_value)\n",
        "\n",
        "    # Check if any p-values are less than the significance level (e.g., 0.05)\n",
        "    if any(lb_p_value < 0.05):\n",
        "        print(\"Autocorrelation detected in the residuals.\")\n",
        "    else:\n",
        "        print(\"No significant autocorrelation in the residuals.\")\n",
        "\n",
        "portmanteau_test(tsla_pre_vol_resid)\n",
        "portmanteau_test(tsla_post_vol_resid)"
      ]
    },
    {
      "cell_type": "markdown",
      "metadata": {
        "id": "qnT230AzbUGI"
      },
      "source": [
        " the volatility in the post-Musk period may be slightly higher than in the pre-Musk period, but the difference is not very large"
      ]
    },
    {
      "cell_type": "markdown",
      "metadata": {
        "id": "R1ZqjvvjEWdw"
      },
      "source": [
        "###part 2: garch"
      ]
    },
    {
      "cell_type": "markdown",
      "metadata": {
        "id": "S6lKxmjYJ8JL"
      },
      "source": [
        "- Implement GARCH modeling on the residuals to capture long-term conditional volatility.\n",
        "- Fit GARCH models on the residuals of pre-Musk and post-Musk periods.\n",
        "- Obtain GARCH conditional volatility estimates for each period."
      ]
    },
    {
      "cell_type": "code",
      "source": [
        "residuals_post.shape"
      ],
      "metadata": {
        "id": "AuDJWkrK_PQU"
      },
      "execution_count": null,
      "outputs": []
    },
    {
      "cell_type": "code",
      "execution_count": null,
      "metadata": {
        "id": "YThi4ec-S5C7"
      },
      "outputs": [],
      "source": [
        "residuals_g = pd.Series(residuals.ravel())*100\n",
        "residuals_post_g = pd.Series(residuals_post.ravel())*100"
      ]
    },
    {
      "cell_type": "code",
      "source": [
        "residuals_post[:1]"
      ],
      "metadata": {
        "id": "czq4vcOY-iPZ"
      },
      "execution_count": null,
      "outputs": []
    },
    {
      "cell_type": "code",
      "execution_count": null,
      "metadata": {
        "id": "sn0QJ3B5P56M"
      },
      "outputs": [],
      "source": [
        "import pandas as pd\n",
        "# Pre-diagnostic checks\n",
        "# Check for stationarity using the Augmented Dickey-Fuller (ADF) test\n",
        "from statsmodels.tsa.stattools import kpss\n",
        "\n",
        "\n",
        "# Pre-diagnostic checks\n",
        "# Check for stationarity using the Kwiatkowski-Phillips-Schmidt-Shin (KPSS) test\n",
        "def kpss_test(series, title):\n",
        "    result = kpss(series)\n",
        "    print(f\"KPSS Test for {title} Residuals:\")\n",
        "    print(\"KPSS Statistic:\", result[0])\n",
        "    print(\"p-value:\", result[1])\n",
        "    print(\"Critical Values:\")\n",
        "    for key, value in result[3].items():\n",
        "        print(f\"\\t{key}: {value}\")\n",
        "    print(\"Is the series stationary?\", \"Yes\" if result[1] < 0.05 else \"No\")\n",
        "\n",
        "# Perform KPSS test for both pre and post-Musk residuals\n",
        "kpss_test(residuals_g, \"Pre-Musk\")\n",
        "kpss_test(residuals_post_g, \"Post-Musk\")\n"
      ]
    },
    {
      "cell_type": "code",
      "execution_count": null,
      "metadata": {
        "id": "197VZuGjJ5dJ"
      },
      "outputs": [],
      "source": [
        "import numpy as np\n",
        "from arch import arch_model\n",
        "import statsmodels.api as sm\n",
        "from scipy.stats import chi2\n",
        "from sklearn.metrics import mean_squared_error\n",
        "import arch\n",
        "\n",
        "def prepare_data(data, window_size):\n",
        "    # Create a list to store the prepared data\n",
        "    prepared_data = []\n",
        "\n",
        "    # Calculate the number of windows that can be created from the data\n",
        "    num_windows = len(data) // window_size\n",
        "\n",
        "    for i in range(num_windows):\n",
        "        # Extract the current window of data\n",
        "        window = data[i * window_size : (i+1) * window_size]\n",
        "\n",
        "        # Check if the window contains any missing values\n",
        "        if not np.isnan(window).any():\n",
        "            # If there are no missing values, add the window to the prepared data\n",
        "            prepared_data.append(window)\n",
        "        else:\n",
        "            print(f\"Window {i} contains missing values and will be skipped.\")\n",
        "\n",
        "    return prepared_data\n",
        "\n",
        "\n",
        "def portmanteau_test(residuals, lag):\n",
        "    n = len(residuals)\n",
        "    q_stat = n * (n + 2) * np.sum([(np.correlate(residuals, residuals, 'full')[n - 1 + l]**2) / (n - l) for l in range(1, lag + 1)])\n",
        "    p_value = 1.0 - chi2.cdf(q_stat, lag)\n",
        "    return p_value"
      ]
    },
    {
      "cell_type": "code",
      "execution_count": null,
      "metadata": {
        "id": "QhtLLLto1ROc"
      },
      "outputs": [],
      "source": [
        "\n",
        "\n",
        "def walk_forward_garch(data, p_range, q_range, window_size):\n",
        "    forecasts = []\n",
        "    conditional_volatility = []\n",
        "    best_garch_models = []\n",
        "    portmanteau_p_values = []\n",
        "\n",
        "    for i in range(len(data)):\n",
        "        # Prepare the data for the current window\n",
        "        train_set, val_set = data[:i], data[i:]\n",
        "\n",
        "        best_mse = float('inf')\n",
        "        best_p, best_q = 0, 0\n",
        "\n",
        "        for p in p_range:\n",
        "            for q in q_range:\n",
        "                # Fit the GARCH model on the training set of the current window\n",
        "                garch_model = arch.arch_model(train_set, p=p, q=q)\n",
        "                garch_result = garch_model.fit(disp='off')\n",
        "\n",
        "                # Forecast volatility for the validation set of the current window\n",
        "                garch_forecast = garch_result.forecast(horizon=len(val_set))\n",
        "\n",
        "                # Calculate mean squared error for the forecast\n",
        "                mse = np.mean((val_set - garch_forecast.mean[-1])**2)\n",
        "\n",
        "                if mse < best_mse:\n",
        "                    best_mse = mse\n",
        "                    best_p, best_q = p, q\n",
        "\n",
        "        # Fit the best GARCH model on the entire data up to the current window\n",
        "        best_garch_model = arch.arch_model(data[:i+window_size], p=best_p, q=best_q)\n",
        "        best_garch_result = best_garch_model.fit(disp='off')\n",
        "\n",
        "        # Forecast volatility for the validation set of the current window\n",
        "        garch_forecast = best_garch_result.forecast(horizon=len(val_set))\n",
        "\n",
        "        # Append the results for the current window to the lists\n",
        "        forecasts.append(garch_forecast.mean[-1])\n",
        "        conditional_volatility.append(garch_forecast.residual_variance[-1])\n",
        "        best_garch_models.append(best_garch_result)\n",
        "\n",
        "        # Perform Portmanteau test\n",
        "        portmanteau_p_value = portmanteau_test(best_garch_result.resid, lag=10) # You can adjust the lag as needed\n",
        "        portmanteau_p_values.append(portmanteau_p_value)\n",
        "\n",
        "    return forecasts, conditional_volatility, best_garch_models, portmanteau_p_values\n"
      ]
    },
    {
      "cell_type": "code",
      "execution_count": null,
      "metadata": {
        "id": "2Y782xg5gRN5"
      },
      "outputs": [],
      "source": [
        "\n",
        "# Define the ranges of p and q for hyperparameter optimization\n",
        "p_range = range(1, 5)\n",
        "q_range = range(1, 5)\n",
        "\n",
        "# Define the window size for walk-forward validation\n",
        "window_size = 10\n",
        "\n",
        "# Prepare the data for pre-Musk and post-Musk periods\n",
        "pre_musk_data = prepare_data(residuals_g.values, window_size)\n",
        "post_musk_data = prepare_data(residuals_post_g.values, window_size)\n",
        "\n",
        "print(\"Pre-Musk Data Size:\", len(pre_musk_data))\n",
        "print(\"Post-Musk Data Size:\", len(post_musk_data))\n",
        "\n",
        "# Perform walk-forward GARCH modeling for pre-Musk residuals\n",
        "forecasts_pre_musk, conditional_volatility_pre_musk, best_garch_models_pre_musk, portmanteau_p_values_pre_musk = walk_forward_garch(pre_musk_data, p_range, q_range, window_size)\n",
        "\n",
        "# Perform walk-forward GARCH modeling for post-Musk residuals\n",
        "forecasts_post_musk, conditional_volatility_post_musk, best_garch_models_post_musk, portmanteau_p_values_post_musk = walk_forward_garch(post_musk_data, p_range, q_range, window_size)\n"
      ]
    },
    {
      "cell_type": "code",
      "execution_count": null,
      "metadata": {
        "id": "Lqr9wEwtkKCh"
      },
      "outputs": [],
      "source": [
        "# Print results\n",
        "print(\"Pre-Musk GARCH:\")\n",
        "print(\"Best p:\", best_p_pre_musk)\n",
        "print(\"Best q:\", best_q_pre_musk)\n",
        "print(\"Mean Squared Error:\", mse_pre_musk)\n",
        "print(\"Conditional Volatility:\", conditional_volatility_pre_musk[-1])\n",
        "\n",
        "print(\"\\nPost-Musk GARCH:\")\n",
        "print(\"Best p:\", best_p_post_musk)\n",
        "print(\"Best q:\", best_q_post_musk)\n",
        "print(\"Mean Squared Error:\", mse_post_musk)\n",
        "print(\"Conditional Volatility:\", conditional_volatility_post_musk[-1])"
      ]
    },
    {
      "cell_type": "code",
      "execution_count": null,
      "metadata": {
        "id": "cAul10hqQ6R4"
      },
      "outputs": [],
      "source": [
        "\n",
        "# Post-diagnostic checks\n",
        "# GARCH Model Residuals\n",
        "\n",
        "def plot_garch_residuals(model, title):\n",
        "    residuals = model.resid\n",
        "    fig, ax = plt.subplots(figsize=(8, 4))\n",
        "    residuals.plot(ax=ax)\n",
        "    ax.set_title(f'GARCH Model Residuals - {title}')\n",
        "    plt.show()\n",
        "\n",
        "# Plot GARCH model residuals for both pre and post-Musk periods\n",
        "garch_model_pre_musk = arch_model(residuals_g, vol='Garch', p=1, q=1)\n",
        "garch_model_post_musk = arch_model(residuals_post_g, vol='Garch', p=1, q=1)\n",
        "\n",
        "garch_result_pre_musk = garch_model_pre_musk.fit(disp='off')\n",
        "garch_result_post_musk = garch_model_post_musk.fit(disp='off')\n",
        "\n",
        "print(\"GARCH Model Residuals - Pre-Musk\")\n",
        "plot_garch_residuals(garch_result_pre_musk, \"Pre-Musk\")\n",
        "\n",
        "print(\"GARCH Model Residuals - Post-Musk\")\n",
        "plot_garch_residuals(garch_result_post_musk, \"Post-Musk\")"
      ]
    },
    {
      "cell_type": "markdown",
      "metadata": {
        "id": "jIdq5BkdOTut"
      },
      "source": [
        "Compare LSTM-predicted volatility with GARCH conditional volatility for both periods.\n",
        "Analyze the patterns and magnitudes of volatility estimates to identify any differences or similarities.\n",
        "Interpret whether GARCH improves volatility estimates by capturing long-term volatility patterns that LSTM may miss."
      ]
    },
    {
      "cell_type": "code",
      "execution_count": null,
      "metadata": {
        "id": "j5x_qU4DR2xO"
      },
      "outputs": [],
      "source": [
        "import matplotlib.pyplot as plt\n",
        "\n",
        "# Compare LSTM and GARCH volatility estimates for pre-Musk period\n",
        "plt.figure(figsize=(10, 6))\n",
        "plt.plot(y_test_pre_musk.index, y_test_pre_musk, label='Actual Volatility', color='blue')\n",
        "plt.plot(y_test_pre_musk.index, y_pred_pre_musk, label='LSTM Predicted Volatility', color='green')\n",
        "plt.plot(y_test_pre_musk.index, conditional_volatility_pre_musk, label='GARCH Conditional Volatility', color='red')\n",
        "plt.xlabel('Date')\n",
        "plt.ylabel('Volatility')\n",
        "plt.title('Volatility Estimation for Pre-Musk Period')\n",
        "plt.legend()\n",
        "plt.show()\n",
        "\n",
        "# Compare LSTM and GARCH volatility estimates for post-Musk period\n",
        "plt.figure(figsize=(10, 6))\n",
        "plt.plot(y_test_post_musk.index, y_test_post_musk, label='Actual Volatility', color='blue')\n",
        "plt.plot(y_test_post_musk.index, y_pred_post_musk, label='LSTM Predicted Volatility', color='green')\n",
        "plt.plot(y_test_post_musk.index, conditional_volatility_post_musk, label='GARCH Conditional Volatility', color='red')\n",
        "plt.xlabel('Date')\n",
        "plt.ylabel('Volatility')\n",
        "plt.title('Volatility Estimation for Post-Musk Period')\n",
        "plt.legend()\n",
        "plt.show()\n"
      ]
    },
    {
      "cell_type": "code",
      "execution_count": null,
      "metadata": {
        "id": "XA8cRkAFe9Bu"
      },
      "outputs": [],
      "source": [
        "import numpy as np\n",
        "\n",
        "# Assuming you have prepared daily returns for Tesla for both pre-Musk and post-Musk periods\n",
        "# tesla_daily_returns_pre_musk and tesla_daily_returns_post_musk are arrays containing daily returns for the respective periods\n",
        "\n",
        "# Calculate the observed difference in volatilities between pre-Musk and post-Musk periods\n",
        "observed_difference = day_vol_twt - day_vol_pre\n",
        "\n",
        "# Number of bootstrap samples\n",
        "num_bootstrap_samples = 100\n",
        "\n",
        "# Initialize arrays to store bootstrap samples of differences in volatilities\n",
        "bootstrap_differences = np.zeros(num_bootstrap_samples)\n",
        "\n",
        "# Perform the bootstrap\n",
        "for i in range(num_bootstrap_samples):\n",
        "    # Resample with replacement from pre-Musk and post-Musk daily returns\n",
        "    bootstrap_pre_twt = np.random.choice(tsla_pretwt_returns, size=len(tsla_pretwt_returns), replace=True)\n",
        "    bootstrap_post_twt = np.random.choice(tsla_twt_returns, size=len(tsla_twt_returns), replace=True)\n",
        "\n",
        "    # Compute the difference in volatilities for the bootstrap sample\n",
        "    bootstrap_difference = np.std(bootstrap_post_twt) - np.std(bootstrap_pre_twt)\n",
        "\n",
        "    # Store the bootstrap difference in the array\n",
        "    bootstrap_differences[i] = bootstrap_difference\n",
        "\n",
        "# Calculate the confidence intervals (e.g., 95% confidence intervals)\n",
        "lower_bound = np.percentile(bootstrap_differences, 2.5)\n",
        "upper_bound = np.percentile(bootstrap_differences, 97.5)\n",
        "\n",
        "# Check if the observed difference is within the confidence interval\n",
        "if lower_bound <= observed_difference <= upper_bound:\n",
        "    print(\"The difference in volatilities is not statistically significant.\")\n",
        "else:\n",
        "    print(\"The difference in volatilities is statistically significant.\")\n"
      ]
    },
    {
      "cell_type": "markdown",
      "metadata": {
        "id": "Y6f9ELxTEgx4"
      },
      "source": [
        "#part 2: coint"
      ]
    },
    {
      "cell_type": "markdown",
      "source": [
        "Test Stationarity: Implemented the Augmented Dickey-Fuller (ADF) test for stationarity.\n",
        "\n",
        "Cointegration Analysis: Checked for cointegration between the daily returns of Tesla and Meta. Cointegration is a statistical property that measures the long-term equilibrium relationship between two time series.\n",
        "\n",
        "VECM Model: Estimated the cointegration relationship using the Vector Error Correction Model (VECM).This model helps capture the long-term dynamics between cointegrated variables.\n",
        "\n",
        "Bootstrapping: Performed bootstrapping on the residuals obtained from the VECM model. Bootstrapping is a statistical technique to estimate the uncertainty of a sample estimate by resampling with replacement from the original data.\n",
        "\n",
        "GARCH Modeling: For each bootstrapped sample where cointegration exists, fitted a GARCH (Generalized Autoregressive Conditional Heteroskedasticity) model to the bootstrapped residuals. GARCH models are commonly used to model volatility in financial time series.\n",
        "\n",
        "Historical Volatility: Calculated the historical volatility of Tesla's returns.\n",
        "\n",
        "Impact Analysis: Analyzed the impact on Tesla's volatility by comparing GARCH models with and without the cointegration residuals. The AIC (Akaike Information Criterion) value was used to determine the model performance.\n",
        "\n",
        "ARIMA Modeling: Used ARIMA (AutoRegressive Integrated Moving Average) modeling to forecast the cointegrated residuals' volatility.\n",
        "\n",
        "Forecasted Volatility Evaluation: Reconstructed the forecasted volatility using the ARIMA forecasted residuals and compared it with the actual volatility using various evaluation metrics such as Mean Squared Error (MSE), Root Mean Squared Error (RMSE), and Mean Absolute Percentage Error (MAPE).\n",
        "\n",
        "Percentage Accuracy: Calculated the percentage-based metric by comparing the RMSE with the observed range of Tesla's historical volatility.\n",
        "\n",
        "Overall, while there was cointegration, the relationship only served to dampen Tesla's volatility and including the cointegration residuals didn't improve the GARCH model's performance. 97.85% accuracy for predicting volatility using the cointegration relationship."
      ],
      "metadata": {
        "id": "i3fmamIg7RI3"
      }
    },
    {
      "cell_type": "code",
      "execution_count": null,
      "metadata": {
        "colab": {
          "base_uri": "https://localhost:8080/"
        },
        "id": "ZRPey6magjMs",
        "outputId": "a2a5a051-40a3-4b17-8627-db0afe6afebc"
      },
      "outputs": [
        {
          "output_type": "stream",
          "name": "stdout",
          "text": [
            "The data is stationary (null hypothesis rejected).\n",
            "The data is stationary (null hypothesis rejected).\n"
          ]
        }
      ],
      "source": [
        "from statsmodels.tsa.stattools import adfuller\n",
        "\n",
        "# Assuming you have prepared daily returns for Tesla and Meta\n",
        "# tesla_daily_returns and meta_daily_returns are arrays containing daily returns for Tesla and Meta, respectively\n",
        "\n",
        "# Perform the Augmented Dickey-Fuller (ADF) test for stationarity\n",
        "\n",
        "\n",
        "\n",
        "def test_stationarity(data):\n",
        "    result = adfuller(data)\n",
        "    p_value = result[1]\n",
        "\n",
        "    if p_value <= 0.05:\n",
        "        print(\"The data is stationary (null hypothesis rejected).\")\n",
        "    else:\n",
        "        print(\"The data is non-stationary (null hypothesis not rejected).\")\n",
        "\n",
        "tsla_vol,_ = calculate_volatility(tsla_returns)\n",
        "meta_vol,_ = calculate_volatility(meta_returns)\n",
        "\n",
        "# Verify stationarity for Tesla and Meta returns\n",
        "test_stationarity(tsla_returns)\n",
        "test_stationarity(meta_returns)\n"
      ]
    },
    {
      "cell_type": "code",
      "execution_count": null,
      "metadata": {
        "colab": {
          "base_uri": "https://localhost:8080/"
        },
        "id": "VAe3o1v_cCZz",
        "outputId": "d0b4b6f8-3219-469a-ff7c-1a95fe3f100b"
      },
      "outputs": [
        {
          "output_type": "stream",
          "name": "stdout",
          "text": [
            "Cointegration exists between the two assets.\n",
            "Tesla and Meta are cointegrated.\n"
          ]
        }
      ],
      "source": [
        "# Reuse the cointegration analysis function from Project 1\n",
        "from statsmodels.tsa.stattools import coint\n",
        "\n",
        "def check_cointegration(asset1_prices, asset2_prices):\n",
        "    # Your cointegration analysis code here (using statsmodels or other suitable library)\n",
        "    _, p_value, _ = coint(asset1_prices, asset2_prices)\n",
        "    if p_value < 0.05:\n",
        "        print(\"Cointegration exists between the two assets.\")\n",
        "        return True\n",
        "    else:\n",
        "        print(\"No cointegration detected. Consider different asset pairs.\")\n",
        "        return False\n",
        "\n",
        "# Check cointegration between Tesla and Meta\n",
        "is_cointegrated = check_cointegration(tsla_returns, meta_returns)\n",
        "\n",
        "if is_cointegrated:\n",
        "    print(\"Tesla and Meta are cointegrated.\")\n",
        "else:\n",
        "    print(\"No cointegration detected between Tesla and Meta.\")\n",
        "\n",
        "# Explanation:\n",
        "# Cointegration is a statistical property that measures the long-term equilibrium relationship between two time series.\n",
        "# The function 'check_cointegration' takes the price data of two assets, stock1_prices and stock2_prices, and performs the cointegration test.\n",
        "# The test returns a p-value, which is compared against a significance level (0.05) to determine if cointegration exists.\n",
        "# If the p-value is less than 0.05, we can consider the assets to be cointegrated, indicating a potential trading relationship.\n"
      ]
    },
    {
      "cell_type": "code",
      "execution_count": null,
      "metadata": {
        "colab": {
          "base_uri": "https://localhost:8080/"
        },
        "id": "oUPmYilSd9iT",
        "outputId": "5eb1a2c8-140b-479c-bbbc-109176ddfdce"
      },
      "outputs": [
        {
          "output_type": "stream",
          "name": "stderr",
          "text": [
            "/usr/local/lib/python3.10/dist-packages/statsmodels/tsa/base/tsa_model.py:471: ValueWarning: A date index has been provided, but it has no associated frequency information and so will be ignored when e.g. forecasting.\n",
            "  self._init_dates(dates, freq)\n"
          ]
        }
      ],
      "source": [
        "from sklearn.utils import resample\n",
        "from statsmodels.tsa.vector_ar.vecm import VECM\n",
        "\n",
        "\n",
        "num_bootstrap_samples = 100\n",
        "\n",
        "returns_df = pd.concat([tsla_returns, meta_returns], axis=1)\n",
        "returns_df.columns = ['Tesla', 'Meta']\n",
        "\n",
        "# Estimate the cointegration relationship using VECM\n",
        "vecm_model = VECM(returns_df, k_ar_diff=1, coint_rank=1)\n",
        "vecm_results = vecm_model.fit()\n",
        "\n",
        "# Get the residuals from the VECM model\n",
        "residuals_vecm = vecm_results.resid\n",
        "\n",
        "residuals = residuals_vecm[:,0]\n",
        "\n",
        "tsla_returns_vecm = tsla_returns.iloc[2:]\n",
        "meta_returns_vecm = meta_returns.iloc[2:]\n",
        "\n",
        "# Step 2: Bootstrapping\n",
        "# Create an array to store bootstrapped volatility estimates\n",
        "bootstrap_volatility_estimates = []\n",
        "\n",
        "# Perform bootstrapping for num_bootstrap_samples\n",
        "for i in range(num_bootstrap_samples):\n",
        "    # Resample residuals using bootstrap with replacement\n",
        "    bootstrapped_residuals = resample(residuals, replace=True)\n",
        "\n",
        "    # Step 3: Cointegration Regression for Bootstrapped Samples\n",
        "    # Perform cointegration test for the bootstrapped residuals\n",
        "    _, p_value, _ = coint(tsla_returns_vecm, bootstrapped_residuals)\n",
        "    is_cointegrated_bootstrapped = p_value < 0.05  # Adjust the significance level as needed\n",
        "\n",
        "    # Step 4: GARCH Modeling for Bootstrapped Residuals\n",
        "    if is_cointegrated_bootstrapped:\n",
        "        # Fit GARCH model to bootstrapped residuals\n",
        "        garch_model = arch_model(bootstrapped_residuals, vol='Garch', p=1, q=1)\n",
        "        garch_result = garch_model.fit(disp='off')\n",
        "\n",
        "        # Step 5: Analyze Volatility Impact\n",
        "        # Extract the last conditional volatility estimate from the GARCH model\n",
        "        last_conditional_volatility = garch_result.conditional_volatility[-1]\n",
        "\n",
        "        # Store the bootstrapped volatility estimate\n",
        "        bootstrap_volatility_estimates.append(last_conditional_volatility)\n"
      ]
    },
    {
      "cell_type": "code",
      "execution_count": null,
      "metadata": {
        "id": "n974GHDQgOKc",
        "colab": {
          "base_uri": "https://localhost:8080/"
        },
        "outputId": "eb142021-35c0-4e10-88c9-3bb98cfdf207"
      },
      "outputs": [
        {
          "output_type": "stream",
          "name": "stdout",
          "text": [
            "Mean Bootstrapped Volatility: 4.972267787546786\n",
            "Standard Deviation of Bootstrapped Volatility: 0.19777936969075777\n"
          ]
        }
      ],
      "source": [
        "\n",
        "# Calculate the mean and standard deviation of the bootstrapped volatility estimates\n",
        "mean_bootstrap_volatility = np.mean(bootstrap_volatility_estimates)\n",
        "std_bootstrap_volatility = np.std(bootstrap_volatility_estimates)\n",
        "\n",
        "# Print the results\n",
        "print(\"Mean Bootstrapped Volatility:\", mean_bootstrap_volatility)\n",
        "print(\"Standard Deviation of Bootstrapped Volatility:\", std_bootstrap_volatility)"
      ]
    },
    {
      "cell_type": "code",
      "source": [
        "\n",
        "# Print the result\n",
        "print(\"Historical Volatility for Tesla:\", np.mean(tsla_vol))\n"
      ],
      "metadata": {
        "colab": {
          "base_uri": "https://localhost:8080/"
        },
        "id": "PAva2Sc31QV1",
        "outputId": "a4a6ae55-134f-489d-99dd-ceb6125c58dc"
      },
      "execution_count": null,
      "outputs": [
        {
          "output_type": "stream",
          "name": "stdout",
          "text": [
            "Historical Volatility for Tesla: 3.412162286493508\n"
          ]
        }
      ]
    },
    {
      "cell_type": "markdown",
      "source": [
        "The mean bootstrapped volatility is higher than historical volatility."
      ],
      "metadata": {
        "id": "GUi1q0y_14pD"
      }
    },
    {
      "cell_type": "code",
      "execution_count": null,
      "metadata": {
        "colab": {
          "base_uri": "https://localhost:8080/"
        },
        "id": "XviuSnyqfyY9",
        "outputId": "fe3b9594-1dfa-4d84-e7fb-e34404f7acd6"
      },
      "outputs": [
        {
          "output_type": "stream",
          "name": "stdout",
          "text": [
            "No significant improvement with cointegration residuals.\n"
          ]
        }
      ],
      "source": [
        "# If Tesla and Meta are cointegrated, analyze the impact on Tesla's volatility\n",
        "if is_cointegrated:\n",
        "    # Calculate the cointegration residuals and other relevant measures\n",
        "    _, beta, _ = coint(tsla_returns, meta_returns)\n",
        "    cointegration_residuals = tsla_returns - beta * meta_returns  # Assuming beta is the cointegration coefficient\n",
        "\n",
        "    # Analyze the impact of cointegration residuals on Tesla's volatility (e.g., compare volatility dynamics)\n",
        "    # For example, you can compare the GARCH volatility forecasts of Tesla with and without the cointegration residuals\n",
        "    garch_model_tesla_coint = arch_model(tsla_returns + cointegration_residuals, vol='Garch', p=1, q=1)\n",
        "    garch_result_tesla_coint = garch_model_tesla_coint.fit(disp='off')\n",
        "\n",
        "    garch_model_tesla = arch_model(tsla_returns, vol='Garch', p=1, q=1)\n",
        "    garch_result_tesla = garch_model_tesla.fit(disp='off')\n",
        "\n",
        "    # Compare the performance of GARCH with and without cointegration residuals (e.g., using AIC, BIC)\n",
        "    if garch_result_tesla_coint.aic < garch_result_tesla.aic:\n",
        "        print(\"Including cointegration residuals improves the GARCH model.\")\n",
        "    else:\n",
        "        print(\"No significant improvement with cointegration residuals.\")\n"
      ]
    },
    {
      "cell_type": "code",
      "source": [
        "from statsmodels.tsa.arima.model import ARIMA\n",
        "\n",
        "# Step 2: Fit the ARIMA model to the cointegrated residuals\n",
        "def fit_arima(residuals):\n",
        "    # Use AIC to determine the optimal order (p, d, q) of the ARIMA model\n",
        "    best_aic = np.inf\n",
        "    best_order = None\n",
        "\n",
        "    for p in range(3):\n",
        "        for d in range(3):\n",
        "            for q in range(3):\n",
        "                try:\n",
        "                    model = ARIMA(residuals, order=(p, d, q))\n",
        "                    results = model.fit()\n",
        "                    aic = results.aic\n",
        "\n",
        "                    if aic < best_aic:\n",
        "                        best_aic = aic\n",
        "                        best_order = (p, d, q)\n",
        "                except:\n",
        "                    continue\n",
        "\n",
        "    # Fit the ARIMA model with the best order\n",
        "    model = ARIMA(residuals, order=best_order)\n",
        "    arima_results = model.fit()\n",
        "\n",
        "    return arima_results"
      ],
      "metadata": {
        "id": "XTxw_AJS2tvr"
      },
      "execution_count": null,
      "outputs": []
    },
    {
      "cell_type": "code",
      "source": [
        "\n",
        "# Step 3: Forecast ARIMA model\n",
        "def forecast_arima(residuals, forecast_horizon):\n",
        "    # Fit the ARIMA model\n",
        "    arima_results = fit_arima(residuals)\n",
        "\n",
        "    # Forecast cointegrated residuals for the forecast horizon\n",
        "    forecasted_residuals = arima_results.forecast(steps=forecast_horizon)\n",
        "\n",
        "    return forecasted_residuals\n",
        "\n",
        "# Step 4: Reconstruct forecasted volatility\n",
        "def reconstruct_forecasted_volatility(tsla_volatility, forecasted_residuals):\n",
        "    cumulative_forecasted_residuals = np.cumsum(forecasted_residuals)\n",
        "    last_observed_volatility = tsla_volatility.iloc[-1]  # Last observed Tesla volatility\n",
        "    forecasted_volatility = last_observed_volatility + cumulative_forecasted_residuals\n",
        "\n",
        "    return forecasted_volatility\n",
        "\n",
        "# Step 5: Compare forecasted volatility with actual volatility\n",
        "def evaluate_forecast(actual_volatility, forecasted_volatility):\n",
        "    mse = mean_squared_error(actual_volatility, forecasted_volatility)\n",
        "    rmse = np.sqrt(mse)\n",
        "    mape = np.mean(np.abs((actual_volatility - forecasted_volatility) / actual_volatility)) * 100\n",
        "\n",
        "    return mse, rmse, mape"
      ],
      "metadata": {
        "id": "32O_Y5Cr4HQ-"
      },
      "execution_count": null,
      "outputs": []
    },
    {
      "cell_type": "code",
      "source": [
        "tsla_volatility = tsla_returns.rolling(window=10).std() * np.sqrt(252)\n",
        "\n",
        "# Drop rows with NaN values caused by the rolling window\n",
        "tsla_volatility = tsla_volatility.dropna()\n",
        "\n",
        "\n",
        "\n",
        "# Assuming you have already calculated and stored the residuals and tsla_volatility\n",
        "# Replace residuals and tsla_volatility with your actual data\n",
        "forecast_horizon = 10  # Define the forecast horizon\n",
        "\n",
        "# Step 2: Forecast ARIMA model\n",
        "forecasted_residuals = forecast_arima(residuals, forecast_horizon)\n",
        "\n",
        "# Step 4: Reconstruct forecasted volatility\n",
        "forecasted_volatility = reconstruct_forecasted_volatility(tsla_volatility, forecasted_residuals)\n",
        "\n",
        "# Step 5: Compare forecasted volatility with actual volatility\n",
        "actual_volatility = tsla_volatility[-forecast_horizon:]  # Actual Tesla volatility for the forecast horizon\n",
        "\n",
        "# Calculate evaluation metrics\n",
        "mse, rmse, mape = evaluate_forecast(actual_volatility, forecasted_volatility)"
      ],
      "metadata": {
        "colab": {
          "base_uri": "https://localhost:8080/"
        },
        "id": "RY1zJIj_4J2O",
        "outputId": "fc3b4c84-be7a-43f3-a938-994408c290ee"
      },
      "execution_count": null,
      "outputs": [
        {
          "output_type": "stream",
          "name": "stderr",
          "text": [
            "/usr/local/lib/python3.10/dist-packages/statsmodels/tsa/statespace/sarimax.py:978: UserWarning: Non-invertible starting MA parameters found. Using zeros as starting parameters.\n",
            "  warn('Non-invertible starting MA parameters found.'\n",
            "/usr/local/lib/python3.10/dist-packages/statsmodels/base/model.py:604: ConvergenceWarning: Maximum Likelihood optimization failed to converge. Check mle_retvals\n",
            "  warnings.warn(\"Maximum Likelihood optimization failed to \"\n"
          ]
        }
      ]
    },
    {
      "cell_type": "code",
      "source": [
        "print(\"Forecasted Volatility:\", forecasted_volatility)\n",
        "print(\"Actual Volatility:\", actual_volatility)\n",
        "print(\"Mean Squared Error (MSE) of Volatility Forecast:\", mse)\n",
        "print(\"Root Mean Squared Error (RMSE) of Volatility Forecast:\", rmse)\n",
        "print(\"Mean Absolute Percentage Error (MAPE) of Volatility Forecast:\", mape)"
      ],
      "metadata": {
        "colab": {
          "base_uri": "https://localhost:8080/"
        },
        "id": "GRZ6R44g4Qe2",
        "outputId": "eda3cb40-e670-470b-b6e9-06ccca939ede"
      },
      "execution_count": null,
      "outputs": [
        {
          "output_type": "stream",
          "name": "stdout",
          "text": [
            "Forecasted Volatility: [60.2290925  60.85178304 60.85498946 60.85819587 60.86140229 60.8646087\n",
            " 60.86781511 60.87102153 60.87422794 60.87743436]\n",
            "Actual Volatility: Date\n",
            "2023-06-23    53.083005\n",
            "2023-06-26    60.248541\n",
            "2023-06-27    62.413371\n",
            "2023-06-28    60.877814\n",
            "2023-06-29    60.788178\n",
            "2023-06-30    61.212655\n",
            "2023-07-03    69.498228\n",
            "2023-07-05    64.812137\n",
            "2023-07-06    58.215429\n",
            "2023-07-07    58.151635\n",
            "Name: Adj Close, dtype: float64\n",
            "Mean Squared Error (MSE) of Volatility Forecast: 15.85015235332952\n",
            "Root Mean Squared Error (RMSE) of Volatility Forecast: 3.9812249815012364\n",
            "Mean Absolute Percentage Error (MAPE) of Volatility Forecast: 4.5435076154793075\n"
          ]
        }
      ]
    },
    {
      "cell_type": "code",
      "source": [
        "observed_range = np.max(tsla_volatility) - np.min(tsla_volatility)\n",
        "\n",
        "# Calculate the percentage-based metric\n",
        "percentage_accuracy = 100 * (1 - (rmse / observed_range))\n",
        "\n",
        "print(\"Percentage Accuracy:\", percentage_accuracy)"
      ],
      "metadata": {
        "colab": {
          "base_uri": "https://localhost:8080/"
        },
        "id": "t2iHC7sp54VL",
        "outputId": "8dc2d9a8-40ca-47aa-c0c7-b96beaff547d"
      },
      "execution_count": null,
      "outputs": [
        {
          "output_type": "stream",
          "name": "stdout",
          "text": [
            "Percentage Accuracy: 97.85013998863673\n"
          ]
        }
      ]
    },
    {
      "cell_type": "markdown",
      "metadata": {
        "id": "CS_KzcS1Ekx6"
      },
      "source": [
        "###part4: backtest and optimize"
      ]
    },
    {
      "cell_type": "code",
      "execution_count": null,
      "metadata": {
        "id": "_yapqQ3Wg2nK"
      },
      "outputs": [],
      "source": [
        "import matplotlib.pyplot as plt\n",
        "\n",
        "# Create visualizations to display the LSTM price return forecasts, GARCH volatility forecasts,\n",
        "# and the comparison of volatilities for Tesla\n",
        "# ...\n",
        "\n",
        "# For example, you can plot the GARCH volatility forecasts\n",
        "plt.figure(figsize=(10, 6))\n",
        "plt.plot(tesla_returns_garch.index, garch_volatility_tesla, label='GARCH Volatility Forecast', color='blue')\n",
        "plt.xlabel('Date')\n",
        "plt.ylabel('Volatility')\n",
        "plt.title('GARCH Volatility Forecast for Tesla')\n",
        "plt.legend()\n",
        "plt.grid(True)\n",
        "plt.show()\n",
        "\n",
        "# Your code snippets for visualizations and interpretations go here\n"
      ]
    },
    {
      "cell_type": "code",
      "execution_count": null,
      "metadata": {
        "id": "hD3TjwK8fzvU"
      },
      "outputs": [],
      "source": [
        "# Evaluate the performance of the GARCH model using appropriate metrics\n",
        "# You can use garch_result_tesla to access various diagnostic metrics\n",
        "\n",
        "# For example, to get the residuals and standardized residuals:\n",
        "garch_resid_tesla = garch_result_tesla.resid\n",
        "garch_std_resid_tesla = garch_result_tesla.std_resid\n",
        "\n",
        "# Your code snippets for model evaluation and diagnostic checks go here\n"
      ]
    },
    {
      "cell_type": "code",
      "execution_count": null,
      "metadata": {
        "id": "Ux1HWG1hf1IU"
      },
      "outputs": [],
      "source": [
        "# Experiment with different hyperparameters for the GARCH model\n",
        "# You can try different values of 'p' and 'q' for the GARCH model to optimize its performance\n",
        "# For example, you can use a loop to try different combinations of 'p' and 'q'\n",
        "\n",
        "best_aic = float(\"inf\")\n",
        "best_garch_model = None\n",
        "\n",
        "for p in range(3):\n",
        "    for q in range(3):\n",
        "        try:\n",
        "            garch_model_tesla = arch_model(tesla_returns_garch, vol='Garch', p=p, q=q)\n",
        "            garch_result_tesla = garch_model_tesla.fit()\n",
        "            if garch_result_tesla.aic < best_aic:\n",
        "                best_aic = garch_result_tesla.aic\n",
        "                best_garch_model = garch_result_tesla\n",
        "        except:\n",
        "            continue\n",
        "\n",
        "# The best GARCH model is stored in best_garch_model\n",
        "# ...\n",
        "\n",
        "# Your code snippets for model optimization and fine-tuning go here\n"
      ]
    },
    {
      "cell_type": "code",
      "execution_count": null,
      "metadata": {
        "id": "k1g1_CGbf2X8"
      },
      "outputs": [],
      "source": [
        "# Create visualizations to display the LSTM price return forecasts, GARCH volatility forecasts,\n",
        "# and the comparison of volatilities for Tesla\n",
        "# ...\n",
        "\n",
        "# Your code snippets for visualizations and interpretations go here\n"
      ]
    },
    {
      "cell_type": "code",
      "execution_count": null,
      "metadata": {
        "id": "qY_FDlS8cZhv"
      },
      "outputs": [],
      "source": [
        "# Implement GARCH, ARIMA, and LSTM models (similar to Project 2)\n",
        "# ...\n",
        "\n",
        "# Assuming you already have GARCH, ARIMA, and LSTM models implemented for Tesla\n",
        "# ...\n",
        "\n",
        "# Split the data into pre-Musk ownership and post-Musk ownership periods (if applicable)\n",
        "# ...\n",
        "\n",
        "# Estimate volatilities for Tesla using GARCH, ARIMA, and LSTM models\n",
        "# ...\n",
        "\n",
        "# Your code snippets from Project 2 for volatility estimation (GARCH, ARIMA, and LSTM) for Tesla go here"
      ]
    },
    {
      "cell_type": "code",
      "execution_count": null,
      "metadata": {
        "id": "CWTFiQLacaw_"
      },
      "outputs": [],
      "source": [
        "# Compare the estimated volatilities for Tesla in the pre-Musk and post-Musk ownership periods\n",
        "# ...\n",
        "\n",
        "# Your code snippets from Project 2 for volatility comparison go here\n"
      ]
    },
    {
      "cell_type": "code",
      "execution_count": null,
      "metadata": {
        "id": "GphKe8fHcb8_"
      },
      "outputs": [],
      "source": [
        "# If Tesla and Meta are cointegrated, analyze the impact on Tesla's volatility\n",
        "if is_cointegrated:\n",
        "    # Calculate the cointegration residuals and other relevant measures\n",
        "    # ...\n",
        "\n",
        "    # Your code for analyzing the impact of cointegration on Tesla's volatility goes here\n",
        "    # For example, you could compare volatility dynamics in cointegrated periods vs. non-cointegrated periods.\n"
      ]
    },
    {
      "cell_type": "code",
      "execution_count": null,
      "metadata": {
        "id": "JnYXy_MJcdX3"
      },
      "outputs": [],
      "source": [
        "# Evaluate the performance of each model using appropriate metrics\n",
        "# ...\n",
        "\n",
        "# Your code snippets from Project 2 for model evaluation and diagnostic checks go here\n"
      ]
    },
    {
      "cell_type": "code",
      "execution_count": null,
      "metadata": {
        "id": "UhQQsOtXcedn"
      },
      "outputs": [],
      "source": [
        "# Experiment with different hyperparameters for GARCH, ARIMA, and LSTM models\n",
        "# ...\n",
        "\n",
        "# Your code snippets from Project 2 for model optimization and fine-tuning go here\n"
      ]
    },
    {
      "cell_type": "code",
      "execution_count": null,
      "metadata": {
        "id": "QHULtq4XcfaO"
      },
      "outputs": [],
      "source": [
        "# Create visualizations to display the volatility forecasts and the comparison of volatilities for Tesla\n",
        "# ...\n",
        "\n",
        "# Your code snippets from Project 2 for visualizations and interpretations go here\n"
      ]
    },
    {
      "cell_type": "markdown",
      "metadata": {
        "id": "xqA6_whEJldr"
      },
      "source": [
        "time series analysis"
      ]
    },
    {
      "cell_type": "code",
      "execution_count": null,
      "metadata": {
        "colab": {
          "base_uri": "https://localhost:8080/"
        },
        "id": "Qn54KVGZj_Q6",
        "outputId": "503117af-ff7c-46ac-e784-d03405dd2e0e"
      },
      "outputs": [
        {
          "name": "stdout",
          "output_type": "stream",
          "text": [
            "Collecting arch\n",
            "  Downloading arch-6.1.0-cp310-cp310-manylinux_2_17_x86_64.manylinux2014_x86_64.whl (916 kB)\n",
            "\u001b[2K     \u001b[90m━━━━━━━━━━━━━━━━━━━━━━━━━━━━━━━━━━━━━━━\u001b[0m \u001b[32m916.4/916.4 kB\u001b[0m \u001b[31m6.7 MB/s\u001b[0m eta \u001b[36m0:00:00\u001b[0m\n",
            "\u001b[?25hRequirement already satisfied: numpy>=1.19 in /usr/local/lib/python3.10/dist-packages (from arch) (1.22.4)\n",
            "Requirement already satisfied: scipy>=1.5 in /usr/local/lib/python3.10/dist-packages (from arch) (1.10.1)\n",
            "Requirement already satisfied: pandas>=1.1 in /usr/local/lib/python3.10/dist-packages (from arch) (1.5.3)\n",
            "Requirement already satisfied: statsmodels>=0.12 in /usr/local/lib/python3.10/dist-packages (from arch) (0.13.5)\n",
            "Requirement already satisfied: python-dateutil>=2.8.1 in /usr/local/lib/python3.10/dist-packages (from pandas>=1.1->arch) (2.8.2)\n",
            "Requirement already satisfied: pytz>=2020.1 in /usr/local/lib/python3.10/dist-packages (from pandas>=1.1->arch) (2022.7.1)\n",
            "Requirement already satisfied: patsy>=0.5.2 in /usr/local/lib/python3.10/dist-packages (from statsmodels>=0.12->arch) (0.5.3)\n",
            "Requirement already satisfied: packaging>=21.3 in /usr/local/lib/python3.10/dist-packages (from statsmodels>=0.12->arch) (23.1)\n",
            "Requirement already satisfied: six in /usr/local/lib/python3.10/dist-packages (from patsy>=0.5.2->statsmodels>=0.12->arch) (1.16.0)\n",
            "Installing collected packages: arch\n",
            "Successfully installed arch-6.1.0\n"
          ]
        }
      ],
      "source": [
        "!pip install arch\n",
        "\n",
        "from arch import arch_model"
      ]
    },
    {
      "cell_type": "code",
      "execution_count": null,
      "metadata": {
        "id": "42mYOgOTot5I"
      },
      "outputs": [],
      "source": [
        "\n",
        "def garch_table(p, q, o, m, d, v, ret):\n",
        "  aic_val = 99999999999\n",
        "  best_p = 0\n",
        "  best_q = 0\n",
        "  best_o = 0\n",
        "  best_s = \"asdf\"\n",
        "  best_t = \"asdff\"\n",
        "  best_v = \"asdfff\"\n",
        "\n",
        "  for i in range(1, p+1):\n",
        "    for j in range(1, q+1):\n",
        "      for k in range(0, o+1):\n",
        "        for mean in m:\n",
        "          for dist in d:\n",
        "            for vol in v:\n",
        "              model = arch_model(ret, mean=mean, vol=vol, dist=dist, p=i, q=j, o = k)\n",
        "              model_fit = model.fit(disp=\"off\")\n",
        "\n",
        "              if model_fit.aic < aic_val:\n",
        "                aic_val = model_fit.aic\n",
        "                best_p = i\n",
        "                best_q = j\n",
        "                best_o = k\n",
        "                best_s = mean\n",
        "                best_t = dist\n",
        "                best_v = vol\n",
        "              else:\n",
        "                break\n",
        "\n",
        "\n",
        "  return aic_val, best_p, best_q, best_o, best_s, best_t, best_v\n",
        "\n",
        "\n"
      ]
    },
    {
      "cell_type": "code",
      "execution_count": null,
      "metadata": {
        "id": "pvEkOqe-2_3h"
      },
      "outputs": [],
      "source": [
        "means = ['Constant', 'Zero', 'AR']\n",
        "dist = ['normal','t','skewt']\n",
        "vol = ['GARCH', 'EGARCH']\n",
        "\n",
        "tsla_params = garch_table(3, 3, 3, means, dist, vol, tsla_returns)\n",
        "#tsla_pre_params = garch_table(3, 3, 3, means, dist, vol, tsla_pretwt_returns)\n",
        "#tsla_post_params = garch_table(3, 3, 3, means, dist, vol, tsla_twt_returns)\n",
        "\n",
        "#amzn_params = garch_table(3, 3, 3, means, dist, vol, amzn_returns)\n",
        "#aapl_params = garch_table(3, 3, 3, means, dist, vol, aapl_returns)\n",
        "#nflx_params = garch_table(3, 3, 3, means, dist, vol, nflx_returns)\n",
        "#meta_params = garch_table(3, 3, 3, means, dist, vol, meta_returns)\n",
        "#goog_params = garch_table(3, 3, 3, means, dist, vol, goog_returns)\n",
        "\n",
        "#rivn_params = garch_table(3, 3, 3, means, dist, vol, rivn_returns)\n",
        "#nio_params = garch_table(3, 3, 3, means, dist, vol, nio_returns)\n",
        "#lcid_params = garch_table(3, 3, 3, means, dist, vol, lcid_returns)\n",
        "#f_params = garch_table(3, 3, 3, means, dist, vol, f_returns)\n",
        "#muln_params = garch_table(3, 3, 3, means, dist, vol, muln_returns)"
      ]
    },
    {
      "cell_type": "code",
      "execution_count": null,
      "metadata": {
        "colab": {
          "base_uri": "https://localhost:8080/"
        },
        "id": "rPhqVzPD11Qq",
        "outputId": "4e1818ac-5ef8-4d3f-c387-59ca4774526a"
      },
      "outputs": [
        {
          "name": "stdout",
          "output_type": "stream",
          "text": [
            "(7468.863253098465, 1, 1, 0, 'Constant', 't', 'EGARCH')\n"
          ]
        }
      ],
      "source": [
        "print(tsla_params)\n",
        "#print(tsla_pre_params)\n",
        "#print(tsla_post_params)"
      ]
    },
    {
      "cell_type": "code",
      "execution_count": null,
      "metadata": {
        "colab": {
          "base_uri": "https://localhost:8080/",
          "height": 488
        },
        "id": "-vtlOE0D2AJ7",
        "outputId": "fa830ff8-c4b5-4422-cffd-0394948eb7b5"
      },
      "outputs": [
        {
          "data": {
            "text/html": [
              "<table class=\"simpletable\">\n",
              "<caption>Constant Mean - EGARCH Model Results</caption>\n",
              "<tr>\n",
              "  <th>Dep. Variable:</th>         <td>Adj Close</td>        <th>  R-squared:         </th>  <td>   0.000</td> \n",
              "</tr>\n",
              "<tr>\n",
              "  <th>Mean Model:</th>          <td>Constant Mean</td>      <th>  Adj. R-squared:    </th>  <td>   0.000</td> \n",
              "</tr>\n",
              "<tr>\n",
              "  <th>Vol Model:</th>              <td>EGARCH</td>          <th>  Log-Likelihood:    </th> <td>  -3729.43</td>\n",
              "</tr>\n",
              "<tr>\n",
              "  <th>Distribution:</th>  <td>Standardized Student's t</td> <th>  AIC:               </th> <td>   7468.86</td>\n",
              "</tr>\n",
              "<tr>\n",
              "  <th>Method:</th>           <td>Maximum Likelihood</td>    <th>  BIC:               </th> <td>   7494.96</td>\n",
              "</tr>\n",
              "<tr>\n",
              "  <th></th>                           <td></td>             <th>  No. Observations:  </th>    <td>1365</td>   \n",
              "</tr>\n",
              "<tr>\n",
              "  <th>Date:</th>              <td>Mon, Jul 17 2023</td>     <th>  Df Residuals:      </th>    <td>1364</td>   \n",
              "</tr>\n",
              "<tr>\n",
              "  <th>Time:</th>                  <td>12:30:25</td>         <th>  Df Model:          </th>      <td>1</td>    \n",
              "</tr>\n",
              "</table>\n",
              "<table class=\"simpletable\">\n",
              "<caption>Mean Model</caption>\n",
              "<tr>\n",
              "   <td></td>     <th>coef</th>     <th>std err</th>      <th>t</th>       <th>P>|t|</th>    <th>95.0% Conf. Int.</th>  \n",
              "</tr>\n",
              "<tr>\n",
              "  <th>mu</th> <td>    0.2442</td> <td>8.501e-02</td> <td>    2.873</td> <td>4.066e-03</td> <td>[7.761e-02,  0.411]</td>\n",
              "</tr>\n",
              "</table>\n",
              "<table class=\"simpletable\">\n",
              "<caption>Volatility Model</caption>\n",
              "<tr>\n",
              "      <td></td>        <th>coef</th>     <th>std err</th>      <th>t</th>       <th>P>|t|</th>    <th>95.0% Conf. Int.</th>  \n",
              "</tr>\n",
              "<tr>\n",
              "  <th>omega</th>    <td>    0.0801</td> <td>3.971e-02</td> <td>    2.017</td> <td>4.366e-02</td> <td>[2.278e-03,  0.158]</td>\n",
              "</tr>\n",
              "<tr>\n",
              "  <th>alpha[1]</th> <td>    0.1594</td> <td>4.065e-02</td> <td>    3.922</td> <td>8.777e-05</td> <td>[7.976e-02,  0.239]</td>\n",
              "</tr>\n",
              "<tr>\n",
              "  <th>beta[1]</th>  <td>    0.9768</td> <td>1.290e-02</td> <td>   75.702</td>   <td>0.000</td>    <td>[  0.952,  1.002]</td> \n",
              "</tr>\n",
              "</table>\n",
              "<table class=\"simpletable\">\n",
              "<caption>Distribution</caption>\n",
              "<tr>\n",
              "   <td></td>     <th>coef</th>     <th>std err</th>      <th>t</th>       <th>P>|t|</th>   <th>95.0% Conf. Int.</th> \n",
              "</tr>\n",
              "<tr>\n",
              "  <th>nu</th> <td>    4.0321</td> <td>    0.452</td> <td>    8.918</td> <td>4.733e-19</td> <td>[  3.146,  4.918]</td>\n",
              "</tr>\n",
              "</table><br/><br/>Covariance estimator: robust"
            ],
            "text/plain": [
              "<class 'statsmodels.iolib.summary.Summary'>\n",
              "\"\"\"\n",
              "                        Constant Mean - EGARCH Model Results                        \n",
              "====================================================================================\n",
              "Dep. Variable:                    Adj Close   R-squared:                       0.000\n",
              "Mean Model:                   Constant Mean   Adj. R-squared:                  0.000\n",
              "Vol Model:                           EGARCH   Log-Likelihood:               -3729.43\n",
              "Distribution:      Standardized Student's t   AIC:                           7468.86\n",
              "Method:                  Maximum Likelihood   BIC:                           7494.96\n",
              "                                              No. Observations:                 1365\n",
              "Date:                      Mon, Jul 17 2023   Df Residuals:                     1364\n",
              "Time:                              12:30:25   Df Model:                            1\n",
              "                                Mean Model                                \n",
              "==========================================================================\n",
              "                 coef    std err          t      P>|t|    95.0% Conf. Int.\n",
              "--------------------------------------------------------------------------\n",
              "mu             0.2442  8.501e-02      2.873  4.066e-03 [7.761e-02,  0.411]\n",
              "                             Volatility Model                             \n",
              "==========================================================================\n",
              "                 coef    std err          t      P>|t|    95.0% Conf. Int.\n",
              "--------------------------------------------------------------------------\n",
              "omega          0.0801  3.971e-02      2.017  4.366e-02 [2.278e-03,  0.158]\n",
              "alpha[1]       0.1594  4.065e-02      3.922  8.777e-05 [7.976e-02,  0.239]\n",
              "beta[1]        0.9768  1.290e-02     75.702      0.000   [  0.952,  1.002]\n",
              "                              Distribution                              \n",
              "========================================================================\n",
              "                 coef    std err          t      P>|t|  95.0% Conf. Int.\n",
              "------------------------------------------------------------------------\n",
              "nu             4.0321      0.452      8.918  4.733e-19 [  3.146,  4.918]\n",
              "========================================================================\n",
              "\n",
              "Covariance estimator: robust\n",
              "\"\"\""
            ]
          },
          "execution_count": 12,
          "metadata": {},
          "output_type": "execute_result"
        }
      ],
      "source": [
        "tsla_fin_model = arch_model(tsla_returns, mean='Constant', vol='EGARCH', dist='t', p=1, q=1)\n",
        "model_fit = tsla_fin_model.fit(disp=\"off\")\n",
        "model_fit.summary()"
      ]
    },
    {
      "cell_type": "code",
      "execution_count": null,
      "metadata": {
        "colab": {
          "base_uri": "https://localhost:8080/",
          "height": 448
        },
        "id": "Y0Z4aBaq6GSk",
        "outputId": "80ad6793-248a-464d-ed5f-d95d254d7720"
      },
      "outputs": [
        {
          "name": "stdout",
          "output_type": "stream",
          "text": [
            "-0.5879537570344912\n"
          ]
        },
        {
          "data": {
            "image/png": "[encoded data removed]",
            "text/plain": [
              "<Figure size 640x480 with 1 Axes>"
            ]
          },
          "metadata": {},
          "output_type": "display_data"
        }
      ],
      "source": [
        "condvol = model_fit.conditional_volatility\n",
        "#long run average variance per day\n",
        "lravd = model_fit.params['omega'] / (1-model_fit.params['alpha[1]']-model_fit.params['beta[1]'])\n",
        "plt.plot(condvol)\n",
        "print(lravd)"
      ]
    },
    {
      "cell_type": "markdown",
      "metadata": {
        "id": "nJlDIwe03se_"
      },
      "source": [
        "variance is negative -> something is off. let's try arima-garch model.\n",
        "idea: training = pre-twitter, test = post-tesla BUT THIS IS FOR FORECAST ONLY"
      ]
    },
    {
      "cell_type": "code",
      "execution_count": null,
      "metadata": {
        "id": "LWF9uAO03x0X"
      },
      "outputs": [],
      "source": [
        "from statsmodels.tsa.arima.model import ARIMA\n",
        "from statsmodels.tsa.arima_model import ARMAResults\n",
        "\n",
        "#tsla_twt_returns is test\n",
        "#tsla_pretwt_returns is train\n",
        "tsla_returns.index = pd.DatetimeIndex(tsla_returns.index).to_period('D')\n",
        "\n",
        "# evaluate combinations of p, d and q values for an ARIMA model\n",
        "def evaluate_models(dataset, p_val, d_val, q_val):\n",
        "    aic_val = 99999999\n",
        "    best_p = -1\n",
        "    best_d = -1\n",
        "    best_q = -1\n",
        "    for p in range(0, p_val+1):\n",
        "        for d in range(0, d_val+1):\n",
        "            for q in range(0, d_val+1):\n",
        "                model = ARIMA(dataset, order = (p, d, q))\n",
        "                model_fit = model.fit()\n",
        "\n",
        "                if model_fit.aic < aic_val:\n",
        "                  aic_val = model_fit.aic\n",
        "                  best_p = p\n",
        "                  best_d = d\n",
        "                  best_q = q\n",
        "                else:\n",
        "                  break\n",
        "    return aic_val, best_p, best_d, best_q\n"
      ]
    },
    {
      "cell_type": "markdown",
      "metadata": {
        "id": "uk5GeGHe3GCT"
      },
      "source": [
        "ljung box pierce q test"
      ]
    },
    {
      "cell_type": "code",
      "execution_count": null,
      "metadata": {
        "colab": {
          "base_uri": "https://localhost:8080/"
        },
        "id": "-gUzR6TJsWTT",
        "outputId": "1c7d1a2c-080d-487f-8f9a-4c00bc3d7162"
      },
      "outputs": [
        {
          "name": "stdout",
          "output_type": "stream",
          "text": [
            "(7741.784350458539, 0, 0, 0)\n"
          ]
        }
      ],
      "source": [
        "param = evaluate_models(tsla_returns, 5, 5, 5)\n",
        "print(param)"
      ]
    },
    {
      "cell_type": "code",
      "execution_count": null,
      "metadata": {
        "colab": {
          "base_uri": "https://localhost:8080/"
        },
        "id": "DXbva3Ct7l4C",
        "outputId": "a66b454a-8774-464c-d0c9-68a7fc417769"
      },
      "outputs": [
        {
          "name": "stdout",
          "output_type": "stream",
          "text": [
            "\r[*********************100%***********************]  1 of 1 completed\n"
          ]
        },
        {
          "name": "stderr",
          "output_type": "stream",
          "text": [
            "/usr/local/lib/python3.10/dist-packages/statsmodels/base/model.py:604: ConvergenceWarning: Maximum Likelihood optimization failed to converge. Check mle_retvals\n",
            "  warnings.warn(\"Maximum Likelihood optimization failed to \"\n",
            "/usr/local/lib/python3.10/dist-packages/statsmodels/base/model.py:604: ConvergenceWarning: Maximum Likelihood optimization failed to converge. Check mle_retvals\n",
            "  warnings.warn(\"Maximum Likelihood optimization failed to \"\n",
            "/usr/local/lib/python3.10/dist-packages/statsmodels/base/model.py:604: ConvergenceWarning: Maximum Likelihood optimization failed to converge. Check mle_retvals\n",
            "  warnings.warn(\"Maximum Likelihood optimization failed to \"\n"
          ]
        },
        {
          "name": "stdout",
          "output_type": "stream",
          "text": [
            "(-4833.886826495635, 0, 0, 0)\n",
            "(7738.227721788271, 0, 0, 0)\n"
          ]
        }
      ],
      "source": [
        "tick = pdr.DataReader('TSLA',  start=datetime.datetime(2018, 2, 1),\n",
        "                          end=datetime.datetime(2023, 7, 8))\n",
        "log_returns = (np.log(tick['Adj Close']) - np.log(tick['Adj Close'].shift(1))).dropna()\n",
        "log_returns.index = pd.DatetimeIndex(log_returns.index).to_period('D')\n",
        "\n",
        "param2 = evaluate_models(log_returns, 5, 5, 5)\n",
        "param3 = evaluate_models(100*log_returns, 5, 5, 5)\n",
        "print(param2)\n",
        "print(param3)"
      ]
    },
    {
      "cell_type": "code",
      "execution_count": null,
      "metadata": {
        "colab": {
          "base_uri": "https://localhost:8080/"
        },
        "id": "PtX3l0y18p2A",
        "outputId": "20da59d3-a19f-430f-de49-a094381108e0"
      },
      "outputs": [
        {
          "name": "stdout",
          "output_type": "stream",
          "text": [
            "                               SARIMAX Results                                \n",
            "==============================================================================\n",
            "Dep. Variable:              Adj Close   No. Observations:                 1365\n",
            "Model:                          ARIMA   Log Likelihood               -3868.892\n",
            "Date:                Mon, 17 Jul 2023   AIC                           7741.784\n",
            "Time:                        13:04:08   BIC                           7752.222\n",
            "Sample:                    02-02-2018   HQIC                          7745.691\n",
            "                         - 07-07-2023                                         \n",
            "Covariance Type:                  opg                                         \n",
            "==============================================================================\n",
            "                 coef    std err          z      P>|z|      [0.025      0.975]\n",
            "------------------------------------------------------------------------------\n",
            "const          0.2655      0.112      2.376      0.018       0.046       0.485\n",
            "sigma2        16.9595      0.400     42.394      0.000      16.175      17.744\n",
            "===================================================================================\n",
            "Ljung-Box (L1) (Q):                   0.48   Jarque-Bera (JB):               622.81\n",
            "Prob(Q):                              0.49   Prob(JB):                         0.00\n",
            "Heteroskedasticity (H):               1.29   Skew:                             0.16\n",
            "Prob(H) (two-sided):                  0.01   Kurtosis:                         6.29\n",
            "===================================================================================\n",
            "\n",
            "Warnings:\n",
            "[1] Covariance matrix calculated using the outer product of gradients (complex-step).\n"
          ]
        }
      ],
      "source": [
        "arima_tsla = ARIMA(tsla_returns, order=(0,0,0))\n",
        "at_fit = arima_tsla.fit()\n",
        "# summary of fit model\n",
        "print(at_fit.summary())\n",
        "# line plot of residuals\n",
        "residuals = pd.DataFrame(at_fit.resid)"
      ]
    },
    {
      "cell_type": "code",
      "execution_count": null,
      "metadata": {
        "colab": {
          "base_uri": "https://localhost:8080/"
        },
        "id": "UOGMVp1x8-x7",
        "outputId": "cfeb5af7-189d-4933-8eab-255491ae8781"
      },
      "outputs": [
        {
          "name": "stdout",
          "output_type": "stream",
          "text": [
            "(7468.8632531042995, 1, 1, 0, 'Constant', 't', 'EGARCH')\n"
          ]
        }
      ],
      "source": [
        "means = ['Constant', 'Zero', 'AR']\n",
        "dist = ['normal','t','skewt']\n",
        "vol = ['GARCH', 'EGARCH']\n",
        "\n",
        "ag_params = garch_table(3, 3, 3, means, dist, vol, residuals)\n",
        "print(ag_params)"
      ]
    },
    {
      "cell_type": "code",
      "execution_count": null,
      "metadata": {
        "colab": {
          "base_uri": "https://localhost:8080/",
          "height": 488
        },
        "id": "wJiN0miA9Zeb",
        "outputId": "af322ed2-8bf4-42e7-9832-b820114fca8f"
      },
      "outputs": [
        {
          "data": {
            "text/html": [
              "<table class=\"simpletable\">\n",
              "<caption>Constant Mean - EGARCH Model Results</caption>\n",
              "<tr>\n",
              "  <th>Dep. Variable:</th>             <td>0</td>            <th>  R-squared:         </th>  <td>   0.000</td> \n",
              "</tr>\n",
              "<tr>\n",
              "  <th>Mean Model:</th>          <td>Constant Mean</td>      <th>  Adj. R-squared:    </th>  <td>   0.000</td> \n",
              "</tr>\n",
              "<tr>\n",
              "  <th>Vol Model:</th>              <td>EGARCH</td>          <th>  Log-Likelihood:    </th> <td>  -3729.43</td>\n",
              "</tr>\n",
              "<tr>\n",
              "  <th>Distribution:</th>  <td>Standardized Student's t</td> <th>  AIC:               </th> <td>   7468.86</td>\n",
              "</tr>\n",
              "<tr>\n",
              "  <th>Method:</th>           <td>Maximum Likelihood</td>    <th>  BIC:               </th> <td>   7494.96</td>\n",
              "</tr>\n",
              "<tr>\n",
              "  <th></th>                           <td></td>             <th>  No. Observations:  </th>    <td>1365</td>   \n",
              "</tr>\n",
              "<tr>\n",
              "  <th>Date:</th>              <td>Mon, Jul 17 2023</td>     <th>  Df Residuals:      </th>    <td>1364</td>   \n",
              "</tr>\n",
              "<tr>\n",
              "  <th>Time:</th>                  <td>13:07:24</td>         <th>  Df Model:          </th>      <td>1</td>    \n",
              "</tr>\n",
              "</table>\n",
              "<table class=\"simpletable\">\n",
              "<caption>Mean Model</caption>\n",
              "<tr>\n",
              "   <td></td>     <th>coef</th>     <th>std err</th>      <th>t</th>       <th>P>|t|</th>   <th>95.0% Conf. Int.</th> \n",
              "</tr>\n",
              "<tr>\n",
              "  <th>mu</th> <td>   -0.0213</td> <td>8.501e-02</td> <td>   -0.250</td> <td>    0.802</td> <td>[ -0.188,  0.145]</td>\n",
              "</tr>\n",
              "</table>\n",
              "<table class=\"simpletable\">\n",
              "<caption>Volatility Model</caption>\n",
              "<tr>\n",
              "      <td></td>        <th>coef</th>     <th>std err</th>      <th>t</th>       <th>P>|t|</th>    <th>95.0% Conf. Int.</th>  \n",
              "</tr>\n",
              "<tr>\n",
              "  <th>omega</th>    <td>    0.0801</td> <td>3.971e-02</td> <td>    2.017</td> <td>4.366e-02</td> <td>[2.278e-03,  0.158]</td>\n",
              "</tr>\n",
              "<tr>\n",
              "  <th>alpha[1]</th> <td>    0.1594</td> <td>4.065e-02</td> <td>    3.922</td> <td>8.777e-05</td> <td>[7.976e-02,  0.239]</td>\n",
              "</tr>\n",
              "<tr>\n",
              "  <th>beta[1]</th>  <td>    0.9768</td> <td>1.290e-02</td> <td>   75.702</td>   <td>0.000</td>    <td>[  0.952,  1.002]</td> \n",
              "</tr>\n",
              "</table>\n",
              "<table class=\"simpletable\">\n",
              "<caption>Distribution</caption>\n",
              "<tr>\n",
              "   <td></td>     <th>coef</th>     <th>std err</th>      <th>t</th>       <th>P>|t|</th>   <th>95.0% Conf. Int.</th> \n",
              "</tr>\n",
              "<tr>\n",
              "  <th>nu</th> <td>    4.0321</td> <td>    0.452</td> <td>    8.918</td> <td>4.733e-19</td> <td>[  3.146,  4.918]</td>\n",
              "</tr>\n",
              "</table><br/><br/>Covariance estimator: robust"
            ],
            "text/plain": [
              "<class 'statsmodels.iolib.summary.Summary'>\n",
              "\"\"\"\n",
              "                        Constant Mean - EGARCH Model Results                        \n",
              "====================================================================================\n",
              "Dep. Variable:                            0   R-squared:                       0.000\n",
              "Mean Model:                   Constant Mean   Adj. R-squared:                  0.000\n",
              "Vol Model:                           EGARCH   Log-Likelihood:               -3729.43\n",
              "Distribution:      Standardized Student's t   AIC:                           7468.86\n",
              "Method:                  Maximum Likelihood   BIC:                           7494.96\n",
              "                                              No. Observations:                 1365\n",
              "Date:                      Mon, Jul 17 2023   Df Residuals:                     1364\n",
              "Time:                              13:07:24   Df Model:                            1\n",
              "                               Mean Model                               \n",
              "========================================================================\n",
              "                 coef    std err          t      P>|t|  95.0% Conf. Int.\n",
              "------------------------------------------------------------------------\n",
              "mu            -0.0213  8.501e-02     -0.250      0.802 [ -0.188,  0.145]\n",
              "                             Volatility Model                             \n",
              "==========================================================================\n",
              "                 coef    std err          t      P>|t|    95.0% Conf. Int.\n",
              "--------------------------------------------------------------------------\n",
              "omega          0.0801  3.971e-02      2.017  4.366e-02 [2.278e-03,  0.158]\n",
              "alpha[1]       0.1594  4.065e-02      3.922  8.777e-05 [7.976e-02,  0.239]\n",
              "beta[1]        0.9768  1.290e-02     75.702      0.000   [  0.952,  1.002]\n",
              "                              Distribution                              \n",
              "========================================================================\n",
              "                 coef    std err          t      P>|t|  95.0% Conf. Int.\n",
              "------------------------------------------------------------------------\n",
              "nu             4.0321      0.452      8.918  4.733e-19 [  3.146,  4.918]\n",
              "========================================================================\n",
              "\n",
              "Covariance estimator: robust\n",
              "\"\"\""
            ]
          },
          "execution_count": 27,
          "metadata": {},
          "output_type": "execute_result"
        }
      ],
      "source": [
        "ag_model = arch_model(residuals, mean='Constant', vol='EGARCH', dist='t', p=1, q=1)\n",
        "model_fit = ag_model.fit(disp=\"off\")\n",
        "model_fit.summary()"
      ]
    },
    {
      "cell_type": "code",
      "execution_count": null,
      "metadata": {
        "colab": {
          "base_uri": "https://localhost:8080/"
        },
        "id": "VoALrWVP9gph",
        "outputId": "a0445b6b-a10c-43d9-f19e-16e082adb9b0"
      },
      "outputs": [
        {
          "name": "stdout",
          "output_type": "stream",
          "text": [
            "-0.5879540644876107\n"
          ]
        }
      ],
      "source": [
        "condvol = model_fit.conditional_volatility\n",
        "#long run average variance per day\n",
        "lravd = model_fit.params['omega'] / (1-model_fit.params['alpha[1]']-model_fit.params['beta[1]'])\n",
        "#pd.plotting.register_matplotlib_converters()\n",
        "#plt.plot(condvol)\n",
        "print(lravd)"
      ]
    },
    {
      "cell_type": "markdown",
      "metadata": {
        "id": "kXD18pa098Yf"
      },
      "source": [
        "https://www.fnspace.com/Community/CommunityView?rno=140\n",
        "\n",
        "I DONT GET IT WHY LRAVD KEEP GETTING TO Z"
      ]
    },
    {
      "cell_type": "code",
      "execution_count": null,
      "metadata": {
        "colab": {
          "base_uri": "https://localhost:8080/"
        },
        "id": "cKbBbc_KuF4X",
        "outputId": "7f8c8e60-f9d8-4575-af97-0d0be240621c"
      },
      "outputs": [
        {
          "name": "stdout",
          "output_type": "stream",
          "text": [
            "1366    1.139607\n",
            "1367    0.876171\n",
            "1368    1.034432\n",
            "1369    0.309031\n",
            "1370    0.197453\n",
            "          ...   \n",
            "1529    0.511520\n",
            "1530    0.511520\n",
            "1531    0.511520\n",
            "1532    0.511520\n",
            "1533    0.511520\n",
            "Name: predicted_mean, Length: 168, dtype: float64\n"
          ]
        },
        {
          "name": "stderr",
          "output_type": "stream",
          "text": [
            "/usr/local/lib/python3.10/dist-packages/statsmodels/tsa/base/tsa_model.py:834: ValueWarning: No supported index is available. Prediction results will be given with an integer index beginning at `start`.\n",
            "  return get_prediction_index(\n"
          ]
        }
      ],
      "source": [
        "output = model_fit.forecast(steps=24*7)\n",
        "\n",
        "print(output)"
      ]
    },
    {
      "cell_type": "markdown",
      "metadata": {
        "id": "S9dY6xEZuxf9"
      },
      "source": [
        "https://doheon.github.io/%EC%84%B1%EB%8A%A5%EB%B9%84%EA%B5%90/time-series/ci-6.compare-post/\n",
        "\n",
        "https://core.ac.uk/download/pdf/234626643.pdf\n",
        "\n",
        "https://www.linkedin.com/pulse/taming-market-beast-predicting-volatility-garch-models-dfi-labs\n",
        "\n",
        "https://colab.research.google.com/drive/1zSlcnL3I-bix8vWEIl6YCYLs6nedClIA?usp=sharing#scrollTo=JnlRWjKhhPbq\n",
        "\n",
        "https://chat.openai.com/share/de598373-19b3-4abf-92da-8448fbda46f1\n"
      ]
    },
    {
      "cell_type": "markdown",
      "source": [
        "#reflection?"
      ],
      "metadata": {
        "id": "UxJ8tmGfwA5l"
      }
    },
    {
      "cell_type": "markdown",
      "source": [
        "**Evaluation of the Project:**\n",
        "\n",
        "**Completeness and Comprehensiveness:**\n",
        "The project is quite comprehensive, covering a wide range of techniques for time series analysis and modeling. It begins with data preparation, including importing necessary libraries, loading financial data, and performing data transformations like normalization and scaling. The project then applies various time series models to the data, as follows:\n",
        "\n",
        "1. **LSTM Modeling:** The project starts with LSTM modeling for time series forecasting. It defines an LSTM neural network architecture using Keras and TensorFlow, tunes hyperparameters using GridSearchCV, and evaluates the LSTM model's accuracy using root mean squared error (RMSE).\n",
        "\n",
        "2. **Volatility Analysis:** Next, the project calculates and visualizes the historical volatility of Tesla stock returns using the rolling standard deviation.\n",
        "\n",
        "3. **Cointegration Analysis:** The project then proceeds to cointegration analysis between Tesla and Meta assets. It uses the Augmented Dickey-Fuller (ADF) test to check stationarity, and `statsmodels.tsa.stattools.coint` to perform the cointegration test.\n",
        "\n",
        "4. **VECM (Vector Error Correction Model):** VECM is utilized to estimate the cointegration relationship between the two assets. It fits the VECM model and obtains cointegration residuals for further analysis.\n",
        "\n",
        "5. **Bootstrapping:** Bootstrapping is applied to estimate the volatility of cointegration residuals. It involves resampling the residuals to obtain multiple volatility estimates, allowing for uncertainty assessment.\n",
        "\n",
        "6. **GARCH (Generalized Autoregressive Conditional Heteroskedasticity):** GARCH modeling is used to capture the time-varying volatility in the cointegration residuals. It involves fitting a GARCH model to the bootstrapped residuals and extracting conditional volatility estimates.\n",
        "\n",
        "7. **ARIMA (AutoRegressive Integrated Moving Average):** ARIMA modeling is performed on the cointegration residuals to forecast future values. The `statsmodels.tsa.arima.model.ARIMA` class is used to fit and forecast the ARIMA model.\n",
        "\n",
        "8. **Forecast Evaluation:** The project evaluates the forecasted volatility using various metrics, such as MSE, RMSE, MAPE, and percentage accuracy.\n",
        "\n",
        "**Complexity of Techniques:**\n",
        "The project incorporates various advanced time series techniques, including LSTM modeling, cointegration analysis, VECM, bootstrapping, GARCH modeling, and ARIMA modeling. These techniques require a good understanding of time series analysis, financial econometrics, and machine learning. The use of hyperparameter tuning with GridSearchCV and bootstrapping adds complexity to the project.\n",
        "\n",
        "**Ways to Improve:**\n",
        "1. **Model Interpretation:** Provide detailed explanations of the intuition and concepts behind each model and method to make the analysis more accessible to readers with varying levels of expertise.\n",
        "2. **Comparative Analysis:** Perform a comparative analysis of different models' performance, such as comparing LSTM with ARIMA or GARCH, to identify the most suitable model for the specific dataset and forecasting task.\n",
        "3. **Data Preprocessing:** Discuss the importance of data preprocessing steps, handling outliers, and ensuring data integrity.\n",
        "4. **Longer Historical Data:** Consider using a longer historical data period for analysis to capture a broader market trend and improve model accuracy.\n",
        "5. **Out-of-Sample Evaluation:** Evaluate the models' performance on out-of-sample data to assess their ability to generalize to unseen data.\n",
        "6. **Ensemble Techniques:** Explore ensemble techniques that combine predictions from different models to potentially improve overall forecasting accuracy and robustness.\n",
        "7. **Backtesting and Trading Strategy:** If applicable, backtest the trading strategy based on the forecasted signals and evaluate its performance using portfolio metrics like Sharpe ratio.\n",
        "8. **Deployment and Real-Time Forecasting:** Discuss how the models could be deployed for real-time forecasting and updating as new data becomes available.\n",
        "9. **Model Explainability:** For machine learning models like LSTM, consider techniques to interpret model predictions and identify the most influential features in the forecast.\n",
        "10. **Robustness Analysis:** Perform sensitivity analysis on key model parameters and hyperparameters to understand their impact on the forecasting results.\n",
        "\n",
        "By incorporating these improvements, the project would become more insightful, robust, and practical for financial forecasting and decision-making, making it a valuable resource for investors and finance professionals."
      ],
      "metadata": {
        "id": "AQt7quuvv6zH"
      }
    }
  ],
  "metadata": {
    "colab": {
      "provenance": [],
      "authorship_tag": "ABX9TyMOVbpoXaT70Re82TukSaEB",
      "include_colab_link": true
    },
    "kernelspec": {
      "display_name": "Python 3",
      "name": "python3"
    },
    "language_info": {
      "name": "python"
    }
  },
  "nbformat": 4,
  "nbformat_minor": 0
}